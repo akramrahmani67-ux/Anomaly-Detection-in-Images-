{
  "nbformat": 4,
  "nbformat_minor": 0,
  "metadata": {
    "colab": {
      "provenance": []
    },
    "kernelspec": {
      "name": "python3",
      "display_name": "Python 3"
    },
    "language_info": {
      "name": "python"
    }
  },
  "cells": [
    {
      "cell_type": "code",
      "execution_count": 1,
      "metadata": {
        "colab": {
          "base_uri": "https://localhost:8080/"
        },
        "id": "YKtJwU0GEfOy",
        "outputId": "dc8a820d-006d-4f74-c582-4f082c447a98"
      },
      "outputs": [
        {
          "output_type": "stream",
          "name": "stdout",
          "text": [
            "Welcome to Venus Club\n",
            "Meet. Create. Inspire.\n",
            "Join us every Friday at 7 PM.\n",
            "Visit: venusclub.org\n"
          ]
        }
      ],
      "source": [
        "message = \"\"\"\n",
        "Welcome to Venus Club\n",
        "Meet. Create. Inspire.\n",
        "Join us every Friday at 7 PM.\n",
        "Visit: venusclub.org\n",
        "\"\"\"\n",
        "print(message.strip())\n"
      ]
    }
  ]
}