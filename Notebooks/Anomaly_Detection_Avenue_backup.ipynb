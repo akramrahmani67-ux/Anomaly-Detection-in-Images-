{
 "cells": [
  {
   "cell_type": "code",
   "execution_count": null,
   "metadata": {
    "colab": {
     "base_uri": "https://localhost:8080/"
    },
    "id": "4bBfW7A9A1jL",
    "outputId": "0bdeddf1-57da-44ba-adf8-8fc5905c4dfb"
   },
   "outputs": [
    {
     "name": "stdout",
     "output_type": "stream",
     "text": [
      "Mounted at /content/drive\n"
     ]
    }
   ],
   "source": [
    "from google.colab import drive\n",
    "drive.mount('/content/drive')\n"
   ]
  },
  {
   "cell_type": "code",
   "execution_count": null,
   "metadata": {
    "id": "fLJK7oO69W-R"
   },
   "outputs": [],
   "source": [
    "# !wget -O \"https://drive.google.com/drive/folders/163a6BaNwZ_0g6hqYMVECM4dcw8Awyg9X?usp=sharing\""
   ]
  },
  {
   "cell_type": "code",
   "execution_count": null,
   "metadata": {
    "colab": {
     "base_uri": "https://localhost:8080/"
    },
    "id": "Yk1hUcksBFKG",
    "outputId": "7eec98f1-cca6-4af7-fa2f-44351617a09f"
   },
   "outputs": [
    {
     "name": "stdout",
     "output_type": "stream",
     "text": [
      "--2025-07-16 11:03:30--  https://www.cse.cuhk.edu.hk/leojia/projects/detectabnormal/Avenue_Dataset.zip\n",
      "Resolving www.cse.cuhk.edu.hk (www.cse.cuhk.edu.hk)... 137.189.91.192\n",
      "Connecting to www.cse.cuhk.edu.hk (www.cse.cuhk.edu.hk)|137.189.91.192|:443... connected.\n",
      "HTTP request sent, awaiting response... 200 OK\n",
      "Length: 813227845 (776M) [application/zip]\n",
      "Saving to: ‘Avenue_Dataset.zip’\n",
      "\n",
      "Avenue_Dataset.zip  100%[===================>] 775.55M  13.4MB/s    in 51s     \n",
      "\n",
      "2025-07-16 11:04:22 (15.2 MB/s) -\n",
      "... [خلاصه شد] ...\n"
     ]
    }
   ],
   "source": [
    "!wget -O Avenue_Dataset.zip \"https://www.cse.cuhk.edu.hk/leojia/projects/detectabnormal/Avenue_Dataset.zip\""
   ]
  },
  {
   "cell_type": "code",
   "execution_count": null,
   "metadata": {
    "id": "U_qEg4y0CEAT"
   },
   "outputs": [],
   "source": [
    "!unzip -q Avenue_Dataset.zip -d Avenue_Dataset\n"
   ]
  },
  {
   "cell_type": "code",
   "execution_count": null,
   "metadata": {
    "colab": {
     "base_uri": "https://localhost:8080/"
    },
    "id": "Y-l6CNwGCEO1",
    "outputId": "46d97d90-e91f-4cd5-d5a1-c003989b3104"
   },
   "outputs": [
    {
     "data": {
      "text/plain": [
       "['Avenue Dataset']"
      ]
     },
     "execution_count": 5,
     "output_type": "execute_result"
    }
   ],
   "source": [
    "import os\n",
    "os.listdir(\"Avenue_Dataset\")\n"
   ]
  },
  {
   "cell_type": "code",
   "execution_count": null,
   "metadata": {
    "colab": {
     "base_uri": "https://localhost:8080/"
    },
    "id": "MhNPY9AfCEd2",
    "outputId": "6d1b9718-c43c-4568-f7df-239c9cd4ff01"
   },
   "outputs": [
    {
     "name": "stdout",
     "output_type": "stream",
     "text": [
      "--2025-07-16 11:04:33--  https://www.cse.cuhk.edu.hk/leojia/projects/detectabnormal/ground_truth_demo.zip\n",
      "Resolving www.cse.cuhk.edu.hk (www.cse.cuhk.edu.hk)... 137.189.91.192\n",
      "Connecting to www.cse.cuhk.edu.hk (www.cse.cuhk.edu.hk)|137.189.91.192|:443... connected.\n",
      "HTTP request sent, awaiting response... 200 OK\n",
      "Length: 931269 (909K) [application/zip]\n",
      "Saving to: ‘ground_truth_demo.zip’\n",
      "\n",
      "ground_truth_demo.z 100%[===================>] 909.44K   553KB/s    in 1.6s    \n",
      "\n",
      "2025-07-16 11:04:36 (553 KB/s)\n",
      "... [خلاصه شد] ...\n"
     ]
    }
   ],
   "source": [
    "!wget -O ground_truth_demo.zip \"https://www.cse.cuhk.edu.hk/leojia/projects/detectabnormal/ground_truth_demo.zip\"\n"
   ]
  },
  {
   "cell_type": "code",
   "execution_count": null,
   "metadata": {
    "id": "eRcLwWCVCEu5"
   },
   "outputs": [],
   "source": [
    "!unzip -q ground_truth_demo.zip -d ground_truth_demo\n"
   ]
  },
  {
   "cell_type": "code",
   "execution_count": null,
   "metadata": {
    "colab": {
     "base_uri": "https://localhost:8080/"
    },
    "id": "J-nVz9ptCeeO",
    "outputId": "6bcab2b9-4ba5-4ea0-c855-56829fbc8009"
   },
   "outputs": [
    {
     "data": {
      "text/plain": [
       "['ground_truth_demo']"
      ]
     },
     "execution_count": 8,
     "output_type": "execute_result"
    }
   ],
   "source": [
    "import os\n",
    "os.listdir(\"ground_truth_demo\")\n"
   ]
  },
  {
   "cell_type": "code",
   "execution_count": null,
   "metadata": {
    "colab": {
     "base_uri": "https://localhost:8080/"
    },
    "id": "g4o7ibWPDbVT",
    "outputId": "86eb1d85-3b61-4626-8ece-ff5c291669ba"
   },
   "outputs": [
    {
     "name": "stdout",
     "output_type": "stream",
     "text": [
      "Requirement already satisfied: scipy in /usr/local/lib/python3.11/dist-packages (1.15.3)\n",
      "Requirement already satisfied: opencv-python in /usr/local/lib/python3.11/dist-packages (4.11.0.86)\n",
      "Requirement already satisfied: numpy<2.5,>=1.23.5 in /usr/local/lib/python3.11/dist-packages (from scipy) (2.0.2)\n"
     ]
    }
   ],
   "source": [
    "!pip install scipy opencv-python\n"
   ]
  },
  {
   "cell_type": "code",
   "execution_count": null,
   "metadata": {
    "colab": {
     "base_uri": "https://localhost:8080/"
    },
    "id": "KryLHMRVDcmj",
    "outputId": "81853300-f70e-471b-dc02-64b90df1fc91"
   },
   "outputs": [
    {
     "name": "stdout",
     "output_type": "stream",
     "text": [
      "✅ Mask folder cleaned and valid files copied.\n"
     ]
    },
    {
     "name": "stderr",
     "output_type": "stream",
     "text": [
      "Processing video 10: 100%|██████████| 841/841 [00:01<00:00, 431.98it/s]\n",
      "Processing video 11: 100%|██████████| 472/472 [00:01<00:00, 440.07it/s]\n",
      "Processing video 12: 100%|██████████| 1271/1271 [00:05<00:00, 246.01it/s]\n",
      "Processing video 13: 100%|██████████| 549/549 [00:02<00:00, 240.82it/s]\n",
      "Processing video 14: 100%|██████████| 507/507 [00:03<00:00, 160.34it/s]\n",
      "Processing video 15: 100%|██████████| 1001/1001 [00:07<00:00, 136.96it/s]\n",
      "Processing video 16: 100%|██████████| 740/740 [00:03<00:00, 234.\n",
      "... [خلاصه شد] ...\n"
     ]
    },
    {
     "name": "stdout",
     "output_type": "stream",
     "text": [
      "\n",
      "✅ Normal and abnormal frames were successfully separated.\n"
     ]
    },
    {
     "name": "stderr",
     "output_type": "stream",
     "text": [
      "\n"
     ]
    }
   ],
   "source": [
    "import os\n",
    "import shutil\n",
    "import cv2\n",
    "import numpy as np\n",
    "from scipy.io import loadmat\n",
    "from tqdm import tqdm\n",
    "\n",
    "# Paths\n",
    "video_folder = \"/content/Avenue_Dataset/Avenue Dataset/testing_videos\"\n",
    "original_mask_folder = \"ground_truth_demo/ground_truth_demo/testing_label_mask\"\n",
    "target_mask_folder = \"Avenue_Dataset/testing_vol\"\n",
    "\n",
    "# Step 1: Clean and prepare the mask folder\n",
    "if os.path.exists(target_mask_folder):\n",
    "    shutil.rmtree(target_mask_folder)\n",
    "os.makedirs(target_mask_folder, exist_ok=True)\n",
    "\n",
    "# Copy only valid files (with format X_label.mat)\n",
    "for file in os.listdir(original_mask_folder):\n",
    "    if file.endswith(\"_label.mat\"):\n",
    "        shutil.copy(\n",
    "            os.path.join(original_mask_folder, file),\n",
    "            os.path.join(target_mask_folder, file)\n",
    "        )\n",
    "print(\"✅ Mask folder cleaned and valid files copied.\")\n",
    "\n",
    "# Output paths for frames\n",
    "normal_out = \"frames_normal\"\n",
    "abnormal_out = \"frames_abnormal\"\n",
    "os.makedirs(normal_out, exist_ok=True)\n",
    "os.makedirs(abnormal_out, exist_ok=True)\n",
    "\n",
    "# Extract video numbers from mask filenames\n",
    "available_masks = sorted([\n",
    "    f for f in os.listdir(target_mask_folder) if f.endswith(\"_label.mat\")\n",
    "])\n",
    "video_indices = [int(f.split(\"_\")[0]) for f in available_masks]\n",
    "\n",
    "# Step 2: Separate normal and abnormal frames\n",
    "for video_idx in video_indices:\n",
    "    video_path = os.path.join(video_folder, f\"{video_idx:02d}.avi\")\n",
    "    mask_path = os.path.join(target_mask_folder, f\"{video_idx}_label.mat\")\n",
    "\n",
    "    if not os.path.exists(video_path):\n",
    "        print(f\"⚠️ Video not found: {video_path}\")\n",
    "        continue\n",
    "\n",
    "    cap = cv2.VideoCapture(video_path)\n",
    "    mask_data = loadmat(mask_path)\n",
    "    volLabel = mask_data['volLabel'][0]\n",
    "\n",
    "    frame_num = 0\n",
    "    pbar = tqdm(total=len(volLabel), desc=f\"Processing video {video_idx:02d}\")\n",
    "\n",
    "    while True:\n",
    "        ret, frame = cap.read()\n",
    "        if not ret or frame_num >= len(volLabel):\n",
    "            break\n",
    "\n",
    "        mask = volLabel[frame_num]\n",
    "        frame_resized = cv2.resize(frame, (mask.shape[1], mask.shape[0]))\n",
    "\n",
    "        if np.sum(mask) == 0:\n",
    "            save_path = os.path.join(normal_out, f\"{video_idx:02d}_{frame_num:04d}.jpg\")\n",
    "        else:\n",
    "            save_path = os.path.join(abnormal_out, f\"{video_idx:02d}_{frame_num:04d}.jpg\")\n",
    "\n",
    "        cv2.imwrite(save_path, frame_resized)\n",
    "        frame_num += 1\n",
    "        pbar.update(1)\n",
    "\n",
    "    cap.release()\n",
    "    pbar.close()\n",
    "\n",
    "print(\"\\n✅ Normal and abnormal frames were successfully separated.\")\n"
   ]
  },
  {
   "cell_type": "code",
   "execution_count": null,
   "metadata": {
    "colab": {
     "base_uri": "https://localhost:8080/"
    },
    "id": "POwPWX5pEX34",
    "outputId": "faa297f9-4cc9-407d-d37c-ee341723b3db"
   },
   "outputs": [
    {
     "name": "stdout",
     "output_type": "stream",
     "text": [
      "✅ Number of normal frames: 11612\n",
      "🚨 Number of abnormal frames: 3712\n",
      "📊 Total number of frames: 15324\n"
     ]
    }
   ],
   "source": [
    "import os\n",
    "\n",
    "# Output paths for frames\n",
    "normal_out = \"frames_normal\"\n",
    "abnormal_out = \"frames_abnormal\"\n",
    "\n",
    "# Count files in each folder\n",
    "num_normal = len([f for f in os.listdir(normal_out) if f.endswith(\".jpg\")])\n",
    "num_abnormal = len([f for f in os.listdir(abnormal_out) if f.endswith(\".jpg\")])\n",
    "\n",
    "# Print results\n",
    "print(f\"✅ Number of normal frames: {num_normal}\")\n",
    "print(f\"🚨 Number of abnormal frames: {num_abnormal}\")\n",
    "print(f\"📊 Total number of frames: {num_normal + num_abnormal}\")\n"
   ]
  },
  {
   "cell_type": "code",
   "execution_count": null,
   "metadata": {
    "colab": {
     "base_uri": "https://localhost:8080/"
    },
    "id": "ZDr41RUeGjGu",
    "outputId": "a2cd7f31-c441-462c-ae54-89c2691c75d3"
   },
   "outputs": [
    {
     "name": "stdout",
     "output_type": "stream",
     "text": [
      "✅ Dataset successfully balanced with geometric augmentation only.\n",
      "🔹 Normal frames: 11612\n",
      "🔸 Abnormal frames (original + augmented): 11612\n"
     ]
    }
   ],
   "source": [
    "import os\n",
    "import cv2\n",
    "import random\n",
    "import shutil\n",
    "import numpy as np\n",
    "\n",
    "# Paths\n",
    "normal_dir = \"frames_normal\"\n",
    "abnormal_dir = \"frames_abnormal\"\n",
    "balanced_dir = \"frames_balanced\"\n",
    "\n",
    "# Output paths\n",
    "balanced_normal = os.path.join(balanced_dir, \"normal\")\n",
    "balanced_abnormal = os.path.join(balanced_dir, \"abnormal\")\n",
    "os.makedirs(balanced_normal, exist_ok=True)\n",
    "os.makedirs(balanced_abnormal, exist_ok=True)\n",
    "\n",
    "# List of files\n",
    "normal_files = [f for f in os.listdir(normal_dir) if f.endswith(\".jpg\")]\n",
    "abnormal_files = [f for f in os.listdir(abnormal_dir) if f.endswith(\".jpg\")]\n",
    "\n",
    "# Counts\n",
    "num_normal = len(normal_files)\n",
    "num_abnormal = len(abnormal_files)\n",
    "\n",
    "# Copy all normal frames\n",
    "for f in normal_files:\n",
    "    shutil.copy(os.path.join(normal_dir, f), os.path.join(balanced_normal, f))\n",
    "\n",
    "# ✅ Augmentation functions (geometry only)\n",
    "def rotate_image(img, angle):\n",
    "    h, w = img.shape[:2]\n",
    "    M = cv2.getRotationMatrix2D((w/2, h/2), angle, 1)\n",
    "    return cv2.warpAffine(img, M, (w, h))\n",
    "\n",
    "def flip_image(img):\n",
    "    return [cv2.flip(img, 0), cv2.flip(img, 1)]  # vertical and horizontal\n",
    "\n",
    "def scale_image(img, scale=1.2):\n",
    "    h, w = img.shape[:2]\n",
    "    resized = cv2.resize(img, (int(w * scale), int(h * scale)))\n",
    "    center_crop = resized[\n",
    "        int((resized.shape[0] - h) / 2):int((resized.shape[0] + h) / 2),\n",
    "        int((resized.shape[1] - w) / 2):int((resized.shape[1] + w) / 2)\n",
    "    ]\n",
    "    return center_crop\n",
    "\n",
    "def translate_image(img, tx=10, ty=10):\n",
    "    M = np.float32([[1, 0, tx], [0, 1, ty]])\n",
    "    return cv2.warpAffine(img, M, (img.shape[1], img.shape[0]))\n",
    "\n",
    "def crop_random(img):\n",
    "    h, w = img.shape[:2]\n",
    "    crop_size = int(min(h, w) * 0.85)\n",
    "    x = random.randint(0, w - crop_size)\n",
    "    y = random.randint(0, h - crop_size)\n",
    "    crop = img[y:y+crop_size, x:x+crop_size]\n",
    "    return cv2.resize(crop, (w, h))\n",
    "\n",
    "def augment_image(img):\n",
    "    aug_list = []\n",
    "    aug_list.append(rotate_image(img, 90))\n",
    "    aug_list.append(rotate_image(img, 180))\n",
    "    aug_list.append(rotate_image(img, 270))\n",
    "    aug_list.extend(flip_image(img))\n",
    "    aug_list.append(scale_image(img, 1.2))\n",
    "    aug_list.append(translate_image(img, tx=15, ty=15))\n",
    "    aug_list.append(crop_random(img))\n",
    "    return aug_list\n",
    "\n",
    "# Augment abnormal images until count matches normal\n",
    "augmented_count = 0\n",
    "index = 0\n",
    "\n",
    "while (num_abnormal + augmented_count) < num_normal:\n",
    "    filename = abnormal_files[index % len(abnormal_files)]\n",
    "    img_path = os.path.join(abnormal_dir, filename)\n",
    "    img = cv2.imread(img_path)\n",
    "\n",
    "    aug_imgs = augment_image(img)\n",
    "    for aug in aug_imgs:\n",
    "        if (num_abnormal + augmented_count) >= num_normal:\n",
    "            break\n",
    "        aug_filename = f\"aug_{augmented_count:05d}_{filename}\"\n",
    "        cv2.imwrite(os.path.join(balanced_abnormal, aug_filename), aug)\n",
    "        augmented_count += 1\n",
    "\n",
    "    index += 1\n",
    "\n",
    "# Copy original abnormal frames\n",
    "for f in abnormal_files:\n",
    "    shutil.copy(os.path.join(abnormal_dir, f), os.path.join(balanced_abnormal, f))\n",
    "\n",
    "# Final counts\n",
    "final_normal = len(os.listdir(balanced_normal))\n",
    "final_abnormal = len(os.listdir(balanced_abnormal))\n",
    "\n",
    "print(\"✅ Dataset successfully balanced with geometric augmentation only.\")\n",
    "print(f\"🔹 Normal frames: {final_normal}\")\n",
    "print(f\"🔸 Abnormal frames (original + augmented): {final_abnormal}\")\n"
   ]
  },
  {
   "cell_type": "code",
   "execution_count": null,
   "metadata": {
    "colab": {
     "base_uri": "https://localhost:8080/",
     "height": 927,
     "referenced_widgets": [
      "e2157381e3e94dbc8d5c2ca24b898eae",
      "4f4dcf5697d44a0fbd151cc4068b8759",
      "d9a6c118786a4094be6e5e7b041633bf",
      "9c76e4be55c2438a81b263c29cb018db",
      "e15ec4fa88d34872a64829f3a7b7d644",
      "9b80976c3b8945a384c1c822a4ca8737",
      "21f6888d0a34477da21307921015f59c",
      "b8df530ce45a4139a4c4067227ba2697",
      "59ca09edaaa14fc89fe051bfca1a5171",
      "9145aaf17baa42ea99367d1b7167f62c",
      "0d0510ae9d82419084ea45f9fb7311b0",
      "676a9e491c1142f5816a8b8d2d2b66ff",
      "3aa2b5ff3c3543ffa176853860d6388c",
      "30a7f54bebfa476199f2cffa29f81f74",
      "4eb70585d93e41f686f9b72058cea05a",
      "0d732b82ffe44c718aa80b67df714714",
      "7e1f911141b047f28a455d46755ca0eb",
      "3bd8abed0e724d1db3445ae31ee94b77",
      "5dc8ee076b86461996f3e307ccf30a2b",
      "4909357c361947ef9ee23340205cfb5b",
      "a43d5934af244e60a77146dcab9e0a39",
      "d1f9ed976f15431e8ed095a6907e3d05",
      "57bbaf10098d47b48fa19f8b37ea5622",
      "883b24d139e84f5cbe2f6ca0e370e457",
      "535e897df7e04e8292a2a209c31a8c8d",
      "893ffed14a004ae5b0b3529d6658a9f8",
      "2095f2eacaa1428681190f19caf27560",
      "7c19068b4d004bcd8908b70d294d62b4",
      "2ab4cda38dc64830a9b5d547e551ea29",
      "4eeb34629f3b41bbb206fe27865cf22a",
      "f495eee191d844d6ac3c54ebe0da8a07",
      "d2dcf1c2e35b4a6aae66a910d17ce5e5",
      "86a1812ba91e4125a9e282543dc86907",
      "5ca224c62c12434985651dc2f445d1c0",
      "ade40b43ae9e4110a81b29b152b5b9f7",
      "9da824379c3d46b986c917b3e61894c6",
      "48b9d60caeca485c82dde2d6edbe26dc",
      "a7f5b9b81ce443738d78ecde9702c020",
      "4f1f4c9b05b34153aa6cfe38051a859e",
      "4b1b882b3a5742d0b57608ac7549a9af",
      "181f1c459bbb423f9b857c7b776b8b73",
      "1a0623f272b74b78a175fb9efbbe3dc5",
      "84aa53fbea174846ad8569b1286734ff",
      "f0293a56eaf149f986ca49fcfc6c1de7",
      "70b32c8c52a04fbc968c33ad2324e7e9",
      "6c4625ddac3841f39263d4c1487a35e2",
      "f9756434071842a5b03e599408931666",
      "c310234d36254596978bfcebdc72fbdf",
      "a35774c665864b239f12693112d52129",
      "43c185a82fe14e5480ba88ceb49105d2",
      "1f3565172dcc4f34a77ba17c80a4858d",
      "72193b25e06c4e14aa4ca0cb797e4d8a",
      "62e789a17980432994b2ad1a63ddd123",
      "e3307514cdb44cecabef1b862f034857",
      "5fe8a977b93e470980ccd924ff92b567"
     ]
    },
    "id": "VWL8iPGp-mdv",
    "outputId": "39d5de9d-fcc2-4f29-e88b-88f5c67406d0"
   },
   "outputs": [
    {
     "name": "stdout",
     "output_type": "stream",
     "text": [
      "\n",
      "🔧 Processing model: convnext_tiny\n",
      "🔹 Extracting NORMAL features...\n"
     ]
    },
    {
     "name": "stderr",
     "output_type": "stream",
     "text": [
      "Extracting features: 100%|██████████| 11612/11612 [02:29<00:00, 77.92it/s]\n"
     ]
    },
    {
     "name": "stdout",
     "output_type": "stream",
     "text": [
      "🔸 Extracting ANOMALY features...\n"
     ]
    },
    {
     "name": "stderr",
     "output_type": "stream",
     "text": [
      "Extracting features: 100%|██████████| 11612/11612 [02:24<00:00, 80.36it/s]\n"
     ]
    },
    {
     "name": "stdout",
     "output_type": "stream",
     "text": [
      "✅ Saved features for model: convnext_tiny\n",
      "\n",
      "🔧 Processing model: repvgg_a0\n"
     ]
    },
    {
     "data": {
      "application/vnd.jupyter.widget-view+json": {
       "model_id": "e2157381e3e94dbc8d5c2ca24b898eae",
       "version_major": 2,
       "version_minor": 0
      },
      "text/plain": [
       "model.safetensors:   0%|          | 0.00/36.6M [00:00<?, ?B/s]"
      ]
     },
     "output_type": "display_data"
    },
    {
     "name": "stdout",
     "output_type": "stream",
     "text": [
      "🔹 Extracting NORMAL features...\n"
     ]
    },
    {
     "name": "stderr",
     "output_type": "stream",
     "text": [
      "Extracting features: 100%|██████████| 11612/11612 [02:35<00:00, 74.81it/s]\n"
     ]
    },
    {
     "name": "stdout",
     "output_type": "stream",
     "text": [
      "🔸 Extracting ANOMALY features...\n"
     ]
    },
    {
     "name": "stderr",
     "output_type": "stream",
     "text": [
      "Extracting features: 100%|██████████| 11612/11612 [02:32<00:00, 76.19it/s]\n"
     ]
    },
    {
     "name": "stdout",
     "output_type": "stream",
     "text": [
      "✅ Saved features for model: repvgg_a0\n",
      "\n",
      "🔧 Processing model: mobileone_s0\n"
     ]
    },
    {
     "data": {
      "application/vnd.jupyter.widget-view+json": {
       "model_id": "676a9e491c1142f5816a8b8d2d2b66ff",
       "version_major": 2,
       "version_minor": 0
      },
      "text/plain": [
       "model.safetensors:   0%|          | 0.00/21.7M [00:00<?, ?B/s]"
      ]
     },
     "output_type": "display_data"
    },
    {
     "name": "stdout",
     "output_type": "stream",
     "text": [
      "🔹 Extracting NORMAL features...\n"
     ]
    },
    {
     "name": "stderr",
     "output_type": "stream",
     "text": [
      "Extracting features: 100%|██████████| 11612/11612 [06:14<00:00, 31.00it/s]\n"
     ]
    },
    {
     "name": "stdout",
     "output_type": "stream",
     "text": [
      "🔸 Extracting ANOMALY features...\n"
     ]
    },
    {
     "name": "stderr",
     "output_type": "stream",
     "text": [
      "Extracting features: 100%|██████████| 11612/11612 [06:08<00:00, 31.53it/s]\n"
     ]
    },
    {
     "name": "stdout",
     "output_type": "stream",
     "text": [
      "✅ Saved features for model: mobileone_s0\n",
      "\n",
      "🔧 Processing model: poolformer_s12\n"
     ]
    },
    {
     "data": {
      "application/vnd.jupyter.widget-view+json": {
       "model_id": "57bbaf10098d47b48fa19f8b37ea5622",
       "version_major": 2,
       "version_minor": 0
      },
      "text/plain": [
       "model.safetensors:   0%|          | 0.00/47.7M [00:00<?, ?B/s]"
      ]
     },
     "output_type": "display_data"
    },
    {
     "name": "stdout",
     "output_type": "stream",
     "text": [
      "🔹 Extracting NORMAL features...\n"
     ]
    },
    {
     "name": "stderr",
     "output_type": "stream",
     "text": [
      "Extracting features: 100%|██████████| 11612/11612 [02:16<00:00, 85.16it/s]\n"
     ]
    },
    {
     "name": "stdout",
     "output_type": "stream",
     "text": [
      "🔸 Extracting ANOMALY features...\n"
     ]
    },
    {
     "name": "stderr",
     "output_type": "stream",
     "text": [
      "Extracting features: 100%|██████████| 11612/11612 [02:14<00:00, 86.14it/s]\n"
     ]
    },
    {
     "name": "stdout",
     "output_type": "stream",
     "text": [
      "✅ Saved features for model: poolformer_s12\n",
      "\n",
      "🔧 Processing model: maxvit_tiny_tf_224\n"
     ]
    },
    {
     "data": {
      "application/vnd.jupyter.widget-view+json": {
       "model_id": "5ca224c62c12434985651dc2f445d1c0",
       "version_major": 2,
       "version_minor": 0
      },
      "text/plain": [
       "model.safetensors:   0%|          | 0.00/124M [00:00<?, ?B/s]"
      ]
     },
     "output_type": "display_data"
    },
    {
     "name": "stdout",
     "output_type": "stream",
     "text": [
      "🔹 Extracting NORMAL features...\n"
     ]
    },
    {
     "name": "stderr",
     "output_type": "stream",
     "text": [
      "Extracting features: 100%|██████████| 11612/11612 [07:14<00:00, 26.70it/s]\n"
     ]
    },
    {
     "name": "stdout",
     "output_type": "stream",
     "text": [
      "🔸 Extracting ANOMALY features...\n"
     ]
    },
    {
     "name": "stderr",
     "output_type": "stream",
     "text": [
      "Extracting features: 100%|██████████| 11612/11612 [06:58<00:00, 27.73it/s]\n"
     ]
    },
    {
     "name": "stdout",
     "output_type": "stream",
     "text": [
      "✅ Saved features for model: maxvit_tiny_tf_224\n",
      "\n",
      "🔧 Processing model: coatnet_0_rw_224\n"
     ]
    },
    {
     "data": {
      "application/vnd.jupyter.widget-view+json": {
       "model_id": "70b32c8c52a04fbc968c33ad2324e7e9",
       "version_major": 2,
       "version_minor": 0
      },
      "text/plain": [
       "model.safetensors:   0%|          | 0.00/110M [00:00<?, ?B/s]"
      ]
     },
     "output_type": "display_data"
    },
    {
     "name": "stdout",
     "output_type": "stream",
     "text": [
      "🔹 Extracting NORMAL features...\n"
     ]
    },
    {
     "name": "stderr",
     "output_type": "stream",
     "text": [
      "Extracting features: 100%|██████████| 11612/11612 [03:20<00:00, 57.85it/s]\n"
     ]
    },
    {
     "name": "stdout",
     "output_type": "stream",
     "text": [
      "🔸 Extracting ANOMALY features...\n"
     ]
    },
    {
     "name": "stderr",
     "output_type": "stream",
     "text": [
      "Extracting features: 100%|██████████| 11612/11612 [03:19<00:00, 58.32it/s]\n"
     ]
    },
    {
     "name": "stdout",
     "output_type": "stream",
     "text": [
      "✅ Saved features for model: coatnet_0_rw_224\n"
     ]
    }
   ],
   "source": [
    "import os\n",
    "import numpy as np\n",
    "import cv2\n",
    "import torch\n",
    "import timm\n",
    "from tqdm import tqdm\n",
    "from torchvision import transforms\n",
    "\n",
    "# ⚙️ Settings\n",
    "IMG_SIZE = 224\n",
    "device = torch.device(\"cuda\" if torch.cuda.is_available() else \"cpu\")\n",
    "\n",
    "# 📁 Data paths\n",
    "normal_dir = \"/content/frames_balanced/normal\"\n",
    "anomaly_dir = \"/content/frames_balanced/abnormal\"\n",
    "save_dir = \"/content\"\n",
    "\n",
    "# ✅ List of models\n",
    "model_names = [\n",
    "    'convnext_tiny',\n",
    "    'repvgg_a0',\n",
    "    'mobileone_s0',\n",
    "    'poolformer_s12',\n",
    "    'maxvit_tiny_tf_224',\n",
    "    'coatnet_0_rw_224'\n",
    "]\n",
    "\n",
    "# ✅ Image preprocessing\n",
    "preprocess = transforms.Compose([\n",
    "    transforms.ToPILImage(),\n",
    "    transforms.Resize((IMG_SIZE, IMG_SIZE)),\n",
    "    transforms.ToTensor(),\n",
    "    transforms.Normalize(mean=[0.485, 0.456, 0.406],\n",
    "                         std=[0.229, 0.224, 0.225])\n",
    "])\n",
    "\n",
    "# 📥 Get list of image paths\n",
    "def get_image_paths(directory):\n",
    "    return [os.path.join(directory, f)\n",
    "            for f in os.listdir(directory)\n",
    "            if f.lower().endswith(('.jpg', '.jpeg', '.png'))]\n",
    "\n",
    "# 🔍 Feature extraction\n",
    "def extract_features(model, image_paths):\n",
    "    features = []\n",
    "    for path in tqdm(image_paths, desc=\"Extracting features\"):\n",
    "        img = cv2.imread(path)\n",
    "        if img is None:\n",
    "            continue\n",
    "        img = cv2.cvtColor(img, cv2.COLOR_BGR2RGB)\n",
    "        img_tensor = preprocess(img).unsqueeze(0).to(device)\n",
    "\n",
    "        with torch.no_grad():\n",
    "            feat = model(img_tensor)\n",
    "        features.append(feat.cpu().numpy().squeeze())\n",
    "    return np.array(features)\n",
    "\n",
    "# 🔁 Run processing for each model\n",
    "for model_name in model_names:\n",
    "    print(f\"\\n🔧 Processing model: {model_name}\")\n",
    "    model = timm.create_model(model_name, pretrained=True, num_classes=0)\n",
    "    model.eval()\n",
    "\n",
    "    # ⛔ Freeze 85% of layers\n",
    "    total_layers = sum(1 for _ in model.parameters())\n",
    "    trainable_start = int(total_layers * 0.85)\n",
    "    for i, param in enumerate(model.parameters()):\n",
    "        param.requires_grad = i >= trainable_start\n",
    "    model.to(device)\n",
    "\n",
    "    # 🔹 Normal and anomaly frames\n",
    "    normal_paths = get_image_paths(normal_dir)\n",
    "    anomaly_paths = get_image_paths(anomaly_dir)\n",
    "\n",
    "    print(\"🔹 Extracting NORMAL features...\")\n",
    "    normal_features = extract_features(model, normal_paths)\n",
    "\n",
    "    print(\"🔸 Extracting ANOMALY features...\")\n",
    "    anomaly_features = extract_features(model, anomaly_paths)\n",
    "\n",
    "    # 💾 Save features\n",
    "    model_id = model_name.replace('/', '_')\n",
    "    np.save(os.path.join(save_dir, f'normal_features_{model_id}.npy'), normal_features)\n",
    "    np.save(os.path.join(save_dir, f'anomaly_features_{model_id}.npy'), anomaly_features)\n",
    "\n",
    "    print(f\"✅ Saved features for model: {model_id}\")\n"
   ]
  },
  {
   "cell_type": "code",
   "execution_count": null,
   "metadata": {
    "colab": {
     "base_uri": "https://localhost:8080/"
    },
    "id": "zPwTddfmD3uQ",
    "outputId": "2872009f-1f16-4ad2-8698-140cd54ee1eb"
   },
   "outputs": [
    {
     "name": "stdout",
     "output_type": "stream",
     "text": [
      "Model: convnext_tiny\n",
      "  Normal features shape: (11612, 768)\n",
      "  Anomaly features shape: (11612, 768)\n",
      "\n",
      "Model: repvgg_a0\n",
      "  Normal features shape: (11612, 1280)\n",
      "  Anomaly features shape: (11612, 1280)\n",
      "\n",
      "Model: mobileone_s0\n",
      "  Normal features shape: (11612, 1024)\n",
      "  Anomaly features shape: (11612, 1024)\n",
      "\n",
      "Model: poolformer_s12\n",
      "  Normal features shape: (11612, 512)\n",
      "  Anomaly features shape: (11612, 512)\n",
      "\n",
      "Model: maxvit_tiny_tf_224\n",
      "  Normal features shape: (11612, 512)\n",
      "  Anomaly features shape: (11612, 512)\n",
      "\n",
      "\n",
      "... [خلاصه شد] ...\n"
     ]
    }
   ],
   "source": [
    "import os\n",
    "import numpy as np\n",
    "\n",
    "save_dir = \"/content\"\n",
    "model_names = [\n",
    "    'convnext_tiny',\n",
    "    'repvgg_a0',\n",
    "    'mobileone_s0',\n",
    "    'poolformer_s12',\n",
    "    'maxvit_tiny_tf_224',\n",
    "    'coatnet_0_rw_224'\n",
    "]\n",
    "\n",
    "for model_name in model_names:\n",
    "    model_id = model_name.replace('/', '_')\n",
    "    normal_path = os.path.join(save_dir, f'normal_features_{model_id}.npy')\n",
    "    anomaly_path = os.path.join(save_dir, f'anomaly_features_{model_id}.npy')\n",
    "\n",
    "    normal_features = np.load(normal_path)\n",
    "    anomaly_features = np.load(anomaly_path)\n",
    "\n",
    "    print(f\"Model: {model_id}\")\n",
    "    print(f\"  Normal features shape: {normal_features.shape}\")\n",
    "    print(f\"  Anomaly features shape: {anomaly_features.shape}\\n\")\n"
   ]
  },
  {
   "cell_type": "code",
   "execution_count": null,
   "metadata": {
    "colab": {
     "base_uri": "https://localhost:8080/"
    },
    "id": "BEj0FsE2tJFF",
    "outputId": "ec4b6a4a-db93-456b-b645-1d7dec813ae7"
   },
   "outputs": [
    {
     "name": "stdout",
     "output_type": "stream",
     "text": [
      "Collecting grad-cam\n",
      "  Downloading grad-cam-1.5.5.tar.gz (7.8 MB)\n",
      "\u001b[2K     \u001b[90m━━━━━━━━━━━━━━━━━━━━━━━━━━━━━━━━━━━━━━━━\u001b[0m \u001b[32m7.8/7.8 MB\u001b[0m \u001b[31m56.0 MB/s\u001b[0m eta \u001b[36m0:00:00\u001b[0m\n",
      "\u001b[?25h  Installing build dependencies ... \u001b[?25l\u001b[?25hdone\n",
      "  Getting requirements to build wheel ... \u001b[?25l\u001b[?25hdone\n",
      "  Preparing metadata (pyproject.toml) ... \u001b[?25l\u001b[?25hdone\n",
      "Requirement already satisfied: numpy in /usr/local/lib/python3.11/dist-packages (from grad-cam) (2.0.2)\n",
      "Requirement already satisfied: Pill\n",
      "... [خلاصه شد] ...\n"
     ]
    }
   ],
   "source": [
    "!pip install grad-cam\n"
   ]
  },
  {
   "cell_type": "code",
   "execution_count": null,
   "metadata": {
    "colab": {
     "base_uri": "https://localhost:8080/",
     "height": 1000,
     "referenced_widgets": [
      "de8cc20a0f0c4f7eb1c078b32fe8b2ce",
      "8358c7dcc6464d54bc9ad72b3e1e3cb9",
      "ced619dd540e475c84fed5e96ff3d5cd",
      "48223f1141ac43268c2c8fe78de566b7",
      "6bf8cb3731df4c8ab5f641bc21c3c401",
      "a556a807ce9a4676ae79a26e872d616c",
      "49f99dc9aaf64e5da0627602432fc232",
      "c0b9ececf91445bf94b245d8a26cd81f",
      "e3e2fa2d041a4be49c079329766b88cb",
      "a0100333e3f147cc904d7409c0ae16b6",
      "bf02021c7aae427e850377878e13ef3b"
     ]
    },
    "id": "lIL6W6ys-s8s",
    "outputId": "1f18725a-db13-403f-ec57-7eaf1555ac52"
   },
   "outputs": [
    {
     "name": "stderr",
     "output_type": "stream",
     "text": [
      "/usr/local/lib/python3.11/dist-packages/huggingface_hub/utils/_auth.py:94: UserWarning: \n",
      "The secret `HF_TOKEN` does not exist in your Colab secrets.\n",
      "To authenticate with the Hugging Face Hub, create a token in your settings tab (https://huggingface.co/settings/tokens), set it as secret in your Google Colab and restart your session.\n",
      "You will be able to reuse this secret in all of your notebooks.\n",
      "Please note that authentication is recommended but still optional to access public models or datasets.\n",
      "... [خلاصه شد] ...\n"
     ]
    },
    {
     "data": {
      "application/vnd.jupyter.widget-view+json": {
       "model_id": "de8cc20a0f0c4f7eb1c078b32fe8b2ce",
       "version_major": 2,
       "version_minor": 0
      },
      "text/plain": [
       "model.safetensors:   0%|          | 0.00/36.6M [00:00<?, ?B/s]"
      ]
     },
     "output_type": "display_data"
    },
    {
     "name": "stderr",
     "output_type": "stream",
     "text": [
      "/usr/local/lib/python3.11/dist-packages/torch/nn/modules/module.py:1830: FutureWarning: Using a non-full backward hook when the forward contains multiple autograd Nodes is deprecated and will be removed in future versions. This hook will be missing some grad_input. Please use register_full_backward_hook to get the documented behavior.\n",
      "  self._maybe_warn_non_full_backward_hook(args, result, grad_fn)\n"
     ]
    },
    {
     "data": {
      "text/plain": [
       "[تصویر خروجی در فایل nb_outputs_images\\cell15_output3.png ذخیره شد]"
      ]
     },
     "output_type": "display_data"
    },
    {
     "data": {
      "text/plain": [
       "[تصویر خروجی در فایل nb_outputs_images\\cell15_output4.png ذخیره شد]"
      ]
     },
     "output_type": "display_data"
    },
    {
     "data": {
      "text/plain": [
       "[تصویر خروجی در فایل nb_outputs_images\\cell15_output5.png ذخیره شد]"
      ]
     },
     "output_type": "display_data"
    },
    {
     "data": {
      "text/plain": [
       "[تصویر خروجی در فایل nb_outputs_images\\cell15_output6.png ذخیره شد]"
      ]
     },
     "output_type": "display_data"
    },
    {
     "data": {
      "text/plain": [
       "[تصویر خروجی در فایل nb_outputs_images\\cell15_output7.png ذخیره شد]"
      ]
     },
     "output_type": "display_data"
    }
   ],
   "source": [
    "import os\n",
    "import numpy as np\n",
    "import cv2\n",
    "import torch\n",
    "import timm\n",
    "import torch.nn.functional as F\n",
    "from torchvision import transforms\n",
    "import matplotlib.pyplot as plt\n",
    "\n",
    "# ⚙️ Path to abnormal images\n",
    "anomaly_dir = \"/content/frames_balanced/abnormal\"\n",
    "IMG_SIZE = 224\n",
    "\n",
    "# 🌀 Preprocessing\n",
    "preprocess = transforms.Compose([\n",
    "    transforms.ToPILImage(),\n",
    "    transforms.Resize((IMG_SIZE, IMG_SIZE)),\n",
    "    transforms.ToTensor(),\n",
    "    transforms.Normalize(mean=[0.485, 0.456, 0.406],\n",
    "                         std=[0.229, 0.224, 0.225])\n",
    "])\n",
    "\n",
    "# 🧠 Load model\n",
    "model = timm.create_model('repvgg_a0', pretrained=True, num_classes=2)\n",
    "model.eval()\n",
    "device = torch.device(\"cuda\" if torch.cuda.is_available() else \"cpu\")\n",
    "model.to(device)\n",
    "\n",
    "# 🔍 Grad-CAM++\n",
    "class GradCAMPlusPlus:\n",
    "    def __init__(self, model, target_layer):\n",
    "        self.model = model\n",
    "        self.target_layer = target_layer\n",
    "        self.gradients = None\n",
    "        self.activations = None\n",
    "        self._register_hooks()\n",
    "\n",
    "    def _register_hooks(self):\n",
    "        def forward_hook(module, input, output):\n",
    "            self.activations = output\n",
    "        def backward_hook(module, grad_in, grad_out):\n",
    "            self.gradients = grad_out[0]\n",
    "        self.target_layer.register_forward_hook(forward_hook)\n",
    "        self.target_layer.register_backward_hook(backward_hook)\n",
    "\n",
    "    def generate(self, input_tensor):\n",
    "        self.model.zero_grad()\n",
    "        output = self.model(input_tensor)\n",
    "        class_idx = torch.argmax(output, dim=1).item()\n",
    "        score = output[0, class_idx]\n",
    "        score.backward()\n",
    "\n",
    "        gradients = self.gradients\n",
    "        activations = self.activations\n",
    "\n",
    "        b, k, h, w = gradients.size()\n",
    "        alpha_num = gradients.pow(2)\n",
    "        alpha_denom = 2 * gradients.pow(2) + activations * gradients.pow(3).sum(-1).sum(-1).view(b, k, 1, 1)\n",
    "        alpha_denom = torch.where(alpha_denom != 0.0, alpha_denom, torch.ones_like(alpha_denom))\n",
    "        alpha = alpha_num / alpha_denom\n",
    "\n",
    "        weights = torch.relu(F.relu(gradients) * alpha).sum(-1).sum(-1).view(b, k, 1, 1)\n",
    "        cam = (weights * activations).sum(1, keepdim=True)\n",
    "\n",
    "        cam = F.relu(cam)\n",
    "        cam = F.interpolate(cam, size=(IMG_SIZE, IMG_SIZE), mode='bilinear', align_corners=False)\n",
    "        cam = cam - cam.min()\n",
    "        cam = cam / (cam.max() + 1e-8)\n",
    "\n",
    "        return cam.cpu().detach().numpy().squeeze()\n",
    "\n",
    "# 🎯 Identify target convolutional layer\n",
    "conv_layers = [m for m in model.modules() if isinstance(m, torch.nn.Conv2d)]\n",
    "target_layer = conv_layers[-1]\n",
    "gradcam = GradCAMPlusPlus(model, target_layer)\n",
    "\n",
    "# 📂 Get list of image paths\n",
    "image_paths = sorted([\n",
    "    os.path.join(anomaly_dir, fname)\n",
    "    for fname in os.listdir(anomaly_dir)\n",
    "    if fname.lower().endswith(('.jpg', '.jpeg', '.png'))\n",
    "])[:5]  # Only the first 5 images\n",
    "\n",
    "# 🔥 Process and display heatmaps\n",
    "for path in image_paths:\n",
    "    img = cv2.imread(path)\n",
    "    if img is None:\n",
    "        continue\n",
    "    img_rgb = cv2.cvtColor(img, cv2.COLOR_BGR2RGB)\n",
    "    img_tensor = preprocess(img_rgb).unsqueeze(0).to(device)\n",
    "\n",
    "    # Generate heatmap\n",
    "    heatmap = gradcam.generate(img_tensor)\n",
    "\n",
    "    # Convert to colored heatmap\n",
    "    heatmap_color = cv2.applyColorMap(np.uint8(255 * heatmap), cv2.COLORMAP_JET)\n",
    "    heatmap_color = cv2.cvtColor(heatmap_color, cv2.COLOR_BGR2RGB)\n",
    "\n",
    "    # Resize original image\n",
    "    img_resized = cv2.resize(img_rgb, (IMG_SIZE, IMG_SIZE))\n",
    "\n",
    "    # Blend heatmap with original image\n",
    "    alpha = 0.4\n",
    "    blended = cv2.addWeighted(img_resized, 1 - alpha, heatmap_color, alpha, 0)\n",
    "\n",
    "    # Display with matplotlib + colorbar\n",
    "    plt.figure(figsize=(5, 5))\n",
    "    plt.imshow(blended)\n",
    "    plt.title(f\"Heatmap - {os.path.basename(path)}\")\n",
    "    plt.axis('off')\n",
    "\n",
    "    # Add colorbar from raw heatmap\n",
    "    im = plt.imshow(heatmap, cmap='jet', alpha=0)\n",
    "    cbar = plt.colorbar(im, fraction=0.046, pad=0.04)\n",
    "    cbar.set_label(\"Anomaly Score\", rotation=270, labelpad=15)\n",
    "\n",
    "    plt.tight_layout()\n",
    "    plt.show()\n"
   ]
  },
  {
   "cell_type": "code",
   "execution_count": null,
   "metadata": {
    "id": "6tZ7R3G-GkKn"
   },
   "outputs": [],
   "source": [
    "# import numpy as np\n",
    "# import tensorflow as tf\n",
    "# from tensorflow.keras.layers import Input, Dense, Dropout, LSTM, GRU, SimpleRNN, Flatten\n",
    "# from tensorflow.keras.models import Model\n",
    "# from tensorflow.keras.optimizers import Adam\n",
    "# from tensorflow.keras.callbacks import EarlyStopping\n",
    "# from sklearn.model_selection import StratifiedKFold\n",
    "# from sklearn.metrics import accuracy_score, precision_score, recall_score, f1_score\n",
    "# from sklearn.utils import shuffle\n",
    "# import matplotlib.pyplot as plt\n",
    "# import pandas as pd\n",
    "# import gc\n",
    "# from tensorflow.keras import backend as K\n",
    "# import seaborn as sns\n",
    "# import os\n",
    "\n",
    "# # Force CPU usage to avoid cuDNN errors\n",
    "# os.environ[\"CUDA_VISIBLE_DEVICES\"] = \"\"\n",
    "\n",
    "# # --- Data loading and preprocessing ---\n",
    "# def prepare_data(normal_path, anomaly_path):\n",
    "#     X_normal = np.load(normal_path, allow_pickle=True)\n",
    "#     print(f\"X_normal shape before mean: {X_normal.shape}\")\n",
    "#     if X_normal.ndim >= 4:\n",
    "#         X_normal = X_normal.mean(axis=(2, 3))\n",
    "#         print(f\"X_normal shape after mean(axis=(2,3)): {X_normal.shape}\")\n",
    "#     else:\n",
    "#         print(\"X_normal has less than 4 dims, skipping mean over axis 2 and 3\")\n",
    "\n",
    "#     X_anomaly = np.load(anomaly_path, allow_pickle=True)\n",
    "#     print(f\"X_anomaly shape before mean: {X_anomaly.shape}\")\n",
    "#     if X_anomaly.ndim >= 4:\n",
    "#         X_anomaly = X_anomaly.mean(axis=(2, 3))\n",
    "#         print(f\"X_anomaly shape after mean(axis=(2,3)): {X_anomaly.shape}\")\n",
    "#     else:\n",
    "#         print(\"X_anomaly has less than 4 dims, skipping mean over axis 2 and 3\")\n",
    "\n",
    "#     X = np.concatenate([X_normal, X_anomaly])\n",
    "#     y = np.concatenate([np.zeros(len(X_normal)), np.ones(len(X_anomaly))])\n",
    "\n",
    "#     # Convert to float32 for TensorFlow compatibility\n",
    "#     X = X.astype(np.float32)\n",
    "\n",
    "#     # Check for NaN or Inf values\n",
    "#     print(\"NaN in X:\", np.any(np.isnan(X)))\n",
    "#     print(\"Inf in X:\", np.any(np.isinf(X)))\n",
    "#     X = np.nan_to_num(X, nan=0.0, posinf=0.0, neginf=0.0)  # Clean data\n",
    "\n",
    "#     X, y = shuffle(X, y, random_state=42)\n",
    "#     return X, y\n",
    "\n",
    "# def create_sequences(X, y, seq_len=5):\n",
    "#     X_seq, y_seq = [], []\n",
    "#     for i in range(len(X) - seq_len + 1):\n",
    "#         X_seq.append(X[i:i + seq_len])\n",
    "#         y_seq.append(y[i + seq_len - 1])\n",
    "#     return np.array(X_seq), np.array(y_seq)\n",
    "\n",
    "# # --- Model builders ---\n",
    "# def build_lstm_model(input_shape):\n",
    "#     inputs = Input(shape=input_shape)\n",
    "#     x = LSTM(64, activation='tanh', recurrent_activation='sigmoid', use_bias=True, unroll=True)(inputs)  # unroll=True to avoid cuDNN\n",
    "#     x = Dropout(0.3)(x)\n",
    "#     x = Dense(32, activation='relu')(x)\n",
    "#     x = Dropout(0.3)(x)\n",
    "#     outputs = Dense(1, activation='sigmoid')(x)\n",
    "#     model = Model(inputs, outputs)\n",
    "#     model.compile(optimizer=Adam(1e-4), loss='binary_crossentropy', metrics=['accuracy'])\n",
    "#     return model\n",
    "\n",
    "# def build_gru_model(input_shape):\n",
    "#     inputs = Input(shape=input_shape)\n",
    "#     x = GRU(64)(inputs)\n",
    "#     x = Dropout(0.3)(x)\n",
    "#     x = Dense(32, activation='relu')(x)\n",
    "#     x = Dropout(0.3)(x)\n",
    "#     outputs = Dense(1, activation='sigmoid')(x)\n",
    "#     model = Model(inputs, outputs)\n",
    "#     model.compile(optimizer=Adam(1e-4), loss='binary_crossentropy', metrics=['accuracy'])\n",
    "#     return model\n",
    "\n",
    "# def build_lstm_gru_model(input_shape):\n",
    "#     inputs = Input(shape=input_shape)\n",
    "#     x = LSTM(64, return_sequences=True, activation='tanh', recurrent_activation='sigmoid', use_bias=True, unroll=True)(inputs)\n",
    "#     x = Dropout(0.3)(x)\n",
    "#     x = GRU(64)(x)\n",
    "#     x = Dropout(0.3)(x)\n",
    "#     x = Dense(32, activation='relu')(x)\n",
    "#     x = Dropout(0.3)(x)\n",
    "#     outputs = Dense(1, activation='sigmoid')(x)\n",
    "#     model = Model(inputs, outputs)\n",
    "#     model.compile(optimizer=Adam(1e-4), loss='binary_crossentropy', metrics=['accuracy'])\n",
    "#     return model\n",
    "\n",
    "# def build_rnn_model(input_shape):\n",
    "#     inputs = Input(shape=input_shape)\n",
    "#     x = SimpleRNN(64)(inputs)\n",
    "#     x = Dropout(0.3)(x)\n",
    "#     x = Dense(32, activation='relu')(x)\n",
    "#     x = Dropout(0.3)(x)\n",
    "#     outputs = Dense(1, activation='sigmoid')(x)\n",
    "#     model = Model(inputs, outputs)\n",
    "#     model.compile(optimizer=Adam(1e-4), loss='binary_crossentropy', metrics=['accuracy'])\n",
    "#     return model\n",
    "\n",
    "# def build_dense_model(input_shape):\n",
    "#     inputs = Input(shape=input_shape)\n",
    "#     x = Flatten()(inputs)\n",
    "#     x = Dense(64, activation='relu')(x)\n",
    "#     x = Dropout(0.3)(x)\n",
    "#     x = Dense(32, activation='relu')(x)\n",
    "#     x = Dropout(0.3)(x)\n",
    "#     outputs = Dense(1, activation='sigmoid')(x)\n",
    "#     model = Model(inputs, outputs)\n",
    "#     model.compile(optimizer=Adam(1e-4), loss='binary_crossentropy', metrics=['accuracy'])\n",
    "#     return model\n",
    "\n",
    "# # --- Train and evaluate using k-fold ---\n",
    "# def train_and_evaluate_kfold(model_fn, X, y, model_name, n_splits=5):\n",
    "#     skf = StratifiedKFold(n_splits=n_splits, shuffle=True, random_state=42)\n",
    "#     metrics_per_fold = {\n",
    "#         'accuracy': [],\n",
    "#         'precision': [],\n",
    "#         'recall': [],\n",
    "#         'f1': [],\n",
    "#         'val_loss': [],\n",
    "#         'val_accuracy': []\n",
    "#     }\n",
    "#     val_loss_histories = []\n",
    "#     val_acc_histories = []\n",
    "\n",
    "#     fold_num = 1\n",
    "#     for train_idx, val_idx in skf.split(X, y):\n",
    "#         print(f\"\\n➡️ Fold {fold_num}/{n_splits} - Model: {model_name}\")\n",
    "#         X_train, X_val = X[train_idx], X[val_idx]\n",
    "#         y_train, y_val = y[train_idx], y[val_idx]\n",
    "\n",
    "#         model = model_fn(X_train.shape[1:])\n",
    "#         es = EarlyStopping(patience=5, restore_best_weights=True, verbose=1)\n",
    "\n",
    "#         history = model.fit(\n",
    "#             X_train, y_train,\n",
    "#             validation_data=(X_val, y_val),\n",
    "#             epochs=50,\n",
    "#             batch_size=32,\n",
    "#             callbacks=[es],\n",
    "#             verbose=1\n",
    "#         )\n",
    "\n",
    "#         y_pred = (model.predict(X_val) > 0.5).astype(int)\n",
    "\n",
    "#         acc = accuracy_score(y_val, y_pred)\n",
    "#         prec = precision_score(y_val, y_pred, zero_division=0)\n",
    "#         rec = recall_score(y_val, y_pred, zero_division=0)\n",
    "#         f1 = f1_score(y_val, y_pred, zero_division=0)\n",
    "\n",
    "#         print(f\"Fold {fold_num} - Acc: {acc:.4f}, Prec: {prec:.4f}, Rec: {rec:.4f}, F1: {f1:.4f}\")\n",
    "\n",
    "#         metrics_per_fold['accuracy'].append(acc)\n",
    "#         metrics_per_fold['precision'].append(prec)\n",
    "#         metrics_per_fold['recall'].append(rec)\n",
    "#         metrics_per_fold['f1'].append(f1)\n",
    "#         metrics_per_fold['val_loss'].append(history.history['val_loss'][-1])\n",
    "#         metrics_per_fold['val_accuracy'].append(history.history['val_accuracy'][-1])\n",
    "\n",
    "#         val_loss_histories.append(history.history['val_loss'])\n",
    "#         val_acc_histories.append(history.history['val_accuracy'])\n",
    "\n",
    "#         K.clear_session()  # Clear memory\n",
    "#         del model\n",
    "#         gc.collect()\n",
    "\n",
    "#         fold_num += 1\n",
    "\n",
    "#     # Average metrics\n",
    "#     avg_metrics = {k: np.mean(v) for k, v in metrics_per_fold.items()}\n",
    "#     print(f\"\\n➡️ {model_name} - Mean Metrics over {n_splits} folds:\")\n",
    "#     print(f\"Accuracy: {avg_metrics['accuracy']:.4f}, Precision: {avg_metrics['precision']:.4f}, Recall: {avg_metrics['recall']:.4f}, F1: {avg_metrics['f1']:.4f}\")\n",
    "\n",
    "#     # Average val_loss and val_accuracy curves (pad shorter histories with last value)\n",
    "#     max_epochs = max(len(h) for h in val_loss_histories)\n",
    "\n",
    "#     def pad_history(histories, max_len):\n",
    "#         padded = []\n",
    "#         for h in histories:\n",
    "#             if len(h) < max_len:\n",
    "#                 h = h + [h[-1]] * (max_len - len(h))\n",
    "#             padded.append(h)\n",
    "#         return np.array(padded)\n",
    "\n",
    "#     avg_val_loss = np.mean(pad_history(val_loss_histories, max_epochs), axis=0)\n",
    "#     avg_val_acc = np.mean(pad_history(val_acc_histories, max_epochs), axis=0)\n",
    "\n",
    "#     return avg_metrics, avg_val_loss, avg_val_acc\n",
    "\n",
    "# def main():\n",
    "#     feature_model_names = [\n",
    "#         'convnext_tiny',\n",
    "#         'repvgg_a0',\n",
    "#         'mobileone_s0',\n",
    "#         'poolformer_s12',\n",
    "#         'maxvit_tiny_tf_224',\n",
    "#         'coatnet_0_rw_224'\n",
    "#     ]\n",
    "\n",
    "#     model_builders = {\n",
    "#         \"LSTM\": build_lstm_model,\n",
    "#         \"GRU\": build_gru_model,\n",
    "#         \"LSTM_GRU\": build_lstm_gru_model,\n",
    "#         \"SimpleRNN\": build_rnn_model,\n",
    "#         \"Dense\": build_dense_model\n",
    "#     }\n",
    "\n",
    "#     seq_len = 10\n",
    "#     save_dir = '/content/drive/MyDrive/AVA'  # Adjust path as needed\n",
    "#     all_results = []\n",
    "#     curve_data = {}\n",
    "\n",
    "#     for feature_model_name in feature_model_names:\n",
    "#         print(f\"\\n\\n📁 Loading features for model: {feature_model_name}\")\n",
    "#         normal_path = f\"{save_dir}/normal_features_{feature_model_name}.npy\"\n",
    "#         anomaly_path = f\"{save_dir}/anomaly_features_{feature_model_name}.npy\"\n",
    "\n",
    "#         X, y = prepare_data(normal_path, anomaly_path)\n",
    "#         X_seq, y_seq = create_sequences(X, y, seq_len=seq_len)\n",
    "\n",
    "#         print(f\"X_seq shape: {X_seq.shape}, y_seq shape: {y_seq.shape}\")\n",
    "\n",
    "#         for model_name, builder in model_builders.items():\n",
    "#             full_model_name = f\"{feature_model_name}_{model_name}\"\n",
    "#             metrics, avg_val_loss, avg_val_acc = train_and_evaluate_kfold(builder, X_seq, y_seq, full_model_name, n_splits=5)\n",
    "#             metrics.update({\"Feature_Model\": feature_model_name, \"Architecture\": model_name})\n",
    "#             all_results.append(metrics)\n",
    "\n",
    "#             curve_data[full_model_name] = {\n",
    "#                 'val_loss': avg_val_loss,\n",
    "#                 'val_accuracy': avg_val_acc\n",
    "#             }\n",
    "\n",
    "#     df = pd.DataFrame(all_results)\n",
    "#     print(\"\\n\\n📊 Overall Model Comparison:\\n\")\n",
    "#     print(df)\n",
    "\n",
    "#     metrics_to_plot = [\"accuracy\", \"precision\", \"recall\", \"f1\"]\n",
    "#     plt.figure(figsize=(16, 6))\n",
    "#     for i, metric in enumerate(metrics_to_plot):\n",
    "#         plt.subplot(1, len(metrics_to_plot), i + 1)\n",
    "#         sns.barplot(x=\"Feature_Model\", y=metric, hue=\"Architecture\", data=df)\n",
    "#         plt.title(metric.capitalize())\n",
    "#         plt.ylim(0, 1)\n",
    "#         plt.xticks(rotation=45)\n",
    "#     plt.tight_layout()\n",
    "#     plt.show()\n",
    "\n",
    "#     plt.figure(figsize=(16, 6))\n",
    "#     plt.subplot(1, 2, 1)\n",
    "#     for name, curves in curve_data.items():\n",
    "#         plt.plot(curves['val_accuracy'], label=name)\n",
    "#     plt.title('Validation Accuracy (averaged over folds)')\n",
    "#     plt.xlabel('Epochs')\n",
    "#     plt.ylabel('Accuracy')\n",
    "#     plt.ylim(0, 1)\n",
    "#     plt.legend(fontsize=8, loc='lower right')\n",
    "\n",
    "#     plt.subplot(1, 2, 2)\n",
    "#     for name, curves in curve_data.items():\n",
    "#         plt.plot(curves['val_loss'], label=name)\n",
    "#     plt.title('Validation Loss (averaged over folds)')\n",
    "#     plt.xlabel('Epochs')\n",
    "#     plt.ylabel('Loss')\n",
    "#     plt.legend(fontsize=8, loc='upper right')\n",
    "\n",
    "#     plt.tight_layout()\n",
    "#     plt.show()\n",
    "\n",
    "# if __name__ == \"__main__\":\n",
    "#     main()"
   ]
  },
  {
   "cell_type": "code",
   "execution_count": null,
   "metadata": {
    "id": "w8gPMSjWG1Pd"
   },
   "outputs": [],
   "source": [
    "# import numpy as np\n",
    "# import tensorflow as tf\n",
    "# from tensorflow.keras.layers import Input, Dense, Dropout, LSTM, GRU, SimpleRNN, Flatten\n",
    "# from tensorflow.keras.models import Model\n",
    "# from tensorflow.keras.optimizers import Adam\n",
    "# from tensorflow.keras.callbacks import EarlyStopping\n",
    "# from sklearn.model_selection import train_test_split\n",
    "# from sklearn.metrics import (\n",
    "#     accuracy_score, precision_score, recall_score, f1_score,\n",
    "#     roc_auc_score, confusion_matrix, classification_report,\n",
    "#     roc_curve, precision_recall_curve, auc\n",
    "# )\n",
    "# from sklearn.utils import shuffle\n",
    "# import matplotlib.pyplot as plt\n",
    "# import seaborn as sns\n",
    "# import pandas as pd\n",
    "# import os\n",
    "\n",
    "# os.environ[\"CUDA_VISIBLE_DEVICES\"] = \"\"\n",
    "\n",
    "# # --- Data loading and preprocessing ---\n",
    "# def prepare_data(normal_path, anomaly_path):\n",
    "#     X_normal = np.load(normal_path, allow_pickle=True)\n",
    "#     if X_normal.ndim >= 4:\n",
    "#         X_normal = X_normal.mean(axis=(2, 3))\n",
    "#     X_anomaly = np.load(anomaly_path, allow_pickle=True)\n",
    "#     if X_anomaly.ndim >= 4:\n",
    "#         X_anomaly = X_anomaly.mean(axis=(2, 3))\n",
    "#     X = np.concatenate([X_normal, X_anomaly])\n",
    "#     y = np.concatenate([np.zeros(len(X_normal)), np.ones(len(X_anomaly))])\n",
    "#     X = X.astype(np.float32)\n",
    "#     X = np.nan_to_num(X, nan=0.0, posinf=0.0, neginf=0.0)\n",
    "#     X, y = shuffle(X, y, random_state=42)\n",
    "#     return X, y\n",
    "\n",
    "# def create_sequences(X, y, seq_len=5):\n",
    "#     X_seq, y_seq = [], []\n",
    "#     for i in range(len(X) - seq_len + 1):\n",
    "#         X_seq.append(X[i:i + seq_len])\n",
    "#         y_seq.append(y[i + seq_len - 1])\n",
    "#     return np.array(X_seq), np.array(y_seq)\n",
    "\n",
    "# # --- Model builders with 32 and 16 units ---\n",
    "# def build_lstm_model(input_shape):\n",
    "#     inputs = Input(shape=input_shape)\n",
    "#     x = LSTM(32, activation='tanh', recurrent_activation='sigmoid', unroll=True)(inputs)\n",
    "#     x = Dropout(0.3)(x)\n",
    "#     x = Dense(16, activation='relu')(x)\n",
    "#     x = Dropout(0.3)(x)\n",
    "#     outputs = Dense(1, activation='sigmoid')(x)\n",
    "#     model = Model(inputs, outputs)\n",
    "#     model.compile(optimizer=Adam(1e-4), loss='binary_crossentropy', metrics=['accuracy'])\n",
    "#     return model\n",
    "\n",
    "# def build_gru_model(input_shape):\n",
    "#     inputs = Input(shape=input_shape)\n",
    "#     x = GRU(32)(inputs)\n",
    "#     x = Dropout(0.3)(x)\n",
    "#     x = Dense(16, activation='relu')(x)\n",
    "#     x = Dropout(0.3)(x)\n",
    "#     outputs = Dense(1, activation='sigmoid')(x)\n",
    "#     model = Model(inputs, outputs)\n",
    "#     model.compile(optimizer=Adam(1e-4), loss='binary_crossentropy', metrics=['accuracy'])\n",
    "#     return model\n",
    "\n",
    "# def build_lstm_gru_model(input_shape):\n",
    "#     inputs = Input(shape=input_shape)\n",
    "#     x = LSTM(32, return_sequences=True, unroll=True)(inputs)\n",
    "#     x = Dropout(0.3)(x)\n",
    "#     x = GRU(32)(x)\n",
    "#     x = Dropout(0.3)(x)\n",
    "#     x = Dense(16, activation='relu')(x)\n",
    "#     x = Dropout(0.3)(x)\n",
    "#     outputs = Dense(1, activation='sigmoid')(x)\n",
    "#     model = Model(inputs, outputs)\n",
    "#     model.compile(optimizer=Adam(1e-4), loss='binary_crossentropy', metrics=['accuracy'])\n",
    "#     return model\n",
    "\n",
    "# def build_simple_rnn_model(input_shape):\n",
    "#     inputs = Input(shape=input_shape)\n",
    "#     x = SimpleRNN(32)(inputs)\n",
    "#     x = Dropout(0.3)(x)\n",
    "#     x = Dense(16, activation='relu')(x)\n",
    "#     x = Dropout(0.3)(x)\n",
    "#     outputs = Dense(1, activation='sigmoid')(x)\n",
    "#     model = Model(inputs, outputs)\n",
    "#     model.compile(optimizer=Adam(1e-4), loss='binary_crossentropy', metrics=['accuracy'])\n",
    "#     return model\n",
    "\n",
    "# def build_dense_model(input_shape):\n",
    "#     inputs = Input(shape=input_shape)\n",
    "#     x = Flatten()(inputs)\n",
    "#     x = Dense(32, activation='relu')(x)\n",
    "#     x = Dropout(0.3)(x)\n",
    "#     x = Dense(16, activation='relu')(x)\n",
    "#     x = Dropout(0.3)(x)\n",
    "#     outputs = Dense(1, activation='sigmoid')(x)\n",
    "#     model = Model(inputs, outputs)\n",
    "#     model.compile(optimizer=Adam(1e-4), loss='binary_crossentropy', metrics=['accuracy'])\n",
    "#     return model\n",
    "\n",
    "# # --- Main execution ---\n",
    "# def main():\n",
    "#     feature_model_name = 'convnext_tiny'  # adjust if needed\n",
    "#     seq_len = 10\n",
    "#     save_dir = '/content/drive/MyDrive/AVA'  # adjust to your paths\n",
    "#     normal_path = f\"{save_dir}/normal_features_{feature_model_name}.npy\"\n",
    "#     anomaly_path = f\"{save_dir}/anomaly_features_{feature_model_name}.npy\"\n",
    "\n",
    "#     X, y = prepare_data(normal_path, anomaly_path)\n",
    "#     X_seq, y_seq = create_sequences(X, y, seq_len=seq_len)\n",
    "\n",
    "#     model_builders = {\n",
    "#         \"LSTM\": build_lstm_model,\n",
    "#         \"GRU\": build_gru_model,\n",
    "#         \"LSTM_GRU\": build_lstm_gru_model,\n",
    "#         \"SimpleRNN\": build_simple_rnn_model,\n",
    "#         \"Dense\": build_dense_model\n",
    "#     }\n",
    "\n",
    "#     num_runs = 5\n",
    "#     all_results = []\n",
    "\n",
    "#     for model_name, builder in model_builders.items():\n",
    "#         print(f\"\\n==== Training model: {model_name} ====\")\n",
    "\n",
    "#         metrics_list = {\n",
    "#             \"accuracy\": [],\n",
    "#             \"precision\": [],\n",
    "#             \"recall\": [],\n",
    "#             \"f1\": [],\n",
    "#             \"auc\": []\n",
    "#         }\n",
    "\n",
    "#         for run in range(num_runs):\n",
    "#             print(f\" Run {run+1}/{num_runs}\")\n",
    "\n",
    "#             X_train, X_test, y_train, y_test = train_test_split(\n",
    "#                 X_seq, y_seq, test_size=0.2, stratify=y_seq, random_state=run\n",
    "#             )\n",
    "\n",
    "#             model = builder(X_train.shape[1:])\n",
    "#             es = EarlyStopping(patience=5, restore_best_weights=True, verbose=0)\n",
    "#             history = model.fit(\n",
    "#                 X_train, y_train,\n",
    "#                 validation_data=(X_test, y_test),\n",
    "#                 epochs=50,\n",
    "#                 batch_size=32,\n",
    "#                 callbacks=[es],\n",
    "#                 verbose=0\n",
    "#             )\n",
    "\n",
    "#             y_prob = model.predict(X_test).ravel()\n",
    "#             y_pred = (y_prob > 0.5).astype(int)\n",
    "\n",
    "#             acc = accuracy_score(y_test, y_pred)\n",
    "#             prec = precision_score(y_test, y_pred, zero_division=0)\n",
    "#             rec = recall_score(y_test, y_pred, zero_division=0)\n",
    "#             f1 = f1_score(y_test, y_pred, zero_division=0)\n",
    "#             auc_score = roc_auc_score(y_test, y_prob)\n",
    "\n",
    "#             # Store metrics\n",
    "#             metrics_list[\"accuracy\"].append(acc)\n",
    "#             metrics_list[\"precision\"].append(prec)\n",
    "#             metrics_list[\"recall\"].append(rec)\n",
    "#             metrics_list[\"f1\"].append(f1)\n",
    "#             metrics_list[\"auc\"].append(auc_score)\n",
    "\n",
    "#             all_results.append({\n",
    "#                 \"Model\": model_name,\n",
    "#                 \"Run\": run + 1,\n",
    "#                 \"Accuracy\": acc,\n",
    "#                 \"Precision\": prec,\n",
    "#                 \"Recall\": rec,\n",
    "#                 \"F1\": f1,\n",
    "#                 \"AUC\": auc_score\n",
    "#             })\n",
    "\n",
    "#             # For last run, print detailed info and plots\n",
    "#             if run == num_runs - 1:\n",
    "#                 print(f\"\\n--- Detailed results for {model_name} (run {run+1}) ---\")\n",
    "#                 print(f\"Accuracy: {acc:.4f}\")\n",
    "#                 print(f\"Precision: {prec:.4f}\")\n",
    "#                 print(f\"Recall: {rec:.4f}\")\n",
    "#                 print(f\"F1-score: {f1:.4f}\")\n",
    "#                 print(f\"AUC: {auc_score:.4f}\")\n",
    "\n",
    "#                 print(\"\\nConfusion Matrix:\")\n",
    "#                 cm = confusion_matrix(y_test, y_pred)\n",
    "#                 print(cm)\n",
    "\n",
    "#                 print(\"\\nClassification Report:\")\n",
    "#                 print(classification_report(y_test, y_pred, digits=4))\n",
    "\n",
    "#                 # ROC Curve\n",
    "#                 fpr, tpr, _ = roc_curve(y_test, y_prob)\n",
    "#                 roc_auc = auc(fpr, tpr)\n",
    "#                 plt.figure(figsize=(6,5))\n",
    "#                 plt.plot(fpr, tpr, label=f'ROC curve (AUC = {roc_auc:.3f})')\n",
    "#                 plt.plot([0,1], [0,1], 'k--')\n",
    "#                 plt.title(f'{model_name} ROC Curve')\n",
    "#                 plt.xlabel('False Positive Rate')\n",
    "#                 plt.ylabel('True Positive Rate')\n",
    "#                 plt.legend(loc='lower right')\n",
    "#                 plt.grid(True)\n",
    "#                 plt.show()\n",
    "\n",
    "#                 # Precision-Recall Curve\n",
    "#                 precision_vals, recall_vals, _ = precision_recall_curve(y_test, y_prob)\n",
    "#                 pr_auc = auc(recall_vals, precision_vals)\n",
    "#                 plt.figure(figsize=(6,5))\n",
    "#                 plt.plot(recall_vals, precision_vals, label=f'PR curve (AUC = {pr_auc:.3f})')\n",
    "#                 plt.title(f'{model_name} Precision-Recall Curve')\n",
    "#                 plt.xlabel('Recall')\n",
    "#                 plt.ylabel('Precision')\n",
    "#                 plt.legend(loc='upper right')\n",
    "#                 plt.grid(True)\n",
    "#                 plt.show()\n",
    "\n",
    "#                 # Training plots\n",
    "#                 plt.figure(figsize=(12,5))\n",
    "#                 plt.subplot(1,2,1)\n",
    "#                 plt.plot(history.history['accuracy'], label='Train Accuracy')\n",
    "#                 plt.plot(history.history['val_accuracy'], label='Validation Accuracy')\n",
    "#                 plt.title(f'{model_name} Accuracy')\n",
    "#                 plt.xlabel('Epoch')\n",
    "#                 plt.ylabel('Accuracy')\n",
    "#                 plt.legend()\n",
    "#                 plt.grid(True)\n",
    "\n",
    "#                 plt.subplot(1,2,2)\n",
    "#                 plt.plot(history.history['loss'], label='Train Loss')\n",
    "#                 plt.plot(history.history['val_loss'], label='Validation Loss')\n",
    "#                 plt.title(f'{model_name} Loss')\n",
    "#                 plt.xlabel('Epoch')\n",
    "#                 plt.ylabel('Loss')\n",
    "#                 plt.legend()\n",
    "#                 plt.grid(True)\n",
    "\n",
    "#                 plt.tight_layout()\n",
    "#                 plt.show()\n",
    "\n",
    "#         # Print mean and std for all runs\n",
    "#         print(f\"\\n==== Summary for {model_name} (over {num_runs} runs) ====\")\n",
    "#         for metric in metrics_list:\n",
    "#             mean_val = np.mean(metrics_list[metric])\n",
    "#             std_val = np.std(metrics_list[metric])\n",
    "#             print(f\"{metric.capitalize()}: {mean_val:.4f} ± {std_val:.4f}\")\n",
    "\n",
    "#     # Save all results to CSV\n",
    "#     df = pd.DataFrame(all_results)\n",
    "#     csv_save_path = os.path.join(save_dir, f\"results_all_models_{feature_model_name}.csv\")\n",
    "#     df.to_csv(csv_save_path, index=False)\n",
    "#     print(f\"\\nAll run results saved to: {csv_save_path}\")\n",
    "\n",
    "# if __name__ == \"__main__\":\n",
    "#     main()\n"
   ]
  },
  {
   "cell_type": "code",
   "execution_count": null,
   "metadata": {
    "colab": {
     "base_uri": "https://localhost:8080/",
     "height": 1000
    },
    "id": "7PR7TOwn8ikS",
    "outputId": "477181ed-88eb-4f7d-9962-4782f9708648"
   },
   "outputs": [
    {
     "name": "stdout",
     "output_type": "stream",
     "text": [
      "\n",
      "==== Training model: LSTM ====\n",
      " Run 1/5\n",
      "Epoch 1/50\n",
      "\u001b[1m581/581\u001b[0m \u001b[32m━━━━━━━━━━━━━━━━━━━━\u001b[0m\u001b[37m\u001b[0m \u001b[1m7s\u001b[0m 6ms/step - accuracy: 0.6749 - loss: 0.5634 - val_accuracy: 0.9039 - val_loss: 0.2902\n",
      "Epoch 2/50\n",
      "\u001b[1m581/581\u001b[0m \u001b[32m━━━━━━━━━━━━━━━━━━━━\u001b[0m\u001b[37m\u001b[0m \u001b[1m3s\u001b[0m 5ms/step - accuracy: 0.8815 - loss: 0.3198 - val_accuracy: 0.9126 - val_loss: 0.2306\n",
      "Epoch 3/50\n",
      "\u001b[1m581/581\u001b[0m \u001b[32m━━━━━━━━━━━━━━━━━━━━\u001b[0m\u001b[37m\u001b[0m \u001b[1m3s\u001b[0m 5ms/step - accuracy: 0.9074 - loss: 0.2544 - val_accuracy:\n",
      "... [خلاصه شد] ...\n"
     ]
    },
    {
     "data": {
      "text/plain": [
       "[تصویر خروجی در فایل nb_outputs_images\\cell18_output1.png ذخیره شد]"
      ]
     },
     "output_type": "display_data"
    },
    {
     "name": "stdout",
     "output_type": "stream",
     "text": [
      "\n",
      "==== Summary for LSTM (over 5 runs) ====\n",
      "Accuracy: 0.9855 ± 0.0028\n",
      "Precision: 0.9870 ± 0.0022\n",
      "Recall: 0.9839 ± 0.0047\n",
      "F1: 0.9855 ± 0.0028\n",
      "Auc: 0.9989 ± 0.0004\n"
     ]
    },
    {
     "data": {
      "text/plain": [
       "[تصویر خروجی در فایل nb_outputs_images\\cell18_output3.png ذخیره شد]"
      ]
     },
     "output_type": "display_data"
    },
    {
     "name": "stdout",
     "output_type": "stream",
     "text": [
      "\n",
      "==== Training model: GRU ====\n",
      " Run 1/5\n",
      "Epoch 1/50\n",
      "\u001b[1m581/581\u001b[0m \u001b[32m━━━━━━━━━━━━━━━━━━━━\u001b[0m\u001b[37m\u001b[0m \u001b[1m7s\u001b[0m 7ms/step - accuracy: 0.6945 - loss: 0.5617 - val_accuracy: 0.9121 - val_loss: 0.2502\n",
      "Epoch 2/50\n",
      "\u001b[1m581/581\u001b[0m \u001b[32m━━━━━━━━━━━━━━━━━━━━\u001b[0m\u001b[37m\u001b[0m \u001b[1m4s\u001b[0m 6ms/step - accuracy: 0.8871 - loss: 0.2949 - val_accuracy: 0.9214 - val_loss: 0.2054\n",
      "Epoch 3/50\n",
      "\u001b[1m581/581\u001b[0m \u001b[32m━━━━━━━━━━━━━━━━━━━━\u001b[0m\u001b[37m\u001b[0m \u001b[1m4s\u001b[0m 7ms/step - accuracy: 0.9109 - loss: 0.2370 - val_accuracy: \n",
      "... [خلاصه شد] ...\n"
     ]
    },
    {
     "data": {
      "text/plain": [
       "[تصویر خروجی در فایل nb_outputs_images\\cell18_output5.png ذخیره شد]"
      ]
     },
     "output_type": "display_data"
    },
    {
     "name": "stdout",
     "output_type": "stream",
     "text": [
      "\n",
      "==== Summary for GRU (over 5 runs) ====\n",
      "Accuracy: 0.9791 ± 0.0044\n",
      "Precision: 0.9835 ± 0.0040\n",
      "Recall: 0.9745 ± 0.0052\n",
      "F1: 0.9790 ± 0.0045\n",
      "Auc: 0.9979 ± 0.0005\n"
     ]
    },
    {
     "data": {
      "text/plain": [
       "[تصویر خروجی در فایل nb_outputs_images\\cell18_output7.png ذخیره شد]"
      ]
     },
     "output_type": "display_data"
    },
    {
     "name": "stdout",
     "output_type": "stream",
     "text": [
      "\n",
      "==== Training model: LSTM_GRU ====\n",
      " Run 1/5\n",
      "Epoch 1/50\n",
      "\u001b[1m581/581\u001b[0m \u001b[32m━━━━━━━━━━━━━━━━━━━━\u001b[0m\u001b[37m\u001b[0m \u001b[1m11s\u001b[0m 11ms/step - accuracy: 0.6342 - loss: 0.6308 - val_accuracy: 0.9009 - val_loss: 0.2999\n",
      "Epoch 2/50\n",
      "\u001b[1m581/581\u001b[0m \u001b[32m━━━━━━━━━━━━━━━━━━━━\u001b[0m\u001b[37m\u001b[0m \u001b[1m6s\u001b[0m 10ms/step - accuracy: 0.8859 - loss: 0.3248 - val_accuracy: 0.9227 - val_loss: 0.2061\n",
      "Epoch 3/50\n",
      "\u001b[1m581/581\u001b[0m \u001b[32m━━━━━━━━━━━━━━━━━━━━\u001b[0m\u001b[37m\u001b[0m \u001b[1m6s\u001b[0m 10ms/step - accuracy: 0.9151 - loss: 0.2399 - val_a\n",
      "... [خلاصه شد] ...\n"
     ]
    },
    {
     "data": {
      "text/plain": [
       "[تصویر خروجی در فایل nb_outputs_images\\cell18_output9.png ذخیره شد]"
      ]
     },
     "output_type": "display_data"
    },
    {
     "name": "stdout",
     "output_type": "stream",
     "text": [
      "\n",
      "==== Summary for LSTM_GRU (over 5 runs) ====\n",
      "Accuracy: 0.9848 ± 0.0030\n",
      "Precision: 0.9870 ± 0.0015\n",
      "Recall: 0.9826 ± 0.0053\n",
      "F1: 0.9848 ± 0.0030\n",
      "Auc: 0.9988 ± 0.0005\n"
     ]
    },
    {
     "data": {
      "text/plain": [
       "[تصویر خروجی در فایل nb_outputs_images\\cell18_output11.png ذخیره شد]"
      ]
     },
     "output_type": "display_data"
    },
    {
     "name": "stdout",
     "output_type": "stream",
     "text": [
      "\n",
      "==== Training model: SimpleRNN ====\n",
      " Run 1/5\n",
      "Epoch 1/50\n",
      "\u001b[1m581/581\u001b[0m \u001b[32m━━━━━━━━━━━━━━━━━━━━\u001b[0m\u001b[37m\u001b[0m \u001b[1m4s\u001b[0m 5ms/step - accuracy: 0.7277 - loss: 0.5212 - val_accuracy: 0.8977 - val_loss: 0.2611\n",
      "Epoch 2/50\n",
      "\u001b[1m581/581\u001b[0m \u001b[32m━━━━━━━━━━━━━━━━━━━━\u001b[0m\u001b[37m\u001b[0m \u001b[1m2s\u001b[0m 4ms/step - accuracy: 0.8721 - loss: 0.3081 - val_accuracy: 0.9164 - val_loss: 0.2092\n",
      "Epoch 3/50\n",
      "\u001b[1m581/581\u001b[0m \u001b[32m━━━━━━━━━━━━━━━━━━━━\u001b[0m\u001b[37m\u001b[0m \u001b[1m2s\u001b[0m 4ms/step - accuracy: 0.9029 - loss: 0.2561 - val_accu\n",
      "... [خلاصه شد] ...\n"
     ]
    },
    {
     "data": {
      "text/plain": [
       "[تصویر خروجی در فایل nb_outputs_images\\cell18_output13.png ذخیره شد]"
      ]
     },
     "output_type": "display_data"
    },
    {
     "name": "stdout",
     "output_type": "stream",
     "text": [
      "\n",
      "==== Summary for SimpleRNN (over 5 runs) ====\n",
      "Accuracy: 0.9756 ± 0.0038\n",
      "Precision: 0.9848 ± 0.0030\n",
      "Recall: 0.9660 ± 0.0069\n",
      "F1: 0.9753 ± 0.0039\n",
      "Auc: 0.9969 ± 0.0007\n"
     ]
    },
    {
     "data": {
      "text/plain": [
       "[تصویر خروجی در فایل nb_outputs_images\\cell18_output15.png ذخیره شد]"
      ]
     },
     "output_type": "display_data"
    },
    {
     "name": "stdout",
     "output_type": "stream",
     "text": [
      "\n",
      "==== Training model: Dense ====\n",
      " Run 1/5\n",
      "Epoch 1/50\n",
      "\u001b[1m581/581\u001b[0m \u001b[32m━━━━━━━━━━━━━━━━━━━━\u001b[0m\u001b[37m\u001b[0m \u001b[1m4s\u001b[0m 4ms/step - accuracy: 0.5977 - loss: 0.6549 - val_accuracy: 0.8574 - val_loss: 0.4149\n",
      "Epoch 2/50\n",
      "\u001b[1m581/581\u001b[0m \u001b[32m━━━━━━━━━━━━━━━━━━━━\u001b[0m\u001b[37m\u001b[0m \u001b[1m2s\u001b[0m 4ms/step - accuracy: 0.7853 - loss: 0.4431 - val_accuracy: 0.8970 - val_loss: 0.3153\n",
      "Epoch 3/50\n",
      "\u001b[1m581/581\u001b[0m \u001b[32m━━━━━━━━━━━━━━━━━━━━\u001b[0m\u001b[37m\u001b[0m \u001b[1m2s\u001b[0m 4ms/step - accuracy: 0.8474 - loss: 0.3641 - val_accuracy\n",
      "... [خلاصه شد] ...\n"
     ]
    },
    {
     "data": {
      "text/plain": [
       "[تصویر خروجی در فایل nb_outputs_images\\cell18_output17.png ذخیره شد]"
      ]
     },
     "output_type": "display_data"
    },
    {
     "name": "stdout",
     "output_type": "stream",
     "text": [
      "\n",
      "==== Summary for Dense (over 5 runs) ====\n",
      "Accuracy: 0.9320 ± 0.0051\n",
      "Precision: 0.9461 ± 0.0069\n",
      "Recall: 0.9162 ± 0.0141\n",
      "F1: 0.9308 ± 0.0057\n",
      "Auc: 0.9831 ± 0.0021\n"
     ]
    },
    {
     "data": {
      "text/plain": [
       "[تصویر خروجی در فایل nb_outputs_images\\cell18_output19.png ذخیره شد]"
      ]
     },
     "output_type": "display_data"
    },
    {
     "name": "stdout",
     "output_type": "stream",
     "text": [
      "\n",
      "All run results saved to: /content/drive/MyDrive/AVA/results_all_models_convnext_tiny.csv\n"
     ]
    }
   ],
   "source": [
    "import numpy as np\n",
    "import tensorflow as tf\n",
    "from tensorflow.keras.layers import Input, Dense, Dropout, LSTM, GRU, SimpleRNN, Flatten\n",
    "from tensorflow.keras.models import Model\n",
    "from tensorflow.keras.optimizers import Adam\n",
    "from tensorflow.keras.callbacks import EarlyStopping\n",
    "from sklearn.model_selection import train_test_split\n",
    "from sklearn.metrics import (\n",
    "    accuracy_score, precision_score, recall_score, f1_score,\n",
    "    roc_auc_score, confusion_matrix, classification_report,\n",
    "    roc_curve, precision_recall_curve, auc\n",
    ")\n",
    "from sklearn.utils import shuffle\n",
    "import matplotlib.pyplot as plt\n",
    "import seaborn as sns\n",
    "import pandas as pd\n",
    "import os\n",
    "import gc\n",
    "from tensorflow.keras import backend as K\n",
    "\n",
    "os.environ[\"CUDA_VISIBLE_DEVICES\"] = \"\"\n",
    "\n",
    "# --- Data loading and preprocessing ---\n",
    "def prepare_data(normal_path, anomaly_path):\n",
    "    X_normal = np.load(normal_path, allow_pickle=True)\n",
    "    if X_normal.ndim >= 4:\n",
    "        X_normal = X_normal.mean(axis=(2, 3))\n",
    "    X_anomaly = np.load(anomaly_path, allow_pickle=True)\n",
    "    if X_anomaly.ndim >= 4:\n",
    "        X_anomaly = X_anomaly.mean(axis=(2, 3))\n",
    "    X = np.concatenate([X_normal, X_anomaly])\n",
    "    y = np.concatenate([np.zeros(len(X_normal)), np.ones(len(X_anomaly))])\n",
    "    X = X.astype(np.float32)\n",
    "    X = np.nan_to_num(X, nan=0.0, posinf=0.0, neginf=0.0)\n",
    "    X, y = shuffle(X, y, random_state=42)\n",
    "    return X, y\n",
    "\n",
    "def create_sequences(X, y, seq_len=5):\n",
    "    X_seq, y_seq = [], []\n",
    "    for i in range(len(X) - seq_len + 1):\n",
    "        X_seq.append(X[i:i + seq_len])\n",
    "        y_seq.append(y[i + seq_len - 1])\n",
    "    return np.array(X_seq), np.array(y_seq)\n",
    "\n",
    "# --- Model builders with 32 and 16 units ---\n",
    "def build_lstm_model(input_shape):\n",
    "    inputs = Input(shape=input_shape)\n",
    "    x = LSTM(32, activation='tanh', recurrent_activation='sigmoid', unroll=True)(inputs)\n",
    "    x = Dropout(0.3)(x)\n",
    "    x = Dense(16, activation='relu')(x)\n",
    "    x = Dropout(0.3)(x)\n",
    "    outputs = Dense(1, activation='sigmoid')(x)\n",
    "    model = Model(inputs, outputs)\n",
    "    model.compile(optimizer=Adam(1e-4), loss='binary_crossentropy', metrics=['accuracy'])\n",
    "    return model\n",
    "\n",
    "def build_gru_model(input_shape):\n",
    "    inputs = Input(shape=input_shape)\n",
    "    x = GRU(32)(inputs)\n",
    "    x = Dropout(0.3)(x)\n",
    "    x = Dense(16, activation='relu')(x)\n",
    "    x = Dropout(0.3)(x)\n",
    "    outputs = Dense(1, activation='sigmoid')(x)\n",
    "    model = Model(inputs, outputs)\n",
    "    model.compile(optimizer=Adam(1e-4), loss='binary_crossentropy', metrics=['accuracy'])\n",
    "    return model\n",
    "\n",
    "def build_lstm_gru_model(input_shape):\n",
    "    inputs = Input(shape=input_shape)\n",
    "    x = LSTM(32, return_sequences=True, unroll=True)(inputs)\n",
    "    x = Dropout(0.3)(x)\n",
    "    x = GRU(32)(x)\n",
    "    x = Dropout(0.3)(x)\n",
    "    x = Dense(16, activation='relu')(x)\n",
    "    x = Dropout(0.3)(x)\n",
    "    outputs = Dense(1, activation='sigmoid')(x)\n",
    "    model = Model(inputs, outputs)\n",
    "    model.compile(optimizer=Adam(1e-4), loss='binary_crossentropy', metrics=['accuracy'])\n",
    "    return model\n",
    "\n",
    "def build_simple_rnn_model(input_shape):\n",
    "    inputs = Input(shape=input_shape)\n",
    "    x = SimpleRNN(32)(inputs)\n",
    "    x = Dropout(0.3)(x)\n",
    "    x = Dense(16, activation='relu')(x)\n",
    "    x = Dropout(0.3)(x)\n",
    "    outputs = Dense(1, activation='sigmoid')(x)\n",
    "    model = Model(inputs, outputs)\n",
    "    model.compile(optimizer=Adam(1e-4), loss='binary_crossentropy', metrics=['accuracy'])\n",
    "    return model\n",
    "\n",
    "def build_dense_model(input_shape):\n",
    "    inputs = Input(shape=input_shape)\n",
    "    x = Flatten()(inputs)\n",
    "    x = Dense(32, activation='relu')(x)\n",
    "    x = Dropout(0.3)(x)\n",
    "    x = Dense(16, activation='relu')(x)\n",
    "    x = Dropout(0.3)(x)\n",
    "    outputs = Dense(1, activation='sigmoid')(x)\n",
    "    model = Model(inputs, outputs)\n",
    "    model.compile(optimizer=Adam(1e-4), loss='binary_crossentropy', metrics=['accuracy'])\n",
    "    return model\n",
    "\n",
    "# --- Main execution ---\n",
    "def main():\n",
    "    feature_model_name = 'convnext_tiny'  # Change if needed\n",
    "    seq_len = 10\n",
    "    save_dir = '/content/drive/MyDrive/AVA'  # Change to your data path\n",
    "    normal_path = f\"{save_dir}/normal_features_{feature_model_name}.npy\"\n",
    "    anomaly_path = f\"{save_dir}/anomaly_features_{feature_model_name}.npy\"\n",
    "\n",
    "    X, y = prepare_data(normal_path, anomaly_path)\n",
    "    X_seq, y_seq = create_sequences(X, y, seq_len=seq_len)\n",
    "\n",
    "    model_builders = {\n",
    "        \"LSTM\": build_lstm_model,\n",
    "        \"GRU\": build_gru_model,\n",
    "        \"LSTM_GRU\": build_lstm_gru_model,\n",
    "        \"SimpleRNN\": build_simple_rnn_model,\n",
    "        \"Dense\": build_dense_model\n",
    "    }\n",
    "\n",
    "    num_runs = 5\n",
    "    all_results = []\n",
    "\n",
    "    for model_name, builder in model_builders.items():\n",
    "        print(f\"\\n==== Training model: {model_name} ====\")\n",
    "\n",
    "        metrics_list = {\n",
    "            \"accuracy\": [],\n",
    "            \"precision\": [],\n",
    "            \"recall\": [],\n",
    "            \"f1\": [],\n",
    "            \"auc\": []\n",
    "        }\n",
    "\n",
    "        histories = []\n",
    "\n",
    "        for run in range(num_runs):\n",
    "            print(f\" Run {run+1}/{num_runs}\")\n",
    "\n",
    "            X_train, X_test, y_train, y_test = train_test_split(\n",
    "                X_seq, y_seq, test_size=0.2, stratify=y_seq, random_state=run\n",
    "            )\n",
    "\n",
    "            model = builder(X_train.shape[1:])\n",
    "            es = EarlyStopping(patience=5, restore_best_weights=True, verbose=0)\n",
    "            history = model.fit(\n",
    "                X_train, y_train,\n",
    "                validation_data=(X_test, y_test),\n",
    "                epochs=50,\n",
    "                batch_size=32,\n",
    "                callbacks=[es],\n",
    "                verbose=1\n",
    "            )\n",
    "            histories.append(history)\n",
    "\n",
    "            y_prob = model.predict(X_test).ravel()\n",
    "            y_pred = (y_prob > 0.5).astype(int)\n",
    "\n",
    "            acc = accuracy_score(y_test, y_pred)\n",
    "            prec = precision_score(y_test, y_pred, zero_division=0)\n",
    "            rec = recall_score(y_test, y_pred, zero_division=0)\n",
    "            f1 = f1_score(y_test, y_pred, zero_division=0)\n",
    "            auc_score = roc_auc_score(y_test, y_prob)\n",
    "\n",
    "            # Store metrics\n",
    "            metrics_list[\"accuracy\"].append(acc)\n",
    "            metrics_list[\"precision\"].append(prec)\n",
    "            metrics_list[\"recall\"].append(rec)\n",
    "            metrics_list[\"f1\"].append(f1)\n",
    "            metrics_list[\"auc\"].append(auc_score)\n",
    "\n",
    "            all_results.append({\n",
    "                \"Model\": model_name,\n",
    "                \"Run\": run + 1,\n",
    "                \"Accuracy\": acc,\n",
    "                \"Precision\": prec,\n",
    "                \"Recall\": rec,\n",
    "                \"F1\": f1,\n",
    "                \"AUC\": auc_score\n",
    "            })\n",
    "\n",
    "            # Clear to save memory\n",
    "            K.clear_session()\n",
    "            del model\n",
    "            gc.collect()\n",
    "\n",
    "        # Plot training curves for last run\n",
    "        last_history = histories[-1]\n",
    "        plt.figure(figsize=(12,5))\n",
    "        plt.subplot(1,2,1)\n",
    "        plt.plot(last_history.history['accuracy'], label='Train Accuracy')\n",
    "        plt.plot(last_history.history['val_accuracy'], label='Validation Accuracy')\n",
    "        plt.title(f'{model_name} Accuracy per Epoch')\n",
    "        plt.xlabel('Epoch')\n",
    "        plt.ylabel('Accuracy')\n",
    "        plt.legend()\n",
    "        plt.grid(True)\n",
    "\n",
    "        plt.subplot(1,2,2)\n",
    "        plt.plot(last_history.history['loss'], label='Train Loss')\n",
    "        plt.plot(last_history.history['val_loss'], label='Validation Loss')\n",
    "        plt.title(f'{model_name} Loss per Epoch')\n",
    "        plt.xlabel('Epoch')\n",
    "        plt.ylabel('Loss')\n",
    "        plt.legend()\n",
    "        plt.grid(True)\n",
    "\n",
    "        plt.tight_layout()\n",
    "        plt.show()\n",
    "\n",
    "        # Print mean ± std summary for all runs\n",
    "        print(f\"\\n==== Summary for {model_name} (over {num_runs} runs) ====\")\n",
    "        for metric in metrics_list:\n",
    "            mean_val = np.mean(metrics_list[metric])\n",
    "            std_val = np.std(metrics_list[metric])\n",
    "            print(f\"{metric.capitalize()}: {mean_val:.4f} ± {std_val:.4f}\")\n",
    "\n",
    "        # Plot boxplots of the 5 runs for metrics\n",
    "        plt.figure(figsize=(10,6))\n",
    "        sns.boxplot(data=[metrics_list[\"accuracy\"], metrics_list[\"f1\"], metrics_list[\"auc\"]],\n",
    "                    palette=\"Set2\")\n",
    "        plt.xticks([0,1,2], ['Accuracy', 'F1-score', 'AUC'])\n",
    "        plt.title(f'{model_name} Metrics Boxplot over {num_runs} runs')\n",
    "        plt.ylabel('Score')\n",
    "        plt.grid(True)\n",
    "        plt.show()\n",
    "\n",
    "    # Save all results to CSV\n",
    "    df = pd.DataFrame(all_results)\n",
    "    csv_save_path = os.path.join(save_dir, f\"results_all_models_{feature_model_name}.csv\")\n",
    "    df.to_csv(csv_save_path, index=False)\n",
    "    print(f\"\\nAll run results saved to: {csv_save_path}\")\n",
    "\n",
    "if __name__ == \"__main__\":\n",
    "    main()\n"
   ]
  },
  {
   "cell_type": "code",
   "execution_count": null,
   "metadata": {
    "colab": {
     "base_uri": "https://localhost:8080/",
     "height": 1000
    },
    "id": "NFemTHA7HEzL",
    "outputId": "3ec71593-b743-418a-8896-2e7f3c236f43"
   },
   "outputs": [
    {
     "name": "stdout",
     "output_type": "stream",
     "text": [
      "\n",
      "==== Training model: LSTM ====\n",
      " Run 1/5\n",
      "Epoch 1/50\n",
      "\u001b[1m581/581\u001b[0m \u001b[32m━━━━━━━━━━━━━━━━━━━━\u001b[0m\u001b[37m\u001b[0m \u001b[1m7s\u001b[0m 7ms/step - accuracy: 0.7465 - loss: 0.5055 - val_accuracy: 0.9082 - val_loss: 0.2393\n",
      "Epoch 2/50\n",
      "\u001b[1m581/581\u001b[0m \u001b[32m━━━━━━━━━━━━━━━━━━━━\u001b[0m\u001b[37m\u001b[0m \u001b[1m3s\u001b[0m 6ms/step - accuracy: 0.9100 - loss: 0.2565 - val_accuracy: 0.9227 - val_loss: 0.1886\n",
      "Epoch 3/50\n",
      "\u001b[1m581/581\u001b[0m \u001b[32m━━━━━━━━━━━━━━━━━━━━\u001b[0m\u001b[37m\u001b[0m \u001b[1m3s\u001b[0m 6ms/step - accuracy: 0.9221 - loss: 0.2126 - val_accuracy:\n",
      "... [خلاصه شد] ...\n"
     ]
    },
    {
     "data": {
      "text/plain": [
       "[تصویر خروجی در فایل nb_outputs_images\\cell19_output1.png ذخیره شد]"
      ]
     },
     "output_type": "display_data"
    },
    {
     "name": "stdout",
     "output_type": "stream",
     "text": [
      "\n",
      "==== Summary for LSTM (over 5 runs) ====\n",
      "Accuracy: 0.9824 ± 0.0029\n",
      "Precision: 0.9837 ± 0.0041\n",
      "Recall: 0.9810 ± 0.0030\n",
      "F1: 0.9824 ± 0.0029\n",
      "Auc: 0.9984 ± 0.0006\n"
     ]
    },
    {
     "data": {
      "text/plain": [
       "[تصویر خروجی در فایل nb_outputs_images\\cell19_output3.png ذخیره شد]"
      ]
     },
     "output_type": "display_data"
    },
    {
     "name": "stdout",
     "output_type": "stream",
     "text": [
      "\n",
      "==== Training model: GRU ====\n",
      " Run 1/5\n",
      "Epoch 1/50\n",
      "\u001b[1m581/581\u001b[0m \u001b[32m━━━━━━━━━━━━━━━━━━━━\u001b[0m\u001b[37m\u001b[0m \u001b[1m7s\u001b[0m 8ms/step - accuracy: 0.6987 - loss: 0.5395 - val_accuracy: 0.9035 - val_loss: 0.2700\n",
      "Epoch 2/50\n",
      "\u001b[1m581/581\u001b[0m \u001b[32m━━━━━━━━━━━━━━━━━━━━\u001b[0m\u001b[37m\u001b[0m \u001b[1m4s\u001b[0m 8ms/step - accuracy: 0.8911 - loss: 0.2839 - val_accuracy: 0.9190 - val_loss: 0.2016\n",
      "Epoch 3/50\n",
      "\u001b[1m581/581\u001b[0m \u001b[32m━━━━━━━━━━━━━━━━━━━━\u001b[0m\u001b[37m\u001b[0m \u001b[1m4s\u001b[0m 8ms/step - accuracy: 0.9164 - loss: 0.2255 - val_accuracy: \n",
      "... [خلاصه شد] ...\n"
     ]
    },
    {
     "data": {
      "text/plain": [
       "[تصویر خروجی در فایل nb_outputs_images\\cell19_output5.png ذخیره شد]"
      ]
     },
     "output_type": "display_data"
    },
    {
     "name": "stdout",
     "output_type": "stream",
     "text": [
      "\n",
      "==== Summary for GRU (over 5 runs) ====\n",
      "Accuracy: 0.9813 ± 0.0029\n",
      "Precision: 0.9837 ± 0.0015\n",
      "Recall: 0.9788 ± 0.0052\n",
      "F1: 0.9812 ± 0.0029\n",
      "Auc: 0.9982 ± 0.0005\n"
     ]
    },
    {
     "data": {
      "text/plain": [
       "[تصویر خروجی در فایل nb_outputs_images\\cell19_output7.png ذخیره شد]"
      ]
     },
     "output_type": "display_data"
    },
    {
     "name": "stdout",
     "output_type": "stream",
     "text": [
      "\n",
      "==== Training model: LSTM_GRU ====\n",
      " Run 1/5\n",
      "Epoch 1/50\n",
      "\u001b[1m581/581\u001b[0m \u001b[32m━━━━━━━━━━━━━━━━━━━━\u001b[0m\u001b[37m\u001b[0m \u001b[1m11s\u001b[0m 12ms/step - accuracy: 0.6675 - loss: 0.6068 - val_accuracy: 0.9001 - val_loss: 0.2861\n",
      "Epoch 2/50\n",
      "\u001b[1m581/581\u001b[0m \u001b[32m━━━━━━━━━━━━━━━━━━━━\u001b[0m\u001b[37m\u001b[0m \u001b[1m6s\u001b[0m 10ms/step - accuracy: 0.8906 - loss: 0.3108 - val_accuracy: 0.9229 - val_loss: 0.2024\n",
      "Epoch 3/50\n",
      "\u001b[1m581/581\u001b[0m \u001b[32m━━━━━━━━━━━━━━━━━━━━\u001b[0m\u001b[37m\u001b[0m \u001b[1m6s\u001b[0m 10ms/step - accuracy: 0.9214 - loss: 0.2298 - val_a\n",
      "... [خلاصه شد] ...\n"
     ]
    },
    {
     "data": {
      "text/plain": [
       "[تصویر خروجی در فایل nb_outputs_images\\cell19_output9.png ذخیره شد]"
      ]
     },
     "output_type": "display_data"
    },
    {
     "name": "stdout",
     "output_type": "stream",
     "text": [
      "\n",
      "==== Summary for LSTM_GRU (over 5 runs) ====\n",
      "Accuracy: 0.9842 ± 0.0049\n",
      "Precision: 0.9842 ± 0.0050\n",
      "Recall: 0.9842 ± 0.0054\n",
      "F1: 0.9842 ± 0.0049\n",
      "Auc: 0.9983 ± 0.0009\n"
     ]
    },
    {
     "data": {
      "text/plain": [
       "[تصویر خروجی در فایل nb_outputs_images\\cell19_output11.png ذخیره شد]"
      ]
     },
     "output_type": "display_data"
    },
    {
     "name": "stdout",
     "output_type": "stream",
     "text": [
      "\n",
      "==== Training model: SimpleRNN ====\n",
      " Run 1/5\n",
      "Epoch 1/50\n",
      "\u001b[1m581/581\u001b[0m \u001b[32m━━━━━━━━━━━━━━━━━━━━\u001b[0m\u001b[37m\u001b[0m \u001b[1m5s\u001b[0m 5ms/step - accuracy: 0.7055 - loss: 0.5381 - val_accuracy: 0.8977 - val_loss: 0.2650\n",
      "Epoch 2/50\n",
      "\u001b[1m581/581\u001b[0m \u001b[32m━━━━━━━━━━━━━━━━━━━━\u001b[0m\u001b[37m\u001b[0m \u001b[1m3s\u001b[0m 4ms/step - accuracy: 0.8771 - loss: 0.3012 - val_accuracy: 0.9029 - val_loss: 0.2306\n",
      "Epoch 3/50\n",
      "\u001b[1m581/581\u001b[0m \u001b[32m━━━━━━━━━━━━━━━━━━━━\u001b[0m\u001b[37m\u001b[0m \u001b[1m2s\u001b[0m 4ms/step - accuracy: 0.8997 - loss: 0.2478 - val_accu\n",
      "... [خلاصه شد] ...\n"
     ]
    },
    {
     "data": {
      "text/plain": [
       "[تصویر خروجی در فایل nb_outputs_images\\cell19_output13.png ذخیره شد]"
      ]
     },
     "output_type": "display_data"
    },
    {
     "name": "stdout",
     "output_type": "stream",
     "text": [
      "\n",
      "==== Summary for SimpleRNN (over 5 runs) ====\n",
      "Accuracy: 0.9747 ± 0.0015\n",
      "Precision: 0.9759 ± 0.0028\n",
      "Recall: 0.9735 ± 0.0028\n",
      "F1: 0.9747 ± 0.0015\n",
      "Auc: 0.9970 ± 0.0006\n"
     ]
    },
    {
     "data": {
      "text/plain": [
       "[تصویر خروجی در فایل nb_outputs_images\\cell19_output15.png ذخیره شد]"
      ]
     },
     "output_type": "display_data"
    },
    {
     "name": "stdout",
     "output_type": "stream",
     "text": [
      "\n",
      "==== Training model: Dense ====\n",
      " Run 1/5\n",
      "Epoch 1/50\n",
      "\u001b[1m581/581\u001b[0m \u001b[32m━━━━━━━━━━━━━━━━━━━━\u001b[0m\u001b[37m\u001b[0m \u001b[1m4s\u001b[0m 5ms/step - accuracy: 0.5842 - loss: 0.6711 - val_accuracy: 0.8451 - val_loss: 0.3985\n",
      "Epoch 2/50\n",
      "\u001b[1m581/581\u001b[0m \u001b[32m━━━━━━━━━━━━━━━━━━━━\u001b[0m\u001b[37m\u001b[0m \u001b[1m2s\u001b[0m 4ms/step - accuracy: 0.7907 - loss: 0.4461 - val_accuracy: 0.8878 - val_loss: 0.3064\n",
      "Epoch 3/50\n",
      "\u001b[1m581/581\u001b[0m \u001b[32m━━━━━━━━━━━━━━━━━━━━\u001b[0m\u001b[37m\u001b[0m \u001b[1m2s\u001b[0m 4ms/step - accuracy: 0.8453 - loss: 0.3610 - val_accuracy\n",
      "... [خلاصه شد] ...\n"
     ]
    },
    {
     "data": {
      "text/plain": [
       "[تصویر خروجی در فایل nb_outputs_images\\cell19_output17.png ذخیره شد]"
      ]
     },
     "output_type": "display_data"
    },
    {
     "name": "stdout",
     "output_type": "stream",
     "text": [
      "\n",
      "==== Summary for Dense (over 5 runs) ====\n",
      "Accuracy: 0.9383 ± 0.0045\n",
      "Precision: 0.9545 ± 0.0075\n",
      "Recall: 0.9205 ± 0.0116\n",
      "F1: 0.9371 ± 0.0049\n",
      "Auc: 0.9862 ± 0.0013\n"
     ]
    },
    {
     "data": {
      "text/plain": [
       "[تصویر خروجی در فایل nb_outputs_images\\cell19_output19.png ذخیره شد]"
      ]
     },
     "output_type": "display_data"
    },
    {
     "name": "stdout",
     "output_type": "stream",
     "text": [
      "\n",
      "All run results saved to: /content/drive/MyDrive/AVA/results_all_models_repvgg_a0.csv\n"
     ]
    }
   ],
   "source": [
    "import numpy as np\n",
    "import tensorflow as tf\n",
    "from tensorflow.keras.layers import Input, Dense, Dropout, LSTM, GRU, SimpleRNN, Flatten\n",
    "from tensorflow.keras.models import Model\n",
    "from tensorflow.keras.optimizers import Adam\n",
    "from tensorflow.keras.callbacks import EarlyStopping\n",
    "from sklearn.model_selection import train_test_split\n",
    "from sklearn.metrics import (\n",
    "    accuracy_score, precision_score, recall_score, f1_score,\n",
    "    roc_auc_score, confusion_matrix, classification_report,\n",
    "    roc_curve, precision_recall_curve, auc\n",
    ")\n",
    "from sklearn.utils import shuffle\n",
    "import matplotlib.pyplot as plt\n",
    "import seaborn as sns\n",
    "import pandas as pd\n",
    "import os\n",
    "import gc\n",
    "from tensorflow.keras import backend as K\n",
    "\n",
    "os.environ[\"CUDA_VISIBLE_DEVICES\"] = \"\"\n",
    "\n",
    "# --- Data loading and preprocessing ---\n",
    "def prepare_data(normal_path, anomaly_path):\n",
    "    X_normal = np.load(normal_path, allow_pickle=True)\n",
    "    if X_normal.ndim >= 4:\n",
    "        X_normal = X_normal.mean(axis=(2, 3))\n",
    "    X_anomaly = np.load(anomaly_path, allow_pickle=True)\n",
    "    if X_anomaly.ndim >= 4:\n",
    "        X_anomaly = X_anomaly.mean(axis=(2, 3))\n",
    "    X = np.concatenate([X_normal, X_anomaly])\n",
    "    y = np.concatenate([np.zeros(len(X_normal)), np.ones(len(X_anomaly))])\n",
    "    X = X.astype(np.float32)\n",
    "    X = np.nan_to_num(X, nan=0.0, posinf=0.0, neginf=0.0)\n",
    "    X, y = shuffle(X, y, random_state=42)\n",
    "    return X, y\n",
    "\n",
    "def create_sequences(X, y, seq_len=5):\n",
    "    X_seq, y_seq = [], []\n",
    "    for i in range(len(X) - seq_len + 1):\n",
    "        X_seq.append(X[i:i + seq_len])\n",
    "        y_seq.append(y[i + seq_len - 1])\n",
    "    return np.array(X_seq), np.array(y_seq)\n",
    "\n",
    "# --- Model builders with 32 and 16 units ---\n",
    "def build_lstm_model(input_shape):\n",
    "    inputs = Input(shape=input_shape)\n",
    "    x = LSTM(32, activation='tanh', recurrent_activation='sigmoid', unroll=True)(inputs)\n",
    "    x = Dropout(0.3)(x)\n",
    "    x = Dense(16, activation='relu')(x)\n",
    "    x = Dropout(0.3)(x)\n",
    "    outputs = Dense(1, activation='sigmoid')(x)\n",
    "    model = Model(inputs, outputs)\n",
    "    model.compile(optimizer=Adam(1e-4), loss='binary_crossentropy', metrics=['accuracy'])\n",
    "    return model\n",
    "\n",
    "def build_gru_model(input_shape):\n",
    "    inputs = Input(shape=input_shape)\n",
    "    x = GRU(32)(inputs)\n",
    "    x = Dropout(0.3)(x)\n",
    "    x = Dense(16, activation='relu')(x)\n",
    "    x = Dropout(0.3)(x)\n",
    "    outputs = Dense(1, activation='sigmoid')(x)\n",
    "    model = Model(inputs, outputs)\n",
    "    model.compile(optimizer=Adam(1e-4), loss='binary_crossentropy', metrics=['accuracy'])\n",
    "    return model\n",
    "\n",
    "def build_lstm_gru_model(input_shape):\n",
    "    inputs = Input(shape=input_shape)\n",
    "    x = LSTM(32, return_sequences=True, unroll=True)(inputs)\n",
    "    x = Dropout(0.3)(x)\n",
    "    x = GRU(32)(x)\n",
    "    x = Dropout(0.3)(x)\n",
    "    x = Dense(16, activation='relu')(x)\n",
    "    x = Dropout(0.3)(x)\n",
    "    outputs = Dense(1, activation='sigmoid')(x)\n",
    "    model = Model(inputs, outputs)\n",
    "    model.compile(optimizer=Adam(1e-4), loss='binary_crossentropy', metrics=['accuracy'])\n",
    "    return model\n",
    "\n",
    "def build_simple_rnn_model(input_shape):\n",
    "    inputs = Input(shape=input_shape)\n",
    "    x = SimpleRNN(32)(inputs)\n",
    "    x = Dropout(0.3)(x)\n",
    "    x = Dense(16, activation='relu')(x)\n",
    "    x = Dropout(0.3)(x)\n",
    "    outputs = Dense(1, activation='sigmoid')(x)\n",
    "    model = Model(inputs, outputs)\n",
    "    model.compile(optimizer=Adam(1e-4), loss='binary_crossentropy', metrics=['accuracy'])\n",
    "    return model\n",
    "\n",
    "def build_dense_model(input_shape):\n",
    "    inputs = Input(shape=input_shape)\n",
    "    x = Flatten()(inputs)\n",
    "    x = Dense(32, activation='relu')(x)\n",
    "    x = Dropout(0.3)(x)\n",
    "    x = Dense(16, activation='relu')(x)\n",
    "    x = Dropout(0.3)(x)\n",
    "    outputs = Dense(1, activation='sigmoid')(x)\n",
    "    model = Model(inputs, outputs)\n",
    "    model.compile(optimizer=Adam(1e-4), loss='binary_crossentropy', metrics=['accuracy'])\n",
    "    return model\n",
    "\n",
    "# --- Main execution ---\n",
    "def main():\n",
    "    feature_model_name = 'repvgg_a0'  # Change if needed\n",
    "    seq_len = 10\n",
    "    save_dir = '/content/drive/MyDrive/AVA'  # Change to your data path\n",
    "    normal_path = f\"{save_dir}/normal_features_{feature_model_name}.npy\"\n",
    "    anomaly_path = f\"{save_dir}/anomaly_features_{feature_model_name}.npy\"\n",
    "\n",
    "    X, y = prepare_data(normal_path, anomaly_path)\n",
    "    X_seq, y_seq = create_sequences(X, y, seq_len=seq_len)\n",
    "\n",
    "    model_builders = {\n",
    "        \"LSTM\": build_lstm_model,\n",
    "        \"GRU\": build_gru_model,\n",
    "        \"LSTM_GRU\": build_lstm_gru_model,\n",
    "        \"SimpleRNN\": build_simple_rnn_model,\n",
    "        \"Dense\": build_dense_model\n",
    "    }\n",
    "\n",
    "    num_runs = 5\n",
    "    all_results = []\n",
    "\n",
    "    for model_name, builder in model_builders.items():\n",
    "        print(f\"\\n==== Training model: {model_name} ====\")\n",
    "\n",
    "        metrics_list = {\n",
    "            \"accuracy\": [],\n",
    "            \"precision\": [],\n",
    "            \"recall\": [],\n",
    "            \"f1\": [],\n",
    "            \"auc\": []\n",
    "        }\n",
    "\n",
    "        histories = []\n",
    "\n",
    "        for run in range(num_runs):\n",
    "            print(f\" Run {run+1}/{num_runs}\")\n",
    "\n",
    "            X_train, X_test, y_train, y_test = train_test_split(\n",
    "                X_seq, y_seq, test_size=0.2, stratify=y_seq, random_state=run\n",
    "            )\n",
    "\n",
    "            model = builder(X_train.shape[1:])\n",
    "            es = EarlyStopping(patience=5, restore_best_weights=True, verbose=0)\n",
    "            history = model.fit(\n",
    "                X_train, y_train,\n",
    "                validation_data=(X_test, y_test),\n",
    "                epochs=50,\n",
    "                batch_size=32,\n",
    "                callbacks=[es],\n",
    "                verbose=1\n",
    "            )\n",
    "            histories.append(history)\n",
    "\n",
    "            y_prob = model.predict(X_test).ravel()\n",
    "            y_pred = (y_prob > 0.5).astype(int)\n",
    "\n",
    "            acc = accuracy_score(y_test, y_pred)\n",
    "            prec = precision_score(y_test, y_pred, zero_division=0)\n",
    "            rec = recall_score(y_test, y_pred, zero_division=0)\n",
    "            f1 = f1_score(y_test, y_pred, zero_division=0)\n",
    "            auc_score = roc_auc_score(y_test, y_prob)\n",
    "\n",
    "            # Store metrics\n",
    "            metrics_list[\"accuracy\"].append(acc)\n",
    "            metrics_list[\"precision\"].append(prec)\n",
    "            metrics_list[\"recall\"].append(rec)\n",
    "            metrics_list[\"f1\"].append(f1)\n",
    "            metrics_list[\"auc\"].append(auc_score)\n",
    "\n",
    "            all_results.append({\n",
    "                \"Model\": model_name,\n",
    "                \"Run\": run + 1,\n",
    "                \"Accuracy\": acc,\n",
    "                \"Precision\": prec,\n",
    "                \"Recall\": rec,\n",
    "                \"F1\": f1,\n",
    "                \"AUC\": auc_score\n",
    "            })\n",
    "\n",
    "            # Clear to save memory\n",
    "            K.clear_session()\n",
    "            del model\n",
    "            gc.collect()\n",
    "\n",
    "        # Plot training curves for last run\n",
    "        last_history = histories[-1]\n",
    "        plt.figure(figsize=(12,5))\n",
    "        plt.subplot(1,2,1)\n",
    "        plt.plot(last_history.history['accuracy'], label='Train Accuracy')\n",
    "        plt.plot(last_history.history['val_accuracy'], label='Validation Accuracy')\n",
    "        plt.title(f'{model_name} Accuracy per Epoch')\n",
    "        plt.xlabel('Epoch')\n",
    "        plt.ylabel('Accuracy')\n",
    "        plt.legend()\n",
    "        plt.grid(True)\n",
    "\n",
    "        plt.subplot(1,2,2)\n",
    "        plt.plot(last_history.history['loss'], label='Train Loss')\n",
    "        plt.plot(last_history.history['val_loss'], label='Validation Loss')\n",
    "        plt.title(f'{model_name} Loss per Epoch')\n",
    "        plt.xlabel('Epoch')\n",
    "        plt.ylabel('Loss')\n",
    "        plt.legend()\n",
    "        plt.grid(True)\n",
    "\n",
    "        plt.tight_layout()\n",
    "        plt.show()\n",
    "\n",
    "        # Print mean ± std summary for all runs\n",
    "        print(f\"\\n==== Summary for {model_name} (over {num_runs} runs) ====\")\n",
    "        for metric in metrics_list:\n",
    "            mean_val = np.mean(metrics_list[metric])\n",
    "            std_val = np.std(metrics_list[metric])\n",
    "            print(f\"{metric.capitalize()}: {mean_val:.4f} ± {std_val:.4f}\")\n",
    "\n",
    "        # Plot boxplots of the 5 runs for metrics\n",
    "        plt.figure(figsize=(10,6))\n",
    "        sns.boxplot(data=[metrics_list[\"accuracy\"], metrics_list[\"f1\"], metrics_list[\"auc\"]],\n",
    "                    palette=\"Set2\")\n",
    "        plt.xticks([0,1,2], ['Accuracy', 'F1-score', 'AUC'])\n",
    "        plt.title(f'{model_name} Metrics Boxplot over {num_runs} runs')\n",
    "        plt.ylabel('Score')\n",
    "        plt.grid(True)\n",
    "        plt.show()\n",
    "\n",
    "    # Save all results to CSV\n",
    "    df = pd.DataFrame(all_results)\n",
    "    csv_save_path = os.path.join(save_dir, f\"results_all_models_{feature_model_name}.csv\")\n",
    "    df.to_csv(csv_save_path, index=False)\n",
    "    print(f\"\\nAll run results saved to: {csv_save_path}\")\n",
    "\n",
    "if __name__ == \"__main__\":\n",
    "    main()\n"
   ]
  },
  {
   "cell_type": "code",
   "execution_count": null,
   "metadata": {
    "colab": {
     "base_uri": "https://localhost:8080/",
     "height": 1000
    },
    "id": "i4ayXqYmIijO",
    "outputId": "3989e84c-8dbb-40df-d6c7-4c51e63bbbda"
   },
   "outputs": [
    {
     "name": "stdout",
     "output_type": "stream",
     "text": [
      "\n",
      "==== Training model: LSTM ====\n",
      " Run 1/5\n",
      "Epoch 1/50\n",
      "\u001b[1m581/581\u001b[0m \u001b[32m━━━━━━━━━━━━━━━━━━━━\u001b[0m\u001b[37m\u001b[0m \u001b[1m6s\u001b[0m 6ms/step - accuracy: 0.7032 - loss: 0.5629 - val_accuracy: 0.8889 - val_loss: 0.2885\n",
      "Epoch 2/50\n",
      "\u001b[1m581/581\u001b[0m \u001b[32m━━━━━━━━━━━━━━━━━━━━\u001b[0m\u001b[37m\u001b[0m \u001b[1m3s\u001b[0m 6ms/step - accuracy: 0.8812 - loss: 0.3127 - val_accuracy: 0.9095 - val_loss: 0.2309\n",
      "Epoch 3/50\n",
      "\u001b[1m581/581\u001b[0m \u001b[32m━━━━━━━━━━━━━━━━━━━━\u001b[0m\u001b[37m\u001b[0m \u001b[1m3s\u001b[0m 6ms/step - accuracy: 0.9068 - loss: 0.2527 - val_accuracy:\n",
      "... [خلاصه شد] ...\n"
     ]
    },
    {
     "data": {
      "text/plain": [
       "[تصویر خروجی در فایل nb_outputs_images\\cell20_output1.png ذخیره شد]"
      ]
     },
     "output_type": "display_data"
    },
    {
     "name": "stdout",
     "output_type": "stream",
     "text": [
      "\n",
      "==== Summary for LSTM (over 5 runs) ====\n",
      "Accuracy: 0.9754 ± 0.0043\n",
      "Precision: 0.9799 ± 0.0067\n",
      "Recall: 0.9707 ± 0.0029\n",
      "F1: 0.9752 ± 0.0042\n",
      "Auc: 0.9971 ± 0.0011\n"
     ]
    },
    {
     "data": {
      "text/plain": [
       "[تصویر خروجی در فایل nb_outputs_images\\cell20_output3.png ذخیره شد]"
      ]
     },
     "output_type": "display_data"
    },
    {
     "name": "stdout",
     "output_type": "stream",
     "text": [
      "\n",
      "==== Training model: GRU ====\n",
      " Run 1/5\n",
      "Epoch 1/50\n",
      "\u001b[1m581/581\u001b[0m \u001b[32m━━━━━━━━━━━━━━━━━━━━\u001b[0m\u001b[37m\u001b[0m \u001b[1m7s\u001b[0m 8ms/step - accuracy: 0.7118 - loss: 0.5357 - val_accuracy: 0.9031 - val_loss: 0.2495\n",
      "Epoch 2/50\n",
      "\u001b[1m581/581\u001b[0m \u001b[32m━━━━━━━━━━━━━━━━━━━━\u001b[0m\u001b[37m\u001b[0m \u001b[1m4s\u001b[0m 7ms/step - accuracy: 0.8928 - loss: 0.2814 - val_accuracy: 0.9175 - val_loss: 0.2103\n",
      "Epoch 3/50\n",
      "\u001b[1m581/581\u001b[0m \u001b[32m━━━━━━━━━━━━━━━━━━━━\u001b[0m\u001b[37m\u001b[0m \u001b[1m4s\u001b[0m 7ms/step - accuracy: 0.9104 - loss: 0.2350 - val_accuracy: \n",
      "... [خلاصه شد] ...\n"
     ]
    },
    {
     "data": {
      "text/plain": [
       "[تصویر خروجی در فایل nb_outputs_images\\cell20_output5.png ذخیره شد]"
      ]
     },
     "output_type": "display_data"
    },
    {
     "name": "stdout",
     "output_type": "stream",
     "text": [
      "\n",
      "==== Summary for GRU (over 5 runs) ====\n",
      "Accuracy: 0.9723 ± 0.0052\n",
      "Precision: 0.9801 ± 0.0030\n",
      "Recall: 0.9641 ± 0.0093\n",
      "F1: 0.9720 ± 0.0054\n",
      "Auc: 0.9965 ± 0.0009\n"
     ]
    },
    {
     "data": {
      "text/plain": [
       "[تصویر خروجی در فایل nb_outputs_images\\cell20_output7.png ذخیره شد]"
      ]
     },
     "output_type": "display_data"
    },
    {
     "name": "stdout",
     "output_type": "stream",
     "text": [
      "\n",
      "==== Training model: LSTM_GRU ====\n",
      " Run 1/5\n",
      "Epoch 1/50\n",
      "\u001b[1m581/581\u001b[0m \u001b[32m━━━━━━━━━━━━━━━━━━━━\u001b[0m\u001b[37m\u001b[0m \u001b[1m11s\u001b[0m 12ms/step - accuracy: 0.6453 - loss: 0.6136 - val_accuracy: 0.8762 - val_loss: 0.2956\n",
      "Epoch 2/50\n",
      "\u001b[1m581/581\u001b[0m \u001b[32m━━━━━━━━━━━━━━━━━━━━\u001b[0m\u001b[37m\u001b[0m \u001b[1m6s\u001b[0m 10ms/step - accuracy: 0.8850 - loss: 0.3042 - val_accuracy: 0.9145 - val_loss: 0.2141\n",
      "Epoch 3/50\n",
      "\u001b[1m581/581\u001b[0m \u001b[32m━━━━━━━━━━━━━━━━━━━━\u001b[0m\u001b[37m\u001b[0m \u001b[1m6s\u001b[0m 10ms/step - accuracy: 0.9129 - loss: 0.2436 - val_a\n",
      "... [خلاصه شد] ...\n"
     ]
    },
    {
     "data": {
      "text/plain": [
       "[تصویر خروجی در فایل nb_outputs_images\\cell20_output9.png ذخیره شد]"
      ]
     },
     "output_type": "display_data"
    },
    {
     "name": "stdout",
     "output_type": "stream",
     "text": [
      "\n",
      "==== Summary for LSTM_GRU (over 5 runs) ====\n",
      "Accuracy: 0.9810 ± 0.0015\n",
      "Precision: 0.9819 ± 0.0036\n",
      "Recall: 0.9802 ± 0.0016\n",
      "F1: 0.9810 ± 0.0014\n",
      "Auc: 0.9978 ± 0.0005\n"
     ]
    },
    {
     "data": {
      "text/plain": [
       "[تصویر خروجی در فایل nb_outputs_images\\cell20_output11.png ذخیره شد]"
      ]
     },
     "output_type": "display_data"
    },
    {
     "name": "stdout",
     "output_type": "stream",
     "text": [
      "\n",
      "==== Training model: SimpleRNN ====\n",
      " Run 1/5\n",
      "Epoch 1/50\n",
      "\u001b[1m581/581\u001b[0m \u001b[32m━━━━━━━━━━━━━━━━━━━━\u001b[0m\u001b[37m\u001b[0m \u001b[1m5s\u001b[0m 5ms/step - accuracy: 0.6949 - loss: 0.5692 - val_accuracy: 0.8783 - val_loss: 0.2886\n",
      "Epoch 2/50\n",
      "\u001b[1m581/581\u001b[0m \u001b[32m━━━━━━━━━━━━━━━━━━━━\u001b[0m\u001b[37m\u001b[0m \u001b[1m2s\u001b[0m 4ms/step - accuracy: 0.8579 - loss: 0.3288 - val_accuracy: 0.9048 - val_loss: 0.2360\n",
      "Epoch 3/50\n",
      "\u001b[1m581/581\u001b[0m \u001b[32m━━━━━━━━━━━━━━━━━━━━\u001b[0m\u001b[37m\u001b[0m \u001b[1m2s\u001b[0m 4ms/step - accuracy: 0.8922 - loss: 0.2749 - val_accu\n",
      "... [خلاصه شد] ...\n"
     ]
    },
    {
     "data": {
      "text/plain": [
       "[تصویر خروجی در فایل nb_outputs_images\\cell20_output13.png ذخیره شد]"
      ]
     },
     "output_type": "display_data"
    },
    {
     "name": "stdout",
     "output_type": "stream",
     "text": [
      "\n",
      "==== Summary for SimpleRNN (over 5 runs) ====\n",
      "Accuracy: 0.9641 ± 0.0049\n",
      "Precision: 0.9753 ± 0.0073\n",
      "Recall: 0.9523 ± 0.0083\n",
      "F1: 0.9636 ± 0.0049\n",
      "Auc: 0.9944 ± 0.0013\n"
     ]
    },
    {
     "data": {
      "text/plain": [
       "[تصویر خروجی در فایل nb_outputs_images\\cell20_output15.png ذخیره شد]"
      ]
     },
     "output_type": "display_data"
    },
    {
     "name": "stdout",
     "output_type": "stream",
     "text": [
      "\n",
      "==== Training model: Dense ====\n",
      " Run 1/5\n",
      "Epoch 1/50\n",
      "\u001b[1m581/581\u001b[0m \u001b[32m━━━━━━━━━━━━━━━━━━━━\u001b[0m\u001b[37m\u001b[0m \u001b[1m4s\u001b[0m 4ms/step - accuracy: 0.5968 - loss: 0.6366 - val_accuracy: 0.8352 - val_loss: 0.4230\n",
      "Epoch 2/50\n",
      "\u001b[1m581/581\u001b[0m \u001b[32m━━━━━━━━━━━━━━━━━━━━\u001b[0m\u001b[37m\u001b[0m \u001b[1m2s\u001b[0m 4ms/step - accuracy: 0.7738 - loss: 0.4540 - val_accuracy: 0.8721 - val_loss: 0.3366\n",
      "Epoch 3/50\n",
      "\u001b[1m581/581\u001b[0m \u001b[32m━━━━━━━━━━━━━━━━━━━━\u001b[0m\u001b[37m\u001b[0m \u001b[1m2s\u001b[0m 4ms/step - accuracy: 0.8306 - loss: 0.3788 - val_accuracy\n",
      "... [خلاصه شد] ...\n"
     ]
    },
    {
     "data": {
      "text/plain": [
       "[تصویر خروجی در فایل nb_outputs_images\\cell20_output17.png ذخیره شد]"
      ]
     },
     "output_type": "display_data"
    },
    {
     "name": "stdout",
     "output_type": "stream",
     "text": [
      "\n",
      "==== Summary for Dense (over 5 runs) ====\n",
      "Accuracy: 0.9338 ± 0.0048\n",
      "Precision: 0.9565 ± 0.0057\n",
      "Recall: 0.9090 ± 0.0067\n",
      "F1: 0.9321 ± 0.0050\n",
      "Auc: 0.9805 ± 0.0054\n"
     ]
    },
    {
     "data": {
      "text/plain": [
       "[تصویر خروجی در فایل nb_outputs_images\\cell20_output19.png ذخیره شد]"
      ]
     },
     "output_type": "display_data"
    },
    {
     "name": "stdout",
     "output_type": "stream",
     "text": [
      "\n",
      "All run results saved to: /content/drive/MyDrive/AVA/results_all_models_mobileone_s0.csv\n"
     ]
    }
   ],
   "source": [
    "import numpy as np\n",
    "import tensorflow as tf\n",
    "from tensorflow.keras.layers import Input, Dense, Dropout, LSTM, GRU, SimpleRNN, Flatten\n",
    "from tensorflow.keras.models import Model\n",
    "from tensorflow.keras.optimizers import Adam\n",
    "from tensorflow.keras.callbacks import EarlyStopping\n",
    "from sklearn.model_selection import train_test_split\n",
    "from sklearn.metrics import (\n",
    "    accuracy_score, precision_score, recall_score, f1_score,\n",
    "    roc_auc_score, confusion_matrix, classification_report,\n",
    "    roc_curve, precision_recall_curve, auc\n",
    ")\n",
    "from sklearn.utils import shuffle\n",
    "import matplotlib.pyplot as plt\n",
    "import seaborn as sns\n",
    "import pandas as pd\n",
    "import os\n",
    "import gc\n",
    "from tensorflow.keras import backend as K\n",
    "\n",
    "os.environ[\"CUDA_VISIBLE_DEVICES\"] = \"\"\n",
    "\n",
    "# --- Data loading and preprocessing ---\n",
    "def prepare_data(normal_path, anomaly_path):\n",
    "    X_normal = np.load(normal_path, allow_pickle=True)\n",
    "    if X_normal.ndim >= 4:\n",
    "        X_normal = X_normal.mean(axis=(2, 3))\n",
    "    X_anomaly = np.load(anomaly_path, allow_pickle=True)\n",
    "    if X_anomaly.ndim >= 4:\n",
    "        X_anomaly = X_anomaly.mean(axis=(2, 3))\n",
    "    X = np.concatenate([X_normal, X_anomaly])\n",
    "    y = np.concatenate([np.zeros(len(X_normal)), np.ones(len(X_anomaly))])\n",
    "    X = X.astype(np.float32)\n",
    "    X = np.nan_to_num(X, nan=0.0, posinf=0.0, neginf=0.0)\n",
    "    X, y = shuffle(X, y, random_state=42)\n",
    "    return X, y\n",
    "\n",
    "def create_sequences(X, y, seq_len=5):\n",
    "    X_seq, y_seq = [], []\n",
    "    for i in range(len(X) - seq_len + 1):\n",
    "        X_seq.append(X[i:i + seq_len])\n",
    "        y_seq.append(y[i + seq_len - 1])\n",
    "    return np.array(X_seq), np.array(y_seq)\n",
    "\n",
    "# --- Model builders with 32 and 16 units ---\n",
    "def build_lstm_model(input_shape):\n",
    "    inputs = Input(shape=input_shape)\n",
    "    x = LSTM(32, activation='tanh', recurrent_activation='sigmoid', unroll=True)(inputs)\n",
    "    x = Dropout(0.3)(x)\n",
    "    x = Dense(16, activation='relu')(x)\n",
    "    x = Dropout(0.3)(x)\n",
    "    outputs = Dense(1, activation='sigmoid')(x)\n",
    "    model = Model(inputs, outputs)\n",
    "    model.compile(optimizer=Adam(1e-4), loss='binary_crossentropy', metrics=['accuracy'])\n",
    "    return model\n",
    "\n",
    "def build_gru_model(input_shape):\n",
    "    inputs = Input(shape=input_shape)\n",
    "    x = GRU(32)(inputs)\n",
    "    x = Dropout(0.3)(x)\n",
    "    x = Dense(16, activation='relu')(x)\n",
    "    x = Dropout(0.3)(x)\n",
    "    outputs = Dense(1, activation='sigmoid')(x)\n",
    "    model = Model(inputs, outputs)\n",
    "    model.compile(optimizer=Adam(1e-4), loss='binary_crossentropy', metrics=['accuracy'])\n",
    "    return model\n",
    "\n",
    "def build_lstm_gru_model(input_shape):\n",
    "    inputs = Input(shape=input_shape)\n",
    "    x = LSTM(32, return_sequences=True, unroll=True)(inputs)\n",
    "    x = Dropout(0.3)(x)\n",
    "    x = GRU(32)(x)\n",
    "    x = Dropout(0.3)(x)\n",
    "    x = Dense(16, activation='relu')(x)\n",
    "    x = Dropout(0.3)(x)\n",
    "    outputs = Dense(1, activation='sigmoid')(x)\n",
    "    model = Model(inputs, outputs)\n",
    "    model.compile(optimizer=Adam(1e-4), loss='binary_crossentropy', metrics=['accuracy'])\n",
    "    return model\n",
    "\n",
    "def build_simple_rnn_model(input_shape):\n",
    "    inputs = Input(shape=input_shape)\n",
    "    x = SimpleRNN(32)(inputs)\n",
    "    x = Dropout(0.3)(x)\n",
    "    x = Dense(16, activation='relu')(x)\n",
    "    x = Dropout(0.3)(x)\n",
    "    outputs = Dense(1, activation='sigmoid')(x)\n",
    "    model = Model(inputs, outputs)\n",
    "    model.compile(optimizer=Adam(1e-4), loss='binary_crossentropy', metrics=['accuracy'])\n",
    "    return model\n",
    "\n",
    "def build_dense_model(input_shape):\n",
    "    inputs = Input(shape=input_shape)\n",
    "    x = Flatten()(inputs)\n",
    "    x = Dense(32, activation='relu')(x)\n",
    "    x = Dropout(0.3)(x)\n",
    "    x = Dense(16, activation='relu')(x)\n",
    "    x = Dropout(0.3)(x)\n",
    "    outputs = Dense(1, activation='sigmoid')(x)\n",
    "    model = Model(inputs, outputs)\n",
    "    model.compile(optimizer=Adam(1e-4), loss='binary_crossentropy', metrics=['accuracy'])\n",
    "    return model\n",
    "\n",
    "# --- Main execution ---\n",
    "def main():\n",
    "    feature_model_name = 'mobileone_s0'  # Change if needed\n",
    "    seq_len = 10\n",
    "    save_dir = '/content/drive/MyDrive/AVA'  # Change to your data path\n",
    "    normal_path = f\"{save_dir}/normal_features_{feature_model_name}.npy\"\n",
    "    anomaly_path = f\"{save_dir}/anomaly_features_{feature_model_name}.npy\"\n",
    "\n",
    "    X, y = prepare_data(normal_path, anomaly_path)\n",
    "    X_seq, y_seq = create_sequences(X, y, seq_len=seq_len)\n",
    "\n",
    "    model_builders = {\n",
    "        \"LSTM\": build_lstm_model,\n",
    "        \"GRU\": build_gru_model,\n",
    "        \"LSTM_GRU\": build_lstm_gru_model,\n",
    "        \"SimpleRNN\": build_simple_rnn_model,\n",
    "        \"Dense\": build_dense_model\n",
    "    }\n",
    "\n",
    "    num_runs = 5\n",
    "    all_results = []\n",
    "\n",
    "    for model_name, builder in model_builders.items():\n",
    "        print(f\"\\n==== Training model: {model_name} ====\")\n",
    "\n",
    "        metrics_list = {\n",
    "            \"accuracy\": [],\n",
    "            \"precision\": [],\n",
    "            \"recall\": [],\n",
    "            \"f1\": [],\n",
    "            \"auc\": []\n",
    "        }\n",
    "\n",
    "        histories = []\n",
    "\n",
    "        for run in range(num_runs):\n",
    "            print(f\" Run {run+1}/{num_runs}\")\n",
    "\n",
    "            X_train, X_test, y_train, y_test = train_test_split(\n",
    "                X_seq, y_seq, test_size=0.2, stratify=y_seq, random_state=run\n",
    "            )\n",
    "\n",
    "            model = builder(X_train.shape[1:])\n",
    "            es = EarlyStopping(patience=5, restore_best_weights=True, verbose=0)\n",
    "            history = model.fit(\n",
    "                X_train, y_train,\n",
    "                validation_data=(X_test, y_test),\n",
    "                epochs=50,\n",
    "                batch_size=32,\n",
    "                callbacks=[es],\n",
    "                verbose=1\n",
    "            )\n",
    "            histories.append(history)\n",
    "\n",
    "            y_prob = model.predict(X_test).ravel()\n",
    "            y_pred = (y_prob > 0.5).astype(int)\n",
    "\n",
    "            acc = accuracy_score(y_test, y_pred)\n",
    "            prec = precision_score(y_test, y_pred, zero_division=0)\n",
    "            rec = recall_score(y_test, y_pred, zero_division=0)\n",
    "            f1 = f1_score(y_test, y_pred, zero_division=0)\n",
    "            auc_score = roc_auc_score(y_test, y_prob)\n",
    "\n",
    "            # Store metrics\n",
    "            metrics_list[\"accuracy\"].append(acc)\n",
    "            metrics_list[\"precision\"].append(prec)\n",
    "            metrics_list[\"recall\"].append(rec)\n",
    "            metrics_list[\"f1\"].append(f1)\n",
    "            metrics_list[\"auc\"].append(auc_score)\n",
    "\n",
    "            all_results.append({\n",
    "                \"Model\": model_name,\n",
    "                \"Run\": run + 1,\n",
    "                \"Accuracy\": acc,\n",
    "                \"Precision\": prec,\n",
    "                \"Recall\": rec,\n",
    "                \"F1\": f1,\n",
    "                \"AUC\": auc_score\n",
    "            })\n",
    "\n",
    "            # Clear to save memory\n",
    "            K.clear_session()\n",
    "            del model\n",
    "            gc.collect()\n",
    "\n",
    "        # Plot training curves for last run\n",
    "        last_history = histories[-1]\n",
    "        plt.figure(figsize=(12,5))\n",
    "        plt.subplot(1,2,1)\n",
    "        plt.plot(last_history.history['accuracy'], label='Train Accuracy')\n",
    "        plt.plot(last_history.history['val_accuracy'], label='Validation Accuracy')\n",
    "        plt.title(f'{model_name} Accuracy per Epoch')\n",
    "        plt.xlabel('Epoch')\n",
    "        plt.ylabel('Accuracy')\n",
    "        plt.legend()\n",
    "        plt.grid(True)\n",
    "\n",
    "        plt.subplot(1,2,2)\n",
    "        plt.plot(last_history.history['loss'], label='Train Loss')\n",
    "        plt.plot(last_history.history['val_loss'], label='Validation Loss')\n",
    "        plt.title(f'{model_name} Loss per Epoch')\n",
    "        plt.xlabel('Epoch')\n",
    "        plt.ylabel('Loss')\n",
    "        plt.legend()\n",
    "        plt.grid(True)\n",
    "\n",
    "        plt.tight_layout()\n",
    "        plt.show()\n",
    "\n",
    "        # Print mean ± std summary for all runs\n",
    "        print(f\"\\n==== Summary for {model_name} (over {num_runs} runs) ====\")\n",
    "        for metric in metrics_list:\n",
    "            mean_val = np.mean(metrics_list[metric])\n",
    "            std_val = np.std(metrics_list[metric])\n",
    "            print(f\"{metric.capitalize()}: {mean_val:.4f} ± {std_val:.4f}\")\n",
    "\n",
    "        # Plot boxplots of the 5 runs for metrics\n",
    "        plt.figure(figsize=(10,6))\n",
    "        sns.boxplot(data=[metrics_list[\"accuracy\"], metrics_list[\"f1\"], metrics_list[\"auc\"]],\n",
    "                    palette=\"Set2\")\n",
    "        plt.xticks([0,1,2], ['Accuracy', 'F1-score', 'AUC'])\n",
    "        plt.title(f'{model_name} Metrics Boxplot over {num_runs} runs')\n",
    "        plt.ylabel('Score')\n",
    "        plt.grid(True)\n",
    "        plt.show()\n",
    "\n",
    "    # Save all results to CSV\n",
    "    df = pd.DataFrame(all_results)\n",
    "    csv_save_path = os.path.join(save_dir, f\"results_all_models_{feature_model_name}.csv\")\n",
    "    df.to_csv(csv_save_path, index=False)\n",
    "    print(f\"\\nAll run results saved to: {csv_save_path}\")\n",
    "\n",
    "if __name__ == \"__main__\":\n",
    "    main()\n"
   ]
  },
  {
   "cell_type": "code",
   "execution_count": null,
   "metadata": {
    "colab": {
     "base_uri": "https://localhost:8080/",
     "height": 1000
    },
    "id": "180SR-NYIiw7",
    "outputId": "e0ad0075-35da-4e01-d414-9384c90c2d86"
   },
   "outputs": [
    {
     "name": "stdout",
     "output_type": "stream",
     "text": [
      "\n",
      "==== Training model: LSTM ====\n",
      " Run 1/5\n",
      "Epoch 1/50\n",
      "\u001b[1m581/581\u001b[0m \u001b[32m━━━━━━━━━━━━━━━━━━━━\u001b[0m\u001b[37m\u001b[0m \u001b[1m6s\u001b[0m 6ms/step - accuracy: 0.6837 - loss: 0.5836 - val_accuracy: 0.8938 - val_loss: 0.2936\n",
      "Epoch 2/50\n",
      "\u001b[1m581/581\u001b[0m \u001b[32m━━━━━━━━━━━━━━━━━━━━\u001b[0m\u001b[37m\u001b[0m \u001b[1m3s\u001b[0m 5ms/step - accuracy: 0.8919 - loss: 0.2966 - val_accuracy: 0.9179 - val_loss: 0.2148\n",
      "Epoch 3/50\n",
      "\u001b[1m581/581\u001b[0m \u001b[32m━━━━━━━━━━━━━━━━━━━━\u001b[0m\u001b[37m\u001b[0m \u001b[1m3s\u001b[0m 5ms/step - accuracy: 0.9136 - loss: 0.2297 - val_accuracy:\n",
      "... [خلاصه شد] ...\n"
     ]
    },
    {
     "data": {
      "text/plain": [
       "[تصویر خروجی در فایل nb_outputs_images\\cell21_output1.png ذخیره شد]"
      ]
     },
     "output_type": "display_data"
    },
    {
     "name": "stdout",
     "output_type": "stream",
     "text": [
      "\n",
      "==== Summary for LSTM (over 5 runs) ====\n",
      "Accuracy: 0.9781 ± 0.0026\n",
      "Precision: 0.9806 ± 0.0018\n",
      "Recall: 0.9755 ± 0.0041\n",
      "F1: 0.9781 ± 0.0026\n",
      "Auc: 0.9977 ± 0.0006\n"
     ]
    },
    {
     "data": {
      "text/plain": [
       "[تصویر خروجی در فایل nb_outputs_images\\cell21_output3.png ذخیره شد]"
      ]
     },
     "output_type": "display_data"
    },
    {
     "name": "stdout",
     "output_type": "stream",
     "text": [
      "\n",
      "==== Training model: GRU ====\n",
      " Run 1/5\n",
      "Epoch 1/50\n",
      "\u001b[1m581/581\u001b[0m \u001b[32m━━━━━━━━━━━━━━━━━━━━\u001b[0m\u001b[37m\u001b[0m \u001b[1m6s\u001b[0m 7ms/step - accuracy: 0.6804 - loss: 0.5721 - val_accuracy: 0.9074 - val_loss: 0.2475\n",
      "Epoch 2/50\n",
      "\u001b[1m581/581\u001b[0m \u001b[32m━━━━━━━━━━━━━━━━━━━━\u001b[0m\u001b[37m\u001b[0m \u001b[1m4s\u001b[0m 6ms/step - accuracy: 0.8962 - loss: 0.2753 - val_accuracy: 0.9205 - val_loss: 0.2019\n",
      "Epoch 3/50\n",
      "\u001b[1m581/581\u001b[0m \u001b[32m━━━━━━━━━━━━━━━━━━━━\u001b[0m\u001b[37m\u001b[0m \u001b[1m4s\u001b[0m 6ms/step - accuracy: 0.9147 - loss: 0.2280 - val_accuracy: \n",
      "... [خلاصه شد] ...\n"
     ]
    },
    {
     "data": {
      "text/plain": [
       "[تصویر خروجی در فایل nb_outputs_images\\cell21_output5.png ذخیره شد]"
      ]
     },
     "output_type": "display_data"
    },
    {
     "name": "stdout",
     "output_type": "stream",
     "text": [
      "\n",
      "==== Summary for GRU (over 5 runs) ====\n",
      "Accuracy: 0.9689 ± 0.0019\n",
      "Precision: 0.9742 ± 0.0049\n",
      "Recall: 0.9632 ± 0.0043\n",
      "F1: 0.9687 ± 0.0019\n",
      "Auc: 0.9963 ± 0.0004\n"
     ]
    },
    {
     "data": {
      "text/plain": [
       "[تصویر خروجی در فایل nb_outputs_images\\cell21_output7.png ذخیره شد]"
      ]
     },
     "output_type": "display_data"
    },
    {
     "name": "stdout",
     "output_type": "stream",
     "text": [
      "\n",
      "==== Training model: LSTM_GRU ====\n",
      " Run 1/5\n",
      "Epoch 1/50\n",
      "\u001b[1m581/581\u001b[0m \u001b[32m━━━━━━━━━━━━━━━━━━━━\u001b[0m\u001b[37m\u001b[0m \u001b[1m10s\u001b[0m 11ms/step - accuracy: 0.5921 - loss: 0.6592 - val_accuracy: 0.8968 - val_loss: 0.3148\n",
      "Epoch 2/50\n",
      "\u001b[1m581/581\u001b[0m \u001b[32m━━━━━━━━━━━━━━━━━━━━\u001b[0m\u001b[37m\u001b[0m \u001b[1m5s\u001b[0m 9ms/step - accuracy: 0.8799 - loss: 0.3334 - val_accuracy: 0.9212 - val_loss: 0.2123\n",
      "Epoch 3/50\n",
      "\u001b[1m581/581\u001b[0m \u001b[32m━━━━━━━━━━━━━━━━━━━━\u001b[0m\u001b[37m\u001b[0m \u001b[1m6s\u001b[0m 10ms/step - accuracy: 0.9127 - loss: 0.2522 - val_ac\n",
      "... [خلاصه شد] ...\n"
     ]
    },
    {
     "data": {
      "text/plain": [
       "[تصویر خروجی در فایل nb_outputs_images\\cell21_output9.png ذخیره شد]"
      ]
     },
     "output_type": "display_data"
    },
    {
     "name": "stdout",
     "output_type": "stream",
     "text": [
      "\n",
      "==== Summary for LSTM_GRU (over 5 runs) ====\n",
      "Accuracy: 0.9833 ± 0.0028\n",
      "Precision: 0.9840 ± 0.0017\n",
      "Recall: 0.9825 ± 0.0041\n",
      "F1: 0.9833 ± 0.0028\n",
      "Auc: 0.9982 ± 0.0007\n"
     ]
    },
    {
     "data": {
      "text/plain": [
       "[تصویر خروجی در فایل nb_outputs_images\\cell21_output11.png ذخیره شد]"
      ]
     },
     "output_type": "display_data"
    },
    {
     "name": "stdout",
     "output_type": "stream",
     "text": [
      "\n",
      "==== Training model: SimpleRNN ====\n",
      " Run 1/5\n",
      "Epoch 1/50\n",
      "\u001b[1m581/581\u001b[0m \u001b[32m━━━━━━━━━━━━━━━━━━━━\u001b[0m\u001b[37m\u001b[0m \u001b[1m4s\u001b[0m 4ms/step - accuracy: 0.7111 - loss: 0.5452 - val_accuracy: 0.9026 - val_loss: 0.2702\n",
      "Epoch 2/50\n",
      "\u001b[1m581/581\u001b[0m \u001b[32m━━━━━━━━━━━━━━━━━━━━\u001b[0m\u001b[37m\u001b[0m \u001b[1m2s\u001b[0m 4ms/step - accuracy: 0.8722 - loss: 0.3158 - val_accuracy: 0.9067 - val_loss: 0.2312\n",
      "Epoch 3/50\n",
      "\u001b[1m581/581\u001b[0m \u001b[32m━━━━━━━━━━━━━━━━━━━━\u001b[0m\u001b[37m\u001b[0m \u001b[1m2s\u001b[0m 4ms/step - accuracy: 0.8966 - loss: 0.2618 - val_accu\n",
      "... [خلاصه شد] ...\n"
     ]
    },
    {
     "data": {
      "text/plain": [
       "[تصویر خروجی در فایل nb_outputs_images\\cell21_output13.png ذخیره شد]"
      ]
     },
     "output_type": "display_data"
    },
    {
     "name": "stdout",
     "output_type": "stream",
     "text": [
      "\n",
      "==== Summary for SimpleRNN (over 5 runs) ====\n",
      "Accuracy: 0.9583 ± 0.0028\n",
      "Precision: 0.9695 ± 0.0039\n",
      "Recall: 0.9465 ± 0.0033\n",
      "F1: 0.9578 ± 0.0028\n",
      "Auc: 0.9938 ± 0.0007\n"
     ]
    },
    {
     "data": {
      "text/plain": [
       "[تصویر خروجی در فایل nb_outputs_images\\cell21_output15.png ذخیره شد]"
      ]
     },
     "output_type": "display_data"
    },
    {
     "name": "stdout",
     "output_type": "stream",
     "text": [
      "\n",
      "==== Training model: Dense ====\n",
      " Run 1/5\n",
      "Epoch 1/50\n",
      "\u001b[1m581/581\u001b[0m \u001b[32m━━━━━━━━━━━━━━━━━━━━\u001b[0m\u001b[37m\u001b[0m \u001b[1m3s\u001b[0m 4ms/step - accuracy: 0.6263 - loss: 0.6274 - val_accuracy: 0.8755 - val_loss: 0.3683\n",
      "Epoch 2/50\n",
      "\u001b[1m581/581\u001b[0m \u001b[32m━━━━━━━━━━━━━━━━━━━━\u001b[0m\u001b[37m\u001b[0m \u001b[1m2s\u001b[0m 3ms/step - accuracy: 0.8123 - loss: 0.4153 - val_accuracy: 0.9044 - val_loss: 0.2797\n",
      "Epoch 3/50\n",
      "\u001b[1m581/581\u001b[0m \u001b[32m━━━━━━━━━━━━━━━━━━━━\u001b[0m\u001b[37m\u001b[0m \u001b[1m2s\u001b[0m 3ms/step - accuracy: 0.8720 - loss: 0.3209 - val_accuracy\n",
      "... [خلاصه شد] ...\n"
     ]
    },
    {
     "data": {
      "text/plain": [
       "[تصویر خروجی در فایل nb_outputs_images\\cell21_output17.png ذخیره شد]"
      ]
     },
     "output_type": "display_data"
    },
    {
     "name": "stdout",
     "output_type": "stream",
     "text": [
      "\n",
      "==== Summary for Dense (over 5 runs) ====\n",
      "Accuracy: 0.9300 ± 0.0046\n",
      "Precision: 0.9529 ± 0.0059\n",
      "Recall: 0.9049 ± 0.0107\n",
      "F1: 0.9282 ± 0.0051\n",
      "Auc: 0.9819 ± 0.0021\n"
     ]
    },
    {
     "data": {
      "text/plain": [
       "[تصویر خروجی در فایل nb_outputs_images\\cell21_output19.png ذخیره شد]"
      ]
     },
     "output_type": "display_data"
    },
    {
     "name": "stdout",
     "output_type": "stream",
     "text": [
      "\n",
      "All run results saved to: /content/drive/MyDrive/AVA/results_all_models_poolformer_s12.csv\n"
     ]
    }
   ],
   "source": [
    "import numpy as np\n",
    "import tensorflow as tf\n",
    "from tensorflow.keras.layers import Input, Dense, Dropout, LSTM, GRU, SimpleRNN, Flatten\n",
    "from tensorflow.keras.models import Model\n",
    "from tensorflow.keras.optimizers import Adam\n",
    "from tensorflow.keras.callbacks import EarlyStopping\n",
    "from sklearn.model_selection import train_test_split\n",
    "from sklearn.metrics import (\n",
    "    accuracy_score, precision_score, recall_score, f1_score,\n",
    "    roc_auc_score, confusion_matrix, classification_report,\n",
    "    roc_curve, precision_recall_curve, auc\n",
    ")\n",
    "from sklearn.utils import shuffle\n",
    "import matplotlib.pyplot as plt\n",
    "import seaborn as sns\n",
    "import pandas as pd\n",
    "import os\n",
    "import gc\n",
    "from tensorflow.keras import backend as K\n",
    "\n",
    "os.environ[\"CUDA_VISIBLE_DEVICES\"] = \"\"\n",
    "\n",
    "# --- Data loading and preprocessing ---\n",
    "def prepare_data(normal_path, anomaly_path):\n",
    "    X_normal = np.load(normal_path, allow_pickle=True)\n",
    "    if X_normal.ndim >= 4:\n",
    "        X_normal = X_normal.mean(axis=(2, 3))\n",
    "    X_anomaly = np.load(anomaly_path, allow_pickle=True)\n",
    "    if X_anomaly.ndim >= 4:\n",
    "        X_anomaly = X_anomaly.mean(axis=(2, 3))\n",
    "    X = np.concatenate([X_normal, X_anomaly])\n",
    "    y = np.concatenate([np.zeros(len(X_normal)), np.ones(len(X_anomaly))])\n",
    "    X = X.astype(np.float32)\n",
    "    X = np.nan_to_num(X, nan=0.0, posinf=0.0, neginf=0.0)\n",
    "    X, y = shuffle(X, y, random_state=42)\n",
    "    return X, y\n",
    "\n",
    "def create_sequences(X, y, seq_len=5):\n",
    "    X_seq, y_seq = [], []\n",
    "    for i in range(len(X) - seq_len + 1):\n",
    "        X_seq.append(X[i:i + seq_len])\n",
    "        y_seq.append(y[i + seq_len - 1])\n",
    "    return np.array(X_seq), np.array(y_seq)\n",
    "\n",
    "# --- Model builders with 32 and 16 units ---\n",
    "def build_lstm_model(input_shape):\n",
    "    inputs = Input(shape=input_shape)\n",
    "    x = LSTM(32, activation='tanh', recurrent_activation='sigmoid', unroll=True)(inputs)\n",
    "    x = Dropout(0.3)(x)\n",
    "    x = Dense(16, activation='relu')(x)\n",
    "    x = Dropout(0.3)(x)\n",
    "    outputs = Dense(1, activation='sigmoid')(x)\n",
    "    model = Model(inputs, outputs)\n",
    "    model.compile(optimizer=Adam(1e-4), loss='binary_crossentropy', metrics=['accuracy'])\n",
    "    return model\n",
    "\n",
    "def build_gru_model(input_shape):\n",
    "    inputs = Input(shape=input_shape)\n",
    "    x = GRU(32)(inputs)\n",
    "    x = Dropout(0.3)(x)\n",
    "    x = Dense(16, activation='relu')(x)\n",
    "    x = Dropout(0.3)(x)\n",
    "    outputs = Dense(1, activation='sigmoid')(x)\n",
    "    model = Model(inputs, outputs)\n",
    "    model.compile(optimizer=Adam(1e-4), loss='binary_crossentropy', metrics=['accuracy'])\n",
    "    return model\n",
    "\n",
    "def build_lstm_gru_model(input_shape):\n",
    "    inputs = Input(shape=input_shape)\n",
    "    x = LSTM(32, return_sequences=True, unroll=True)(inputs)\n",
    "    x = Dropout(0.3)(x)\n",
    "    x = GRU(32)(x)\n",
    "    x = Dropout(0.3)(x)\n",
    "    x = Dense(16, activation='relu')(x)\n",
    "    x = Dropout(0.3)(x)\n",
    "    outputs = Dense(1, activation='sigmoid')(x)\n",
    "    model = Model(inputs, outputs)\n",
    "    model.compile(optimizer=Adam(1e-4), loss='binary_crossentropy', metrics=['accuracy'])\n",
    "    return model\n",
    "\n",
    "def build_simple_rnn_model(input_shape):\n",
    "    inputs = Input(shape=input_shape)\n",
    "    x = SimpleRNN(32)(inputs)\n",
    "    x = Dropout(0.3)(x)\n",
    "    x = Dense(16, activation='relu')(x)\n",
    "    x = Dropout(0.3)(x)\n",
    "    outputs = Dense(1, activation='sigmoid')(x)\n",
    "    model = Model(inputs, outputs)\n",
    "    model.compile(optimizer=Adam(1e-4), loss='binary_crossentropy', metrics=['accuracy'])\n",
    "    return model\n",
    "\n",
    "def build_dense_model(input_shape):\n",
    "    inputs = Input(shape=input_shape)\n",
    "    x = Flatten()(inputs)\n",
    "    x = Dense(32, activation='relu')(x)\n",
    "    x = Dropout(0.3)(x)\n",
    "    x = Dense(16, activation='relu')(x)\n",
    "    x = Dropout(0.3)(x)\n",
    "    outputs = Dense(1, activation='sigmoid')(x)\n",
    "    model = Model(inputs, outputs)\n",
    "    model.compile(optimizer=Adam(1e-4), loss='binary_crossentropy', metrics=['accuracy'])\n",
    "    return model\n",
    "\n",
    "# --- Main execution ---\n",
    "def main():\n",
    "    feature_model_name = 'poolformer_s12'  # Change if needed\n",
    "    seq_len = 10\n",
    "    save_dir = '/content/drive/MyDrive/AVA'  # Change to your data path\n",
    "    normal_path = f\"{save_dir}/normal_features_{feature_model_name}.npy\"\n",
    "    anomaly_path = f\"{save_dir}/anomaly_features_{feature_model_name}.npy\"\n",
    "\n",
    "    X, y = prepare_data(normal_path, anomaly_path)\n",
    "    X_seq, y_seq = create_sequences(X, y, seq_len=seq_len)\n",
    "\n",
    "    model_builders = {\n",
    "        \"LSTM\": build_lstm_model,\n",
    "        \"GRU\": build_gru_model,\n",
    "        \"LSTM_GRU\": build_lstm_gru_model,\n",
    "        \"SimpleRNN\": build_simple_rnn_model,\n",
    "        \"Dense\": build_dense_model\n",
    "    }\n",
    "\n",
    "    num_runs = 5\n",
    "    all_results = []\n",
    "\n",
    "    for model_name, builder in model_builders.items():\n",
    "        print(f\"\\n==== Training model: {model_name} ====\")\n",
    "\n",
    "        metrics_list = {\n",
    "            \"accuracy\": [],\n",
    "            \"precision\": [],\n",
    "            \"recall\": [],\n",
    "            \"f1\": [],\n",
    "            \"auc\": []\n",
    "        }\n",
    "\n",
    "        histories = []\n",
    "\n",
    "        for run in range(num_runs):\n",
    "            print(f\" Run {run+1}/{num_runs}\")\n",
    "\n",
    "            X_train, X_test, y_train, y_test = train_test_split(\n",
    "                X_seq, y_seq, test_size=0.2, stratify=y_seq, random_state=run\n",
    "            )\n",
    "\n",
    "            model = builder(X_train.shape[1:])\n",
    "            es = EarlyStopping(patience=5, restore_best_weights=True, verbose=0)\n",
    "            history = model.fit(\n",
    "                X_train, y_train,\n",
    "                validation_data=(X_test, y_test),\n",
    "                epochs=50,\n",
    "                batch_size=32,\n",
    "                callbacks=[es],\n",
    "                verbose=1\n",
    "            )\n",
    "            histories.append(history)\n",
    "\n",
    "            y_prob = model.predict(X_test).ravel()\n",
    "            y_pred = (y_prob > 0.5).astype(int)\n",
    "\n",
    "            acc = accuracy_score(y_test, y_pred)\n",
    "            prec = precision_score(y_test, y_pred, zero_division=0)\n",
    "            rec = recall_score(y_test, y_pred, zero_division=0)\n",
    "            f1 = f1_score(y_test, y_pred, zero_division=0)\n",
    "            auc_score = roc_auc_score(y_test, y_prob)\n",
    "\n",
    "            # Store metrics\n",
    "            metrics_list[\"accuracy\"].append(acc)\n",
    "            metrics_list[\"precision\"].append(prec)\n",
    "            metrics_list[\"recall\"].append(rec)\n",
    "            metrics_list[\"f1\"].append(f1)\n",
    "            metrics_list[\"auc\"].append(auc_score)\n",
    "\n",
    "            all_results.append({\n",
    "                \"Model\": model_name,\n",
    "                \"Run\": run + 1,\n",
    "                \"Accuracy\": acc,\n",
    "                \"Precision\": prec,\n",
    "                \"Recall\": rec,\n",
    "                \"F1\": f1,\n",
    "                \"AUC\": auc_score\n",
    "            })\n",
    "\n",
    "            # Clear to save memory\n",
    "            K.clear_session()\n",
    "            del model\n",
    "            gc.collect()\n",
    "\n",
    "        # Plot training curves for last run\n",
    "        last_history = histories[-1]\n",
    "        plt.figure(figsize=(12,5))\n",
    "        plt.subplot(1,2,1)\n",
    "        plt.plot(last_history.history['accuracy'], label='Train Accuracy')\n",
    "        plt.plot(last_history.history['val_accuracy'], label='Validation Accuracy')\n",
    "        plt.title(f'{model_name} Accuracy per Epoch')\n",
    "        plt.xlabel('Epoch')\n",
    "        plt.ylabel('Accuracy')\n",
    "        plt.legend()\n",
    "        plt.grid(True)\n",
    "\n",
    "        plt.subplot(1,2,2)\n",
    "        plt.plot(last_history.history['loss'], label='Train Loss')\n",
    "        plt.plot(last_history.history['val_loss'], label='Validation Loss')\n",
    "        plt.title(f'{model_name} Loss per Epoch')\n",
    "        plt.xlabel('Epoch')\n",
    "        plt.ylabel('Loss')\n",
    "        plt.legend()\n",
    "        plt.grid(True)\n",
    "\n",
    "        plt.tight_layout()\n",
    "        plt.show()\n",
    "\n",
    "        # Print mean ± std summary for all runs\n",
    "        print(f\"\\n==== Summary for {model_name} (over {num_runs} runs) ====\")\n",
    "        for metric in metrics_list:\n",
    "            mean_val = np.mean(metrics_list[metric])\n",
    "            std_val = np.std(metrics_list[metric])\n",
    "            print(f\"{metric.capitalize()}: {mean_val:.4f} ± {std_val:.4f}\")\n",
    "\n",
    "        # Plot boxplots of the 5 runs for metrics\n",
    "        plt.figure(figsize=(10,6))\n",
    "        sns.boxplot(data=[metrics_list[\"accuracy\"], metrics_list[\"f1\"], metrics_list[\"auc\"]],\n",
    "                    palette=\"Set2\")\n",
    "        plt.xticks([0,1,2], ['Accuracy', 'F1-score', 'AUC'])\n",
    "        plt.title(f'{model_name} Metrics Boxplot over {num_runs} runs')\n",
    "        plt.ylabel('Score')\n",
    "        plt.grid(True)\n",
    "        plt.show()\n",
    "\n",
    "    # Save all results to CSV\n",
    "    df = pd.DataFrame(all_results)\n",
    "    csv_save_path = os.path.join(save_dir, f\"results_all_models_{feature_model_name}.csv\")\n",
    "    df.to_csv(csv_save_path, index=False)\n",
    "    print(f\"\\nAll run results saved to: {csv_save_path}\")\n",
    "\n",
    "if __name__ == \"__main__\":\n",
    "    main()\n"
   ]
  },
  {
   "cell_type": "code",
   "execution_count": null,
   "metadata": {
    "colab": {
     "base_uri": "https://localhost:8080/",
     "height": 1000
    },
    "id": "xpETtOr-z2FF",
    "outputId": "1e6a15c8-4763-45bd-90c6-1e4211278bb7"
   },
   "outputs": [
    {
     "name": "stdout",
     "output_type": "stream",
     "text": [
      "\n",
      "==== Training model: LSTM ====\n",
      " Run 1/5\n",
      "Epoch 1/50\n",
      "\u001b[1m581/581\u001b[0m \u001b[32m━━━━━━━━━━━━━━━━━━━━\u001b[0m\u001b[37m\u001b[0m \u001b[1m6s\u001b[0m 6ms/step - accuracy: 0.6438 - loss: 0.6228 - val_accuracy: 0.8710 - val_loss: 0.3372\n",
      "Epoch 2/50\n",
      "\u001b[1m581/581\u001b[0m \u001b[32m━━━━━━━━━━━━━━━━━━━━\u001b[0m\u001b[37m\u001b[0m \u001b[1m3s\u001b[0m 5ms/step - accuracy: 0.8595 - loss: 0.3494 - val_accuracy: 0.8970 - val_loss: 0.2526\n",
      "Epoch 3/50\n",
      "\u001b[1m581/581\u001b[0m \u001b[32m━━━━━━━━━━━━━━━━━━━━\u001b[0m\u001b[37m\u001b[0m \u001b[1m3s\u001b[0m 5ms/step - accuracy: 0.8875 - loss: 0.2863 - val_accuracy:\n",
      "... [خلاصه شد] ...\n"
     ]
    },
    {
     "data": {
      "text/plain": [
       "[تصویر خروجی در فایل nb_outputs_images\\cell22_output1.png ذخیره شد]"
      ]
     },
     "output_type": "display_data"
    },
    {
     "name": "stdout",
     "output_type": "stream",
     "text": [
      "\n",
      "==== Summary for LSTM (over 5 runs) ====\n",
      "Accuracy: 0.9597 ± 0.0032\n",
      "Precision: 0.9696 ± 0.0053\n",
      "Recall: 0.9492 ± 0.0042\n",
      "F1: 0.9593 ± 0.0032\n",
      "Auc: 0.9934 ± 0.0011\n"
     ]
    },
    {
     "data": {
      "text/plain": [
       "[تصویر خروجی در فایل nb_outputs_images\\cell22_output3.png ذخیره شد]"
      ]
     },
     "output_type": "display_data"
    },
    {
     "name": "stdout",
     "output_type": "stream",
     "text": [
      "\n",
      "==== Training model: GRU ====\n",
      " Run 1/5\n",
      "Epoch 1/50\n",
      "\u001b[1m581/581\u001b[0m \u001b[32m━━━━━━━━━━━━━━━━━━━━\u001b[0m\u001b[37m\u001b[0m \u001b[1m6s\u001b[0m 7ms/step - accuracy: 0.6983 - loss: 0.5783 - val_accuracy: 0.8930 - val_loss: 0.2840\n",
      "Epoch 2/50\n",
      "\u001b[1m581/581\u001b[0m \u001b[32m━━━━━━━━━━━━━━━━━━━━\u001b[0m\u001b[37m\u001b[0m \u001b[1m4s\u001b[0m 6ms/step - accuracy: 0.8883 - loss: 0.2977 - val_accuracy: 0.9048 - val_loss: 0.2341\n",
      "Epoch 3/50\n",
      "\u001b[1m581/581\u001b[0m \u001b[32m━━━━━━━━━━━━━━━━━━━━\u001b[0m\u001b[37m\u001b[0m \u001b[1m4s\u001b[0m 6ms/step - accuracy: 0.9009 - loss: 0.2590 - val_accuracy: \n",
      "... [خلاصه شد] ...\n"
     ]
    },
    {
     "data": {
      "text/plain": [
       "[تصویر خروجی در فایل nb_outputs_images\\cell22_output5.png ذخیره شد]"
      ]
     },
     "output_type": "display_data"
    },
    {
     "name": "stdout",
     "output_type": "stream",
     "text": [
      "\n",
      "==== Summary for GRU (over 5 runs) ====\n",
      "Accuracy: 0.9563 ± 0.0033\n",
      "Precision: 0.9737 ± 0.0052\n",
      "Recall: 0.9380 ± 0.0057\n",
      "F1: 0.9555 ± 0.0034\n",
      "Auc: 0.9930 ± 0.0012\n"
     ]
    },
    {
     "data": {
      "text/plain": [
       "[تصویر خروجی در فایل nb_outputs_images\\cell22_output7.png ذخیره شد]"
      ]
     },
     "output_type": "display_data"
    },
    {
     "name": "stdout",
     "output_type": "stream",
     "text": [
      "\n",
      "==== Training model: LSTM_GRU ====\n",
      " Run 1/5\n",
      "Epoch 1/50\n",
      "\u001b[1m581/581\u001b[0m \u001b[32m━━━━━━━━━━━━━━━━━━━━\u001b[0m\u001b[37m\u001b[0m \u001b[1m11s\u001b[0m 11ms/step - accuracy: 0.5767 - loss: 0.6746 - val_accuracy: 0.8691 - val_loss: 0.4543\n",
      "Epoch 2/50\n",
      "\u001b[1m581/581\u001b[0m \u001b[32m━━━━━━━━━━━━━━━━━━━━\u001b[0m\u001b[37m\u001b[0m \u001b[1m6s\u001b[0m 9ms/step - accuracy: 0.8574 - loss: 0.4108 - val_accuracy: 0.9029 - val_loss: 0.2535\n",
      "Epoch 3/50\n",
      "\u001b[1m581/581\u001b[0m \u001b[32m━━━━━━━━━━━━━━━━━━━━\u001b[0m\u001b[37m\u001b[0m \u001b[1m5s\u001b[0m 9ms/step - accuracy: 0.8921 - loss: 0.2877 - val_acc\n",
      "... [خلاصه شد] ...\n"
     ]
    },
    {
     "data": {
      "text/plain": [
       "[تصویر خروجی در فایل nb_outputs_images\\cell22_output9.png ذخیره شد]"
      ]
     },
     "output_type": "display_data"
    },
    {
     "name": "stdout",
     "output_type": "stream",
     "text": [
      "\n",
      "==== Summary for LSTM_GRU (over 5 runs) ====\n",
      "Accuracy: 0.9700 ± 0.0037\n",
      "Precision: 0.9755 ± 0.0046\n",
      "Recall: 0.9642 ± 0.0080\n",
      "F1: 0.9698 ± 0.0038\n",
      "Auc: 0.9956 ± 0.0011\n"
     ]
    },
    {
     "data": {
      "text/plain": [
       "[تصویر خروجی در فایل nb_outputs_images\\cell22_output11.png ذخیره شد]"
      ]
     },
     "output_type": "display_data"
    },
    {
     "name": "stdout",
     "output_type": "stream",
     "text": [
      "\n",
      "==== Training model: SimpleRNN ====\n",
      " Run 1/5\n",
      "Epoch 1/50\n",
      "\u001b[1m581/581\u001b[0m \u001b[32m━━━━━━━━━━━━━━━━━━━━\u001b[0m\u001b[37m\u001b[0m \u001b[1m4s\u001b[0m 4ms/step - accuracy: 0.6293 - loss: 0.6332 - val_accuracy: 0.8585 - val_loss: 0.3435\n",
      "Epoch 2/50\n",
      "\u001b[1m581/581\u001b[0m \u001b[32m━━━━━━━━━━━━━━━━━━━━\u001b[0m\u001b[37m\u001b[0m \u001b[1m2s\u001b[0m 4ms/step - accuracy: 0.8409 - loss: 0.3718 - val_accuracy: 0.8904 - val_loss: 0.2692\n",
      "Epoch 3/50\n",
      "\u001b[1m581/581\u001b[0m \u001b[32m━━━━━━━━━━━━━━━━━━━━\u001b[0m\u001b[37m\u001b[0m \u001b[1m2s\u001b[0m 4ms/step - accuracy: 0.8786 - loss: 0.3083 - val_accu\n",
      "... [خلاصه شد] ...\n"
     ]
    },
    {
     "data": {
      "text/plain": [
       "[تصویر خروجی در فایل nb_outputs_images\\cell22_output13.png ذخیره شد]"
      ]
     },
     "output_type": "display_data"
    },
    {
     "name": "stdout",
     "output_type": "stream",
     "text": [
      "\n",
      "==== Summary for SimpleRNN (over 5 runs) ====\n",
      "Accuracy: 0.9459 ± 0.0027\n",
      "Precision: 0.9565 ± 0.0053\n",
      "Recall: 0.9343 ± 0.0051\n",
      "F1: 0.9452 ± 0.0027\n",
      "Auc: 0.9885 ± 0.0018\n"
     ]
    },
    {
     "data": {
      "text/plain": [
       "[تصویر خروجی در فایل nb_outputs_images\\cell22_output15.png ذخیره شد]"
      ]
     },
     "output_type": "display_data"
    },
    {
     "name": "stdout",
     "output_type": "stream",
     "text": [
      "\n",
      "==== Training model: Dense ====\n",
      " Run 1/5\n",
      "Epoch 1/50\n",
      "\u001b[1m581/581\u001b[0m \u001b[32m━━━━━━━━━━━━━━━━━━━━\u001b[0m\u001b[37m\u001b[0m \u001b[1m3s\u001b[0m 4ms/step - accuracy: 0.6341 - loss: 0.6233 - val_accuracy: 0.8613 - val_loss: 0.3486\n",
      "Epoch 2/50\n",
      "\u001b[1m581/581\u001b[0m \u001b[32m━━━━━━━━━━━━━━━━━━━━\u001b[0m\u001b[37m\u001b[0m \u001b[1m2s\u001b[0m 3ms/step - accuracy: 0.8328 - loss: 0.3919 - val_accuracy: 0.8891 - val_loss: 0.2741\n",
      "Epoch 3/50\n",
      "\u001b[1m581/581\u001b[0m \u001b[32m━━━━━━━━━━━━━━━━━━━━\u001b[0m\u001b[37m\u001b[0m \u001b[1m2s\u001b[0m 3ms/step - accuracy: 0.8759 - loss: 0.3135 - val_accuracy\n",
      "... [خلاصه شد] ...\n"
     ]
    },
    {
     "data": {
      "text/plain": [
       "[تصویر خروجی در فایل nb_outputs_images\\cell22_output17.png ذخیره شد]"
      ]
     },
     "output_type": "display_data"
    },
    {
     "name": "stdout",
     "output_type": "stream",
     "text": [
      "\n",
      "==== Summary for Dense (over 5 runs) ====\n",
      "Accuracy: 0.9250 ± 0.0037\n",
      "Precision: 0.9409 ± 0.0049\n",
      "Recall: 0.9069 ± 0.0049\n",
      "F1: 0.9236 ± 0.0038\n",
      "Auc: 0.9780 ± 0.0016\n"
     ]
    },
    {
     "data": {
      "text/plain": [
       "[تصویر خروجی در فایل nb_outputs_images\\cell22_output19.png ذخیره شد]"
      ]
     },
     "output_type": "display_data"
    },
    {
     "name": "stdout",
     "output_type": "stream",
     "text": [
      "\n",
      "All run results saved to: /content/drive/MyDrive/AVA/results_all_models_maxvit_tiny_tf_224.csv\n"
     ]
    }
   ],
   "source": [
    "import numpy as np\n",
    "import tensorflow as tf\n",
    "from tensorflow.keras.layers import Input, Dense, Dropout, LSTM, GRU, SimpleRNN, Flatten\n",
    "from tensorflow.keras.models import Model\n",
    "from tensorflow.keras.optimizers import Adam\n",
    "from tensorflow.keras.callbacks import EarlyStopping\n",
    "from sklearn.model_selection import train_test_split\n",
    "from sklearn.metrics import (\n",
    "    accuracy_score, precision_score, recall_score, f1_score,\n",
    "    roc_auc_score, confusion_matrix, classification_report,\n",
    "    roc_curve, precision_recall_curve, auc\n",
    ")\n",
    "from sklearn.utils import shuffle\n",
    "import matplotlib.pyplot as plt\n",
    "import seaborn as sns\n",
    "import pandas as pd\n",
    "import os\n",
    "import gc\n",
    "from tensorflow.keras import backend as K\n",
    "\n",
    "os.environ[\"CUDA_VISIBLE_DEVICES\"] = \"\"\n",
    "\n",
    "# --- Data loading and preprocessing ---\n",
    "def prepare_data(normal_path, anomaly_path):\n",
    "    X_normal = np.load(normal_path, allow_pickle=True)\n",
    "    if X_normal.ndim >= 4:\n",
    "        X_normal = X_normal.mean(axis=(2, 3))\n",
    "    X_anomaly = np.load(anomaly_path, allow_pickle=True)\n",
    "    if X_anomaly.ndim >= 4:\n",
    "        X_anomaly = X_anomaly.mean(axis=(2, 3))\n",
    "    X = np.concatenate([X_normal, X_anomaly])\n",
    "    y = np.concatenate([np.zeros(len(X_normal)), np.ones(len(X_anomaly))])\n",
    "    X = X.astype(np.float32)\n",
    "    X = np.nan_to_num(X, nan=0.0, posinf=0.0, neginf=0.0)\n",
    "    X, y = shuffle(X, y, random_state=42)\n",
    "    return X, y\n",
    "\n",
    "def create_sequences(X, y, seq_len=5):\n",
    "    X_seq, y_seq = [], []\n",
    "    for i in range(len(X) - seq_len + 1):\n",
    "        X_seq.append(X[i:i + seq_len])\n",
    "        y_seq.append(y[i + seq_len - 1])\n",
    "    return np.array(X_seq), np.array(y_seq)\n",
    "\n",
    "# --- Model builders with 32 and 16 units ---\n",
    "def build_lstm_model(input_shape):\n",
    "    inputs = Input(shape=input_shape)\n",
    "    x = LSTM(32, activation='tanh', recurrent_activation='sigmoid', unroll=True)(inputs)\n",
    "    x = Dropout(0.3)(x)\n",
    "    x = Dense(16, activation='relu')(x)\n",
    "    x = Dropout(0.3)(x)\n",
    "    outputs = Dense(1, activation='sigmoid')(x)\n",
    "    model = Model(inputs, outputs)\n",
    "    model.compile(optimizer=Adam(1e-4), loss='binary_crossentropy', metrics=['accuracy'])\n",
    "    return model\n",
    "\n",
    "def build_gru_model(input_shape):\n",
    "    inputs = Input(shape=input_shape)\n",
    "    x = GRU(32)(inputs)\n",
    "    x = Dropout(0.3)(x)\n",
    "    x = Dense(16, activation='relu')(x)\n",
    "    x = Dropout(0.3)(x)\n",
    "    outputs = Dense(1, activation='sigmoid')(x)\n",
    "    model = Model(inputs, outputs)\n",
    "    model.compile(optimizer=Adam(1e-4), loss='binary_crossentropy', metrics=['accuracy'])\n",
    "    return model\n",
    "\n",
    "def build_lstm_gru_model(input_shape):\n",
    "    inputs = Input(shape=input_shape)\n",
    "    x = LSTM(32, return_sequences=True, unroll=True)(inputs)\n",
    "    x = Dropout(0.3)(x)\n",
    "    x = GRU(32)(x)\n",
    "    x = Dropout(0.3)(x)\n",
    "    x = Dense(16, activation='relu')(x)\n",
    "    x = Dropout(0.3)(x)\n",
    "    outputs = Dense(1, activation='sigmoid')(x)\n",
    "    model = Model(inputs, outputs)\n",
    "    model.compile(optimizer=Adam(1e-4), loss='binary_crossentropy', metrics=['accuracy'])\n",
    "    return model\n",
    "\n",
    "def build_simple_rnn_model(input_shape):\n",
    "    inputs = Input(shape=input_shape)\n",
    "    x = SimpleRNN(32)(inputs)\n",
    "    x = Dropout(0.3)(x)\n",
    "    x = Dense(16, activation='relu')(x)\n",
    "    x = Dropout(0.3)(x)\n",
    "    outputs = Dense(1, activation='sigmoid')(x)\n",
    "    model = Model(inputs, outputs)\n",
    "    model.compile(optimizer=Adam(1e-4), loss='binary_crossentropy', metrics=['accuracy'])\n",
    "    return model\n",
    "\n",
    "def build_dense_model(input_shape):\n",
    "    inputs = Input(shape=input_shape)\n",
    "    x = Flatten()(inputs)\n",
    "    x = Dense(32, activation='relu')(x)\n",
    "    x = Dropout(0.3)(x)\n",
    "    x = Dense(16, activation='relu')(x)\n",
    "    x = Dropout(0.3)(x)\n",
    "    outputs = Dense(1, activation='sigmoid')(x)\n",
    "    model = Model(inputs, outputs)\n",
    "    model.compile(optimizer=Adam(1e-4), loss='binary_crossentropy', metrics=['accuracy'])\n",
    "    return model\n",
    "\n",
    "# --- Main execution ---\n",
    "def main():\n",
    "    feature_model_name = 'maxvit_tiny_tf_224'  # Change if needed\n",
    "    seq_len = 10\n",
    "    save_dir = '/content/drive/MyDrive/AVA'  # Change to your data path\n",
    "    normal_path = f\"{save_dir}/normal_features_{feature_model_name}.npy\"\n",
    "    anomaly_path = f\"{save_dir}/anomaly_features_{feature_model_name}.npy\"\n",
    "\n",
    "    X, y = prepare_data(normal_path, anomaly_path)\n",
    "    X_seq, y_seq = create_sequences(X, y, seq_len=seq_len)\n",
    "\n",
    "    model_builders = {\n",
    "        \"LSTM\": build_lstm_model,\n",
    "        \"GRU\": build_gru_model,\n",
    "        \"LSTM_GRU\": build_lstm_gru_model,\n",
    "        \"SimpleRNN\": build_simple_rnn_model,\n",
    "        \"Dense\": build_dense_model\n",
    "    }\n",
    "\n",
    "    num_runs = 5\n",
    "    all_results = []\n",
    "\n",
    "    for model_name, builder in model_builders.items():\n",
    "        print(f\"\\n==== Training model: {model_name} ====\")\n",
    "\n",
    "        metrics_list = {\n",
    "            \"accuracy\": [],\n",
    "            \"precision\": [],\n",
    "            \"recall\": [],\n",
    "            \"f1\": [],\n",
    "            \"auc\": []\n",
    "        }\n",
    "\n",
    "        histories = []\n",
    "\n",
    "        for run in range(num_runs):\n",
    "            print(f\" Run {run+1}/{num_runs}\")\n",
    "\n",
    "            X_train, X_test, y_train, y_test = train_test_split(\n",
    "                X_seq, y_seq, test_size=0.2, stratify=y_seq, random_state=run\n",
    "            )\n",
    "\n",
    "            model = builder(X_train.shape[1:])\n",
    "            es = EarlyStopping(patience=5, restore_best_weights=True, verbose=0)\n",
    "            history = model.fit(\n",
    "                X_train, y_train,\n",
    "                validation_data=(X_test, y_test),\n",
    "                epochs=50,\n",
    "                batch_size=32,\n",
    "                callbacks=[es],\n",
    "                verbose=1\n",
    "            )\n",
    "            histories.append(history)\n",
    "\n",
    "            y_prob = model.predict(X_test).ravel()\n",
    "            y_pred = (y_prob > 0.5).astype(int)\n",
    "\n",
    "            acc = accuracy_score(y_test, y_pred)\n",
    "            prec = precision_score(y_test, y_pred, zero_division=0)\n",
    "            rec = recall_score(y_test, y_pred, zero_division=0)\n",
    "            f1 = f1_score(y_test, y_pred, zero_division=0)\n",
    "            auc_score = roc_auc_score(y_test, y_prob)\n",
    "\n",
    "            # Store metrics\n",
    "            metrics_list[\"accuracy\"].append(acc)\n",
    "            metrics_list[\"precision\"].append(prec)\n",
    "            metrics_list[\"recall\"].append(rec)\n",
    "            metrics_list[\"f1\"].append(f1)\n",
    "            metrics_list[\"auc\"].append(auc_score)\n",
    "\n",
    "            all_results.append({\n",
    "                \"Model\": model_name,\n",
    "                \"Run\": run + 1,\n",
    "                \"Accuracy\": acc,\n",
    "                \"Precision\": prec,\n",
    "                \"Recall\": rec,\n",
    "                \"F1\": f1,\n",
    "                \"AUC\": auc_score\n",
    "            })\n",
    "\n",
    "            # Clear to save memory\n",
    "            K.clear_session()\n",
    "            del model\n",
    "            gc.collect()\n",
    "\n",
    "        # Plot training curves for last run\n",
    "        last_history = histories[-1]\n",
    "        plt.figure(figsize=(12,5))\n",
    "        plt.subplot(1,2,1)\n",
    "        plt.plot(last_history.history['accuracy'], label='Train Accuracy')\n",
    "        plt.plot(last_history.history['val_accuracy'], label='Validation Accuracy')\n",
    "        plt.title(f'{model_name} Accuracy per Epoch')\n",
    "        plt.xlabel('Epoch')\n",
    "        plt.ylabel('Accuracy')\n",
    "        plt.legend()\n",
    "        plt.grid(True)\n",
    "\n",
    "        plt.subplot(1,2,2)\n",
    "        plt.plot(last_history.history['loss'], label='Train Loss')\n",
    "        plt.plot(last_history.history['val_loss'], label='Validation Loss')\n",
    "        plt.title(f'{model_name} Loss per Epoch')\n",
    "        plt.xlabel('Epoch')\n",
    "        plt.ylabel('Loss')\n",
    "        plt.legend()\n",
    "        plt.grid(True)\n",
    "\n",
    "        plt.tight_layout()\n",
    "        plt.show()\n",
    "\n",
    "        # Print mean ± std summary for all runs\n",
    "        print(f\"\\n==== Summary for {model_name} (over {num_runs} runs) ====\")\n",
    "        for metric in metrics_list:\n",
    "            mean_val = np.mean(metrics_list[metric])\n",
    "            std_val = np.std(metrics_list[metric])\n",
    "            print(f\"{metric.capitalize()}: {mean_val:.4f} ± {std_val:.4f}\")\n",
    "\n",
    "        # Plot boxplots of the 5 runs for metrics\n",
    "        plt.figure(figsize=(10,6))\n",
    "        sns.boxplot(data=[metrics_list[\"accuracy\"], metrics_list[\"f1\"], metrics_list[\"auc\"]],\n",
    "                    palette=\"Set2\")\n",
    "        plt.xticks([0,1,2], ['Accuracy', 'F1-score', 'AUC'])\n",
    "        plt.title(f'{model_name} Metrics Boxplot over {num_runs} runs')\n",
    "        plt.ylabel('Score')\n",
    "        plt.grid(True)\n",
    "        plt.show()\n",
    "\n",
    "    # Save all results to CSV\n",
    "    df = pd.DataFrame(all_results)\n",
    "    csv_save_path = os.path.join(save_dir, f\"results_all_models_{feature_model_name}.csv\")\n",
    "    df.to_csv(csv_save_path, index=False)\n",
    "    print(f\"\\nAll run results saved to: {csv_save_path}\")\n",
    "\n",
    "if __name__ == \"__main__\":\n",
    "    main()\n"
   ]
  },
  {
   "cell_type": "code",
   "execution_count": 2,
   "metadata": {
    "colab": {
     "base_uri": "https://localhost:8080/",
     "height": 1000
    },
    "id": "M5zBvpN_z4xz",
    "outputId": "f0d29f82-1fa2-466b-8075-1861e0e473f4"
   },
   "outputs": [
    {
     "name": "stdout",
     "output_type": "stream",
     "text": [
      "\n",
      "==== Training model: LSTM ====\n",
      " Run 1/5\n",
      "Epoch 1/50\n",
      "\u001b[1m581/581\u001b[0m \u001b[32m━━━━━━━━━━━━━━━━━━━━\u001b[0m\u001b[37m\u001b[0m \u001b[1m6s\u001b[0m 6ms/step - accuracy: 0.7053 - loss: 0.5445 - val_accuracy: 0.9031 - val_loss: 0.2671\n",
      "Epoch 2/50\n",
      "\u001b[1m581/581\u001b[0m \u001b[32m━━━━━━━━━━━━━━━━━━━━\u001b[0m\u001b[37m\u001b[0m \u001b[1m3s\u001b[0m 5ms/step - accuracy: 0.8978 - loss: 0.2924 - val_accuracy: 0.9147 - val_loss: 0.2258\n",
      "Epoch 3/50\n",
      "\u001b[1m581/581\u001b[0m \u001b[32m━━━━━━━━━━━━━━━━━━━━\u001b[0m\u001b[37m\u001b[0m \u001b[1m3s\u001b[0m 5ms/step - accuracy: 0.9092 - loss: 0.2476 - val_accuracy:\n",
      "... [خلاصه شد] ...\n"
     ]
    },
    {
     "data": {
      "text/plain": [
       "[تصویر خروجی در فایل nb_outputs_images\\cell23_output1.png ذخیره شد]"
      ]
     },
     "output_type": "display_data"
    },
    {
     "name": "stdout",
     "output_type": "stream",
     "text": [
      "\n",
      "==== Summary for LSTM (over 5 runs) ====\n",
      "Accuracy: 0.9689 ± 0.0055\n",
      "Precision: 0.9775 ± 0.0033\n",
      "Recall: 0.9599 ± 0.0105\n",
      "F1: 0.9686 ± 0.0057\n",
      "Auc: 0.9960 ± 0.0013\n"
     ]
    },
    {
     "data": {
      "text/plain": [
       "[تصویر خروجی در فایل nb_outputs_images\\cell23_output3.png ذخیره شد]"
      ]
     },
     "output_type": "display_data"
    },
    {
     "name": "stdout",
     "output_type": "stream",
     "text": [
      "\n",
      "==== Training model: GRU ====\n",
      " Run 1/5\n",
      "Epoch 1/50\n",
      "\u001b[1m581/581\u001b[0m \u001b[32m━━━━━━━━━━━━━━━━━━━━\u001b[0m\u001b[37m\u001b[0m \u001b[1m6s\u001b[0m 7ms/step - accuracy: 0.6948 - loss: 0.5565 - val_accuracy: 0.9065 - val_loss: 0.2562\n",
      "Epoch 2/50\n",
      "\u001b[1m581/581\u001b[0m \u001b[32m━━━━━━━━━━━━━━━━━━━━\u001b[0m\u001b[37m\u001b[0m \u001b[1m4s\u001b[0m 6ms/step - accuracy: 0.8942 - loss: 0.2873 - val_accuracy: 0.9128 - val_loss: 0.2185\n",
      "Epoch 3/50\n",
      "\u001b[1m581/581\u001b[0m \u001b[32m━━━━━━━━━━━━━━━━━━━━\u001b[0m\u001b[37m\u001b[0m \u001b[1m3s\u001b[0m 6ms/step - accuracy: 0.9121 - loss: 0.2397 - val_accuracy: \n",
      "... [خلاصه شد] ...\n"
     ]
    },
    {
     "data": {
      "text/plain": [
       "[تصویر خروجی در فایل nb_outputs_images\\cell23_output5.png ذخیره شد]"
      ]
     },
     "output_type": "display_data"
    },
    {
     "name": "stdout",
     "output_type": "stream",
     "text": [
      "\n",
      "==== Summary for GRU (over 5 runs) ====\n",
      "Accuracy: 0.9633 ± 0.0037\n",
      "Precision: 0.9768 ± 0.0040\n",
      "Recall: 0.9492 ± 0.0085\n",
      "F1: 0.9627 ± 0.0039\n",
      "Auc: 0.9951 ± 0.0011\n"
     ]
    },
    {
     "data": {
      "text/plain": [
       "[تصویر خروجی در فایل nb_outputs_images\\cell23_output7.png ذخیره شد]"
      ]
     },
     "output_type": "display_data"
    },
    {
     "name": "stdout",
     "output_type": "stream",
     "text": [
      "\n",
      "==== Training model: LSTM_GRU ====\n",
      " Run 1/5\n",
      "Epoch 1/50\n",
      "\u001b[1m581/581\u001b[0m \u001b[32m━━━━━━━━━━━━━━━━━━━━\u001b[0m\u001b[37m\u001b[0m \u001b[1m10s\u001b[0m 10ms/step - accuracy: 0.6356 - loss: 0.6246 - val_accuracy: 0.9061 - val_loss: 0.2860\n",
      "Epoch 2/50\n",
      "\u001b[1m581/581\u001b[0m \u001b[32m━━━━━━━━━━━━━━━━━━━━\u001b[0m\u001b[37m\u001b[0m \u001b[1m5s\u001b[0m 9ms/step - accuracy: 0.8892 - loss: 0.3200 - val_accuracy: 0.9188 - val_loss: 0.2137\n",
      "Epoch 3/50\n",
      "\u001b[1m581/581\u001b[0m \u001b[32m━━━━━━━━━━━━━━━━━━━━\u001b[0m\u001b[37m\u001b[0m \u001b[1m5s\u001b[0m 9ms/step - accuracy: 0.9120 - loss: 0.2450 - val_acc\n",
      "... [خلاصه شد] ...\n"
     ]
    },
    {
     "data": {
      "text/plain": [
       "[تصویر خروجی در فایل nb_outputs_images\\cell23_output9.png ذخیره شد]"
      ]
     },
     "output_type": "display_data"
    },
    {
     "name": "stdout",
     "output_type": "stream",
     "text": [
      "\n",
      "==== Summary for LSTM_GRU (over 5 runs) ====\n",
      "Accuracy: 0.9754 ± 0.0032\n",
      "Precision: 0.9815 ± 0.0048\n",
      "Recall: 0.9690 ± 0.0077\n",
      "F1: 0.9752 ± 0.0033\n",
      "Auc: 0.9970 ± 0.0009\n"
     ]
    },
    {
     "data": {
      "text/plain": [
       "[تصویر خروجی در فایل nb_outputs_images\\cell23_output11.png ذخیره شد]"
      ]
     },
     "output_type": "display_data"
    },
    {
     "name": "stdout",
     "output_type": "stream",
     "text": [
      "\n",
      "==== Training model: SimpleRNN ====\n",
      " Run 1/5\n",
      "Epoch 1/50\n",
      "\u001b[1m581/581\u001b[0m \u001b[32m━━━━━━━━━━━━━━━━━━━━\u001b[0m\u001b[37m\u001b[0m \u001b[1m4s\u001b[0m 4ms/step - accuracy: 0.6199 - loss: 0.6078 - val_accuracy: 0.8884 - val_loss: 0.2798\n",
      "Epoch 2/50\n",
      "\u001b[1m581/581\u001b[0m \u001b[32m━━━━━━━━━━━━━━━━━━━━\u001b[0m\u001b[37m\u001b[0m \u001b[1m2s\u001b[0m 4ms/step - accuracy: 0.8670 - loss: 0.3146 - val_accuracy: 0.9104 - val_loss: 0.2225\n",
      "Epoch 3/50\n",
      "\u001b[1m581/581\u001b[0m \u001b[32m━━━━━━━━━━━━━━━━━━━━\u001b[0m\u001b[37m\u001b[0m \u001b[1m2s\u001b[0m 4ms/step - accuracy: 0.9010 - loss: 0.2518 - val_accu\n",
      "... [خلاصه شد] ...\n"
     ]
    },
    {
     "data": {
      "text/plain": [
       "[تصویر خروجی در فایل nb_outputs_images\\cell23_output13.png ذخیره شد]"
      ]
     },
     "output_type": "display_data"
    },
    {
     "name": "stdout",
     "output_type": "stream",
     "text": [
      "\n",
      "==== Summary for SimpleRNN (over 5 runs) ====\n",
      "Accuracy: 0.9568 ± 0.0021\n",
      "Precision: 0.9702 ± 0.0068\n",
      "Recall: 0.9427 ± 0.0075\n",
      "F1: 0.9562 ± 0.0022\n",
      "Auc: 0.9933 ± 0.0008\n"
     ]
    },
    {
     "data": {
      "text/plain": [
       "[تصویر خروجی در فایل nb_outputs_images\\cell23_output15.png ذخیره شد]"
      ]
     },
     "output_type": "display_data"
    },
    {
     "name": "stdout",
     "output_type": "stream",
     "text": [
      "\n",
      "==== Training model: Dense ====\n",
      " Run 1/5\n",
      "Epoch 1/50\n",
      "\u001b[1m581/581\u001b[0m \u001b[32m━━━━━━━━━━━━━━━━━━━━\u001b[0m\u001b[37m\u001b[0m \u001b[1m3s\u001b[0m 4ms/step - accuracy: 0.6898 - loss: 0.5577 - val_accuracy: 0.8893 - val_loss: 0.2925\n",
      "Epoch 2/50\n",
      "\u001b[1m581/581\u001b[0m \u001b[32m━━━━━━━━━━━━━━━━━━━━\u001b[0m\u001b[37m\u001b[0m \u001b[1m2s\u001b[0m 4ms/step - accuracy: 0.8597 - loss: 0.3338 - val_accuracy: 0.9005 - val_loss: 0.2508\n",
      "Epoch 3/50\n",
      "\u001b[1m581/581\u001b[0m \u001b[32m━━━━━━━━━━━━━━━━━━━━\u001b[0m\u001b[37m\u001b[0m \u001b[1m2s\u001b[0m 3ms/step - accuracy: 0.8817 - loss: 0.2909 - val_accuracy\n",
      "... [خلاصه شد] ...\n"
     ]
    },
    {
     "data": {
      "text/plain": [
       "[تصویر خروجی در فایل nb_outputs_images\\cell23_output17.png ذخیره شد]"
      ]
     },
     "output_type": "display_data"
    },
    {
     "name": "stdout",
     "output_type": "stream",
     "text": [
      "\n",
      "==== Summary for Dense (over 5 runs) ====\n",
      "Accuracy: 0.9250 ± 0.0041\n",
      "Precision: 0.9403 ± 0.0107\n",
      "Recall: 0.9079 ± 0.0112\n",
      "F1: 0.9237 ± 0.0042\n",
      "Auc: 0.9814 ± 0.0022\n"
     ]
    },
    {
     "data": {
      "text/plain": [
       "[تصویر خروجی در فایل nb_outputs_images\\cell23_output19.png ذخیره شد]"
      ]
     },
     "output_type": "display_data"
    },
    {
     "name": "stdout",
     "output_type": "stream",
     "text": [
      "\n",
      "All run results saved to: /content/drive/MyDrive/AVA/results_all_models_coatnet_0_rw_224.csv\n"
     ]
    }
   ],
   "source": [
    "import numpy as np\n",
    "import tensorflow as tf\n",
    "from tensorflow.keras.layers import Input, Dense, Dropout, LSTM, GRU, SimpleRNN, Flatten\n",
    "from tensorflow.keras.models import Model\n",
    "from tensorflow.keras.optimizers import Adam\n",
    "from tensorflow.keras.callbacks import EarlyStopping\n",
    "from sklearn.model_selection import train_test_split\n",
    "from sklearn.metrics import (\n",
    "    accuracy_score, precision_score, recall_score, f1_score,\n",
    "    roc_auc_score, confusion_matrix, classification_report,\n",
    "    roc_curve, precision_recall_curve, auc\n",
    ")\n",
    "from sklearn.utils import shuffle\n",
    "import matplotlib.pyplot as plt\n",
    "import seaborn as sns\n",
    "import pandas as pd\n",
    "import os\n",
    "import gc\n",
    "from tensorflow.keras import backend as K\n",
    "\n",
    "os.environ[\"CUDA_VISIBLE_DEVICES\"] = \"\"\n",
    "\n",
    "# --- Data loading and preprocessing ---\n",
    "def prepare_data(normal_path, anomaly_path):\n",
    "    X_normal = np.load(normal_path, allow_pickle=True)\n",
    "    if X_normal.ndim >= 4:\n",
    "        X_normal = X_normal.mean(axis=(2, 3))\n",
    "    X_anomaly = np.load(anomaly_path, allow_pickle=True)\n",
    "    if X_anomaly.ndim >= 4:\n",
    "        X_anomaly = X_anomaly.mean(axis=(2, 3))\n",
    "    X = np.concatenate([X_normal, X_anomaly])\n",
    "    y = np.concatenate([np.zeros(len(X_normal)), np.ones(len(X_anomaly))])\n",
    "    X = X.astype(np.float32)\n",
    "    X = np.nan_to_num(X, nan=0.0, posinf=0.0, neginf=0.0)\n",
    "    X, y = shuffle(X, y, random_state=42)\n",
    "    return X, y\n",
    "\n",
    "def create_sequences(X, y, seq_len=5):\n",
    "    X_seq, y_seq = [], []\n",
    "    for i in range(len(X) - seq_len + 1):\n",
    "        X_seq.append(X[i:i + seq_len])\n",
    "        y_seq.append(y[i + seq_len - 1])\n",
    "    return np.array(X_seq), np.array(y_seq)\n",
    "\n",
    "# --- Model builders with 32 and 16 units ---\n",
    "def build_lstm_model(input_shape):\n",
    "    inputs = Input(shape=input_shape)\n",
    "    x = LSTM(32, activation='tanh', recurrent_activation='sigmoid', unroll=True)(inputs)\n",
    "    x = Dropout(0.3)(x)\n",
    "    x = Dense(16, activation='relu')(x)\n",
    "    x = Dropout(0.3)(x)\n",
    "    outputs = Dense(1, activation='sigmoid')(x)\n",
    "    model = Model(inputs, outputs)\n",
    "    model.compile(optimizer=Adam(1e-4), loss='binary_crossentropy', metrics=['accuracy'])\n",
    "    return model\n",
    "\n",
    "def build_gru_model(input_shape):\n",
    "    inputs = Input(shape=input_shape)\n",
    "    x = GRU(32)(inputs)\n",
    "    x = Dropout(0.3)(x)\n",
    "    x = Dense(16, activation='relu')(x)\n",
    "    x = Dropout(0.3)(x)\n",
    "    outputs = Dense(1, activation='sigmoid')(x)\n",
    "    model = Model(inputs, outputs)\n",
    "    model.compile(optimizer=Adam(1e-4), loss='binary_crossentropy', metrics=['accuracy'])\n",
    "    return model\n",
    "\n",
    "def build_lstm_gru_model(input_shape):\n",
    "    inputs = Input(shape=input_shape)\n",
    "    x = LSTM(32, return_sequences=True, unroll=True)(inputs)\n",
    "    x = Dropout(0.3)(x)\n",
    "    x = GRU(32)(x)\n",
    "    x = Dropout(0.3)(x)\n",
    "    x = Dense(16, activation='relu')(x)\n",
    "    x = Dropout(0.3)(x)\n",
    "    outputs = Dense(1, activation='sigmoid')(x)\n",
    "    model = Model(inputs, outputs)\n",
    "    model.compile(optimizer=Adam(1e-4), loss='binary_crossentropy', metrics=['accuracy'])\n",
    "    return model\n",
    "\n",
    "def build_simple_rnn_model(input_shape):\n",
    "    inputs = Input(shape=input_shape)\n",
    "    x = SimpleRNN(32)(inputs)\n",
    "    x = Dropout(0.3)(x)\n",
    "    x = Dense(16, activation='relu')(x)\n",
    "    x = Dropout(0.3)(x)\n",
    "    outputs = Dense(1, activation='sigmoid')(x)\n",
    "    model = Model(inputs, outputs)\n",
    "    model.compile(optimizer=Adam(1e-4), loss='binary_crossentropy', metrics=['accuracy'])\n",
    "    return model\n",
    "\n",
    "def build_dense_model(input_shape):\n",
    "    inputs = Input(shape=input_shape)\n",
    "    x = Flatten()(inputs)\n",
    "    x = Dense(32, activation='relu')(x)\n",
    "    x = Dropout(0.3)(x)\n",
    "    x = Dense(16, activation='relu')(x)\n",
    "    x = Dropout(0.3)(x)\n",
    "    outputs = Dense(1, activation='sigmoid')(x)\n",
    "    model = Model(inputs, outputs)\n",
    "    model.compile(optimizer=Adam(1e-4), loss='binary_crossentropy', metrics=['accuracy'])\n",
    "    return model\n",
    "\n",
    "# --- Main execution ---\n",
    "def main():\n",
    "    feature_model_name = 'coatnet_0_rw_224'  # Change if needed\n",
    "    seq_len = 10\n",
    "    save_dir = '/content/drive/MyDrive/AVA'  # Change to your data path\n",
    "    normal_path = f\"{save_dir}/normal_features_{feature_model_name}.npy\"\n",
    "    anomaly_path = f\"{save_dir}/anomaly_features_{feature_model_name}.npy\"\n",
    "\n",
    "    X, y = prepare_data(normal_path, anomaly_path)\n",
    "    X_seq, y_seq = create_sequences(X, y, seq_len=seq_len)\n",
    "\n",
    "    model_builders = {\n",
    "        \"LSTM\": build_lstm_model,\n",
    "        \"GRU\": build_gru_model,\n",
    "        \"LSTM_GRU\": build_lstm_gru_model,\n",
    "        \"SimpleRNN\": build_simple_rnn_model,\n",
    "        \"Dense\": build_dense_model\n",
    "    }\n",
    "\n",
    "    num_runs = 5\n",
    "    all_results = []\n",
    "\n",
    "    for model_name, builder in model_builders.items():\n",
    "        print(f\"\\n==== Training model: {model_name} ====\")\n",
    "\n",
    "        metrics_list = {\n",
    "            \"accuracy\": [],\n",
    "            \"precision\": [],\n",
    "            \"recall\": [],\n",
    "            \"f1\": [],\n",
    "            \"auc\": []\n",
    "        }\n",
    "\n",
    "        histories = []\n",
    "\n",
    "        for run in range(num_runs):\n",
    "            print(f\" Run {run+1}/{num_runs}\")\n",
    "\n",
    "            X_train, X_test, y_train, y_test = train_test_split(\n",
    "                X_seq, y_seq, test_size=0.2, stratify=y_seq, random_state=run\n",
    "            )\n",
    "\n",
    "            model = builder(X_train.shape[1:])\n",
    "            es = EarlyStopping(patience=5, restore_best_weights=True, verbose=0)\n",
    "            history = model.fit(\n",
    "                X_train, y_train,\n",
    "                validation_data=(X_test, y_test),\n",
    "                epochs=50,\n",
    "                batch_size=32,\n",
    "                callbacks=[es],\n",
    "                verbose=1\n",
    "            )\n",
    "            histories.append(history)\n",
    "\n",
    "            y_prob = model.predict(X_test).ravel()\n",
    "            y_pred = (y_prob > 0.5).astype(int)\n",
    "\n",
    "            acc = accuracy_score(y_test, y_pred)\n",
    "            prec = precision_score(y_test, y_pred, zero_division=0)\n",
    "            rec = recall_score(y_test, y_pred, zero_division=0)\n",
    "            f1 = f1_score(y_test, y_pred, zero_division=0)\n",
    "            auc_score = roc_auc_score(y_test, y_prob)\n",
    "\n",
    "            # Store metrics\n",
    "            metrics_list[\"accuracy\"].append(acc)\n",
    "            metrics_list[\"precision\"].append(prec)\n",
    "            metrics_list[\"recall\"].append(rec)\n",
    "            metrics_list[\"f1\"].append(f1)\n",
    "            metrics_list[\"auc\"].append(auc_score)\n",
    "\n",
    "            all_results.append({\n",
    "                \"Model\": model_name,\n",
    "                \"Run\": run + 1,\n",
    "                \"Accuracy\": acc,\n",
    "                \"Precision\": prec,\n",
    "                \"Recall\": rec,\n",
    "                \"F1\": f1,\n",
    "                \"AUC\": auc_score\n",
    "            })\n",
    "\n",
    "            # Clear to save memory\n",
    "            K.clear_session()\n",
    "            del model\n",
    "            gc.collect()\n",
    "\n",
    "        # Plot training curves for last run\n",
    "        last_history = histories[-1]\n",
    "        plt.figure(figsize=(12,5))\n",
    "        plt.subplot(1,2,1)\n",
    "        plt.plot(last_history.history['accuracy'], label='Train Accuracy')\n",
    "        plt.plot(last_history.history['val_accuracy'], label='Validation Accuracy')\n",
    "        plt.title(f'{model_name} Accuracy per Epoch')\n",
    "        plt.xlabel('Epoch')\n",
    "        plt.ylabel('Accuracy')\n",
    "        plt.legend()\n",
    "        plt.grid(True)\n",
    "\n",
    "        plt.subplot(1,2,2)\n",
    "        plt.plot(last_history.history['loss'], label='Train Loss')\n",
    "        plt.plot(last_history.history['val_loss'], label='Validation Loss')\n",
    "        plt.title(f'{model_name} Loss per Epoch')\n",
    "        plt.xlabel('Epoch')\n",
    "        plt.ylabel('Loss')\n",
    "        plt.legend()\n",
    "        plt.grid(True)\n",
    "\n",
    "        plt.tight_layout()\n",
    "        plt.show()\n",
    "\n",
    "        # Print mean ± std summary for all runs\n",
    "        print(f\"\\n==== Summary for {model_name} (over {num_runs} runs) ====\")\n",
    "        for metric in metrics_list:\n",
    "            mean_val = np.mean(metrics_list[metric])\n",
    "            std_val = np.std(metrics_list[metric])\n",
    "            print(f\"{metric.capitalize()}: {mean_val:.4f} ± {std_val:.4f}\")\n",
    "\n",
    "        # Plot boxplots of the 5 runs for metrics\n",
    "        plt.figure(figsize=(10,6))\n",
    "        sns.boxplot(data=[metrics_list[\"accuracy\"], metrics_list[\"f1\"], metrics_list[\"auc\"]],\n",
    "                    palette=\"Set2\")\n",
    "        plt.xticks([0,1,2], ['Accuracy', 'F1-score', 'AUC'])\n",
    "        plt.title(f'{model_name} Metrics Boxplot over {num_runs} runs')\n",
    "        plt.ylabel('Score')\n",
    "        plt.grid(True)\n",
    "        plt.show()\n",
    "\n",
    "    # Save all results to CSV\n",
    "    df = pd.DataFrame(all_results)\n",
    "    csv_save_path = os.path.join(save_dir, f\"results_all_models_{feature_model_name}.csv\")\n",
    "    df.to_csv(csv_save_path, index=False)\n",
    "    print(f\"\\nAll run results saved to: {csv_save_path}\")\n",
    "\n",
    "if __name__ == \"__main__\":\n",
    "    main()\n"
   ]
  }
 ],
 "metadata": {
  "accelerator": "GPU",
  "colab": {
   "gpuType": "A100",
   "machine_shape": "hm",
   "provenance": []
  },
  "kernelspec": {
   "display_name": "Python 3 (ipykernel)",
   "language": "python",
   "name": "python3"
  },
  "language_info": {
   "codemirror_mode": {
    "name": "ipython",
    "version": 3
   },
   "file_extension": ".py",
   "mimetype": "text/x-python",
   "name": "python",
   "nbconvert_exporter": "python",
   "pygments_lexer": "ipython3",
   "version": "3.12.7"
  },
  "widgets": {
   "application/vnd.jupyter.widget-state+json": {
    "0d0510ae9d82419084ea45f9fb7311b0": {
     "model_module": "@jupyter-widgets/controls",
     "model_module_version": "1.5.0",
     "model_name": "DescriptionStyleModel",
     "state": {
      "_model_module": "@jupyter-widgets/controls",
      "_model_module_version": "1.5.0",
      "_model_name": "DescriptionStyleModel",
      "_view_count": null,
      "_view_module": "@jupyter-widgets/base",
      "_view_module_version": "1.2.0",
      "_view_name": "StyleView",
      "description_width": ""
     }
    },
    "0d732b82ffe44c718aa80b67df714714": {
     "model_module": "@jupyter-widgets/base",
     "model_module_version": "1.2.0",
     "model_name": "LayoutModel",
     "state": {
      "_model_module": "@jupyter-widgets/base",
      "_model_module_version": "1.2.0",
      "_model_name": "LayoutModel",
      "_view_count": null,
      "_view_module": "@jupyter-widgets/base",
      "_view_module_version": "1.2.0",
      "_view_name": "LayoutView",
      "align_content": null,
      "align_items": null,
      "align_self": null,
      "border": null,
      "bottom": null,
      "display": null,
      "flex": null,
      "flex_flow": null,
      "grid_area": null,
      "grid_auto_columns": null,
      "grid_auto_flow": null,
      "grid_auto_rows": null,
      "grid_column": null,
      "grid_gap": null,
      "grid_row": null,
      "grid_template_areas": null,
      "grid_template_columns": null,
      "grid_template_rows": null,
      "height": null,
      "justify_content": null,
      "justify_items": null,
      "left": null,
      "margin": null,
      "max_height": null,
      "max_width": null,
      "min_height": null,
      "min_width": null,
      "object_fit": null,
      "object_position": null,
      "order": null,
      "overflow": null,
      "overflow_x": null,
      "overflow_y": null,
      "padding": null,
      "right": null,
      "top": null,
      "visibility": null,
      "width": null
     }
    },
    "181f1c459bbb423f9b857c7b776b8b73": {
     "model_module": "@jupyter-widgets/base",
     "model_module_version": "1.2.0",
     "model_name": "LayoutModel",
     "state": {
      "_model_module": "@jupyter-widgets/base",
      "_model_module_version": "1.2.0",
      "_model_name": "LayoutModel",
      "_view_count": null,
      "_view_module": "@jupyter-widgets/base",
      "_view_module_version": "1.2.0",
      "_view_name": "LayoutView",
      "align_content": null,
      "align_items": null,
      "align_self": null,
      "border": null,
      "bottom": null,
      "display": null,
      "flex": null,
      "flex_flow": null,
      "grid_area": null,
      "grid_auto_columns": null,
      "grid_auto_flow": null,
      "grid_auto_rows": null,
      "grid_column": null,
      "grid_gap": null,
      "grid_row": null,
      "grid_template_areas": null,
      "grid_template_columns": null,
      "grid_template_rows": null,
      "height": null,
      "justify_content": null,
      "justify_items": null,
      "left": null,
      "margin": null,
      "max_height": null,
      "max_width": null,
      "min_height": null,
      "min_width": null,
      "object_fit": null,
      "object_position": null,
      "order": null,
      "overflow": null,
      "overflow_x": null,
      "overflow_y": null,
      "padding": null,
      "right": null,
      "top": null,
      "visibility": null,
      "width": null
     }
    },
    "1a0623f272b74b78a175fb9efbbe3dc5": {
     "model_module": "@jupyter-widgets/controls",
     "model_module_version": "1.5.0",
     "model_name": "ProgressStyleModel",
     "state": {
      "_model_module": "@jupyter-widgets/controls",
      "_model_module_version": "1.5.0",
      "_model_name": "ProgressStyleModel",
      "_view_count": null,
      "_view_module": "@jupyter-widgets/base",
      "_view_module_version": "1.2.0",
      "_view_name": "StyleView",
      "bar_color": null,
      "description_width": ""
     }
    },
    "1f3565172dcc4f34a77ba17c80a4858d": {
     "model_module": "@jupyter-widgets/controls",
     "model_module_version": "1.5.0",
     "model_name": "DescriptionStyleModel",
     "state": {
      "_model_module": "@jupyter-widgets/controls",
      "_model_module_version": "1.5.0",
      "_model_name": "DescriptionStyleModel",
      "_view_count": null,
      "_view_module": "@jupyter-widgets/base",
      "_view_module_version": "1.2.0",
      "_view_name": "StyleView",
      "description_width": ""
     }
    },
    "2095f2eacaa1428681190f19caf27560": {
     "model_module": "@jupyter-widgets/base",
     "model_module_version": "1.2.0",
     "model_name": "LayoutModel",
     "state": {
      "_model_module": "@jupyter-widgets/base",
      "_model_module_version": "1.2.0",
      "_model_name": "LayoutModel",
      "_view_count": null,
      "_view_module": "@jupyter-widgets/base",
      "_view_module_version": "1.2.0",
      "_view_name": "LayoutView",
      "align_content": null,
      "align_items": null,
      "align_self": null,
      "border": null,
      "bottom": null,
      "display": null,
      "flex": null,
      "flex_flow": null,
      "grid_area": null,
      "grid_auto_columns": null,
      "grid_auto_flow": null,
      "grid_auto_rows": null,
      "grid_column": null,
      "grid_gap": null,
      "grid_row": null,
      "grid_template_areas": null,
      "grid_template_columns": null,
      "grid_template_rows": null,
      "height": null,
      "justify_content": null,
      "justify_items": null,
      "left": null,
      "margin": null,
      "max_height": null,
      "max_width": null,
      "min_height": null,
      "min_width": null,
      "object_fit": null,
      "object_position": null,
      "order": null,
      "overflow": null,
      "overflow_x": null,
      "overflow_y": null,
      "padding": null,
      "right": null,
      "top": null,
      "visibility": null,
      "width": null
     }
    },
    "21f6888d0a34477da21307921015f59c": {
     "model_module": "@jupyter-widgets/controls",
     "model_module_version": "1.5.0",
     "model_name": "DescriptionStyleModel",
     "state": {
      "_model_module": "@jupyter-widgets/controls",
      "_model_module_version": "1.5.0",
      "_model_name": "DescriptionStyleModel",
      "_view_count": null,
      "_view_module": "@jupyter-widgets/base",
      "_view_module_version": "1.2.0",
      "_view_name": "StyleView",
      "description_width": ""
     }
    },
    "2ab4cda38dc64830a9b5d547e551ea29": {
     "model_module": "@jupyter-widgets/controls",
     "model_module_version": "1.5.0",
     "model_name": "DescriptionStyleModel",
     "state": {
      "_model_module": "@jupyter-widgets/controls",
      "_model_module_version": "1.5.0",
      "_model_name": "DescriptionStyleModel",
      "_view_count": null,
      "_view_module": "@jupyter-widgets/base",
      "_view_module_version": "1.2.0",
      "_view_name": "StyleView",
      "description_width": ""
     }
    },
    "30a7f54bebfa476199f2cffa29f81f74": {
     "model_module": "@jupyter-widgets/controls",
     "model_module_version": "1.5.0",
     "model_name": "FloatProgressModel",
     "state": {
      "_dom_classes": [],
      "_model_module": "@jupyter-widgets/controls",
      "_model_module_version": "1.5.0",
      "_model_name": "FloatProgressModel",
      "_view_count": null,
      "_view_module": "@jupyter-widgets/controls",
      "_view_module_version": "1.5.0",
      "_view_name": "ProgressView",
      "bar_style": "success",
      "description": "",
      "description_tooltip": null,
      "layout": "IPY_MODEL_5dc8ee076b86461996f3e307ccf30a2b",
      "max": 21660528,
      "min": 0,
      "orientation": "horizontal",
      "style": "IPY_MODEL_4909357c361947ef9ee23340205cfb5b",
      "value": 21660528
     }
    },
    "3aa2b5ff3c3543ffa176853860d6388c": {
     "model_module": "@jupyter-widgets/controls",
     "model_module_version": "1.5.0",
     "model_name": "HTMLModel",
     "state": {
      "_dom_classes": [],
      "_model_module": "@jupyter-widgets/controls",
      "_model_module_version": "1.5.0",
      "_model_name": "HTMLModel",
      "_view_count": null,
      "_view_module": "@jupyter-widgets/controls",
      "_view_module_version": "1.5.0",
      "_view_name": "HTMLView",
      "description": "",
      "description_tooltip": null,
      "layout": "IPY_MODEL_7e1f911141b047f28a455d46755ca0eb",
      "placeholder": "​",
      "style": "IPY_MODEL_3bd8abed0e724d1db3445ae31ee94b77",
      "value": "model.safetensors: 100%"
     }
    },
    "3bd8abed0e724d1db3445ae31ee94b77": {
     "model_module": "@jupyter-widgets/controls",
     "model_module_version": "1.5.0",
     "model_name": "DescriptionStyleModel",
     "state": {
      "_model_module": "@jupyter-widgets/controls",
      "_model_module_version": "1.5.0",
      "_model_name": "DescriptionStyleModel",
      "_view_count": null,
      "_view_module": "@jupyter-widgets/base",
      "_view_module_version": "1.2.0",
      "_view_name": "StyleView",
      "description_width": ""
     }
    },
    "43c185a82fe14e5480ba88ceb49105d2": {
     "model_module": "@jupyter-widgets/base",
     "model_module_version": "1.2.0",
     "model_name": "LayoutModel",
     "state": {
      "_model_module": "@jupyter-widgets/base",
      "_model_module_version": "1.2.0",
      "_model_name": "LayoutModel",
      "_view_count": null,
      "_view_module": "@jupyter-widgets/base",
      "_view_module_version": "1.2.0",
      "_view_name": "LayoutView",
      "align_content": null,
      "align_items": null,
      "align_self": null,
      "border": null,
      "bottom": null,
      "display": null,
      "flex": null,
      "flex_flow": null,
      "grid_area": null,
      "grid_auto_columns": null,
      "grid_auto_flow": null,
      "grid_auto_rows": null,
      "grid_column": null,
      "grid_gap": null,
      "grid_row": null,
      "grid_template_areas": null,
      "grid_template_columns": null,
      "grid_template_rows": null,
      "height": null,
      "justify_content": null,
      "justify_items": null,
      "left": null,
      "margin": null,
      "max_height": null,
      "max_width": null,
      "min_height": null,
      "min_width": null,
      "object_fit": null,
      "object_position": null,
      "order": null,
      "overflow": null,
      "overflow_x": null,
      "overflow_y": null,
      "padding": null,
      "right": null,
      "top": null,
      "visibility": null,
      "width": null
     }
    },
    "48223f1141ac43268c2c8fe78de566b7": {
     "model_module": "@jupyter-widgets/controls",
     "model_module_version": "1.5.0",
     "model_name": "HTMLModel",
     "state": {
      "_dom_classes": [],
      "_model_module": "@jupyter-widgets/controls",
      "_model_module_version": "1.5.0",
      "_model_name": "HTMLModel",
      "_view_count": null,
      "_view_module": "@jupyter-widgets/controls",
      "_view_module_version": "1.5.0",
      "_view_name": "HTMLView",
      "description": "",
      "description_tooltip": null,
      "layout": "IPY_MODEL_a0100333e3f147cc904d7409c0ae16b6",
      "placeholder": "​",
      "style": "IPY_MODEL_bf02021c7aae427e850377878e13ef3b",
      "value": " 36.6M/36.6M [00:00&lt;00:00, 146MB/s]"
     }
    },
    "48b9d60caeca485c82dde2d6edbe26dc": {
     "model_module": "@jupyter-widgets/controls",
     "model_module_version": "1.5.0",
     "model_name": "HTMLModel",
     "state": {
      "_dom_classes": [],
      "_model_module": "@jupyter-widgets/controls",
      "_model_module_version": "1.5.0",
      "_model_name": "HTMLModel",
      "_view_count": null,
      "_view_module": "@jupyter-widgets/controls",
      "_view_module_version": "1.5.0",
      "_view_name": "HTMLView",
      "description": "",
      "description_tooltip": null,
      "layout": "IPY_MODEL_84aa53fbea174846ad8569b1286734ff",
      "placeholder": "​",
      "style": "IPY_MODEL_f0293a56eaf149f986ca49fcfc6c1de7",
      "value": " 124M/124M [00:00&lt;00:00, 217MB/s]"
     }
    },
    "4909357c361947ef9ee23340205cfb5b": {
     "model_module": "@jupyter-widgets/controls",
     "model_module_version": "1.5.0",
     "model_name": "ProgressStyleModel",
     "state": {
      "_model_module": "@jupyter-widgets/controls",
      "_model_module_version": "1.5.0",
      "_model_name": "ProgressStyleModel",
      "_view_count": null,
      "_view_module": "@jupyter-widgets/base",
      "_view_module_version": "1.2.0",
      "_view_name": "StyleView",
      "bar_color": null,
      "description_width": ""
     }
    },
    "49f99dc9aaf64e5da0627602432fc232": {
     "model_module": "@jupyter-widgets/controls",
     "model_module_version": "1.5.0",
     "model_name": "DescriptionStyleModel",
     "state": {
      "_model_module": "@jupyter-widgets/controls",
      "_model_module_version": "1.5.0",
      "_model_name": "DescriptionStyleModel",
      "_view_count": null,
      "_view_module": "@jupyter-widgets/base",
      "_view_module_version": "1.2.0",
      "_view_name": "StyleView",
      "description_width": ""
     }
    },
    "4b1b882b3a5742d0b57608ac7549a9af": {
     "model_module": "@jupyter-widgets/controls",
     "model_module_version": "1.5.0",
     "model_name": "DescriptionStyleModel",
     "state": {
      "_model_module": "@jupyter-widgets/controls",
      "_model_module_version": "1.5.0",
      "_model_name": "DescriptionStyleModel",
      "_view_count": null,
      "_view_module": "@jupyter-widgets/base",
      "_view_module_version": "1.2.0",
      "_view_name": "StyleView",
      "description_width": ""
     }
    },
    "4eb70585d93e41f686f9b72058cea05a": {
     "model_module": "@jupyter-widgets/controls",
     "model_module_version": "1.5.0",
     "model_name": "HTMLModel",
     "state": {
      "_dom_classes": [],
      "_model_module": "@jupyter-widgets/controls",
      "_model_module_version": "1.5.0",
      "_model_name": "HTMLModel",
      "_view_count": null,
      "_view_module": "@jupyter-widgets/controls",
      "_view_module_version": "1.5.0",
      "_view_name": "HTMLView",
      "description": "",
      "description_tooltip": null,
      "layout": "IPY_MODEL_a43d5934af244e60a77146dcab9e0a39",
      "placeholder": "​",
      "style": "IPY_MODEL_d1f9ed976f15431e8ed095a6907e3d05",
      "value": " 21.7M/21.7M [00:00&lt;00:00, 53.7MB/s]"
     }
    },
    "4eeb34629f3b41bbb206fe27865cf22a": {
     "model_module": "@jupyter-widgets/base",
     "model_module_version": "1.2.0",
     "model_name": "LayoutModel",
     "state": {
      "_model_module": "@jupyter-widgets/base",
      "_model_module_version": "1.2.0",
      "_model_name": "LayoutModel",
      "_view_count": null,
      "_view_module": "@jupyter-widgets/base",
      "_view_module_version": "1.2.0",
      "_view_name": "LayoutView",
      "align_content": null,
      "align_items": null,
      "align_self": null,
      "border": null,
      "bottom": null,
      "display": null,
      "flex": null,
      "flex_flow": null,
      "grid_area": null,
      "grid_auto_columns": null,
      "grid_auto_flow": null,
      "grid_auto_rows": null,
      "grid_column": null,
      "grid_gap": null,
      "grid_row": null,
      "grid_template_areas": null,
      "grid_template_columns": null,
      "grid_template_rows": null,
      "height": null,
      "justify_content": null,
      "justify_items": null,
      "left": null,
      "margin": null,
      "max_height": null,
      "max_width": null,
      "min_height": null,
      "min_width": null,
      "object_fit": null,
      "object_position": null,
      "order": null,
      "overflow": null,
      "overflow_x": null,
      "overflow_y": null,
      "padding": null,
      "right": null,
      "top": null,
      "visibility": null,
      "width": null
     }
    },
    "4f1f4c9b05b34153aa6cfe38051a859e": {
     "model_module": "@jupyter-widgets/base",
     "model_module_version": "1.2.0",
     "model_name": "LayoutModel",
     "state": {
      "_model_module": "@jupyter-widgets/base",
      "_model_module_version": "1.2.0",
      "_model_name": "LayoutModel",
      "_view_count": null,
      "_view_module": "@jupyter-widgets/base",
      "_view_module_version": "1.2.0",
      "_view_name": "LayoutView",
      "align_content": null,
      "align_items": null,
      "align_self": null,
      "border": null,
      "bottom": null,
      "display": null,
      "flex": null,
      "flex_flow": null,
      "grid_area": null,
      "grid_auto_columns": null,
      "grid_auto_flow": null,
      "grid_auto_rows": null,
      "grid_column": null,
      "grid_gap": null,
      "grid_row": null,
      "grid_template_areas": null,
      "grid_template_columns": null,
      "grid_template_rows": null,
      "height": null,
      "justify_content": null,
      "justify_items": null,
      "left": null,
      "margin": null,
      "max_height": null,
      "max_width": null,
      "min_height": null,
      "min_width": null,
      "object_fit": null,
      "object_position": null,
      "order": null,
      "overflow": null,
      "overflow_x": null,
      "overflow_y": null,
      "padding": null,
      "right": null,
      "top": null,
      "visibility": null,
      "width": null
     }
    },
    "4f4dcf5697d44a0fbd151cc4068b8759": {
     "model_module": "@jupyter-widgets/controls",
     "model_module_version": "1.5.0",
     "model_name": "HTMLModel",
     "state": {
      "_dom_classes": [],
      "_model_module": "@jupyter-widgets/controls",
      "_model_module_version": "1.5.0",
      "_model_name": "HTMLModel",
      "_view_count": null,
      "_view_module": "@jupyter-widgets/controls",
      "_view_module_version": "1.5.0",
      "_view_name": "HTMLView",
      "description": "",
      "description_tooltip": null,
      "layout": "IPY_MODEL_9b80976c3b8945a384c1c822a4ca8737",
      "placeholder": "​",
      "style": "IPY_MODEL_21f6888d0a34477da21307921015f59c",
      "value": "model.safetensors: 100%"
     }
    },
    "535e897df7e04e8292a2a209c31a8c8d": {
     "model_module": "@jupyter-widgets/controls",
     "model_module_version": "1.5.0",
     "model_name": "FloatProgressModel",
     "state": {
      "_dom_classes": [],
      "_model_module": "@jupyter-widgets/controls",
      "_model_module_version": "1.5.0",
      "_model_name": "FloatProgressModel",
      "_view_count": null,
      "_view_module": "@jupyter-widgets/controls",
      "_view_module_version": "1.5.0",
      "_view_name": "ProgressView",
      "bar_style": "success",
      "description": "",
      "description_tooltip": null,
      "layout": "IPY_MODEL_4eeb34629f3b41bbb206fe27865cf22a",
      "max": 47673798,
      "min": 0,
      "orientation": "horizontal",
      "style": "IPY_MODEL_f495eee191d844d6ac3c54ebe0da8a07",
      "value": 47673798
     }
    },
    "57bbaf10098d47b48fa19f8b37ea5622": {
     "model_module": "@jupyter-widgets/controls",
     "model_module_version": "1.5.0",
     "model_name": "HBoxModel",
     "state": {
      "_dom_classes": [],
      "_model_module": "@jupyter-widgets/controls",
      "_model_module_version": "1.5.0",
      "_model_name": "HBoxModel",
      "_view_count": null,
      "_view_module": "@jupyter-widgets/controls",
      "_view_module_version": "1.5.0",
      "_view_name": "HBoxView",
      "box_style": "",
      "children": [
       "IPY_MODEL_883b24d139e84f5cbe2f6ca0e370e457",
       "IPY_MODEL_535e897df7e04e8292a2a209c31a8c8d",
       "IPY_MODEL_893ffed14a004ae5b0b3529d6658a9f8"
      ],
      "layout": "IPY_MODEL_2095f2eacaa1428681190f19caf27560"
     }
    },
    "59ca09edaaa14fc89fe051bfca1a5171": {
     "model_module": "@jupyter-widgets/controls",
     "model_module_version": "1.5.0",
     "model_name": "ProgressStyleModel",
     "state": {
      "_model_module": "@jupyter-widgets/controls",
      "_model_module_version": "1.5.0",
      "_model_name": "ProgressStyleModel",
      "_view_count": null,
      "_view_module": "@jupyter-widgets/base",
      "_view_module_version": "1.2.0",
      "_view_name": "StyleView",
      "bar_color": null,
      "description_width": ""
     }
    },
    "5ca224c62c12434985651dc2f445d1c0": {
     "model_module": "@jupyter-widgets/controls",
     "model_module_version": "1.5.0",
     "model_name": "HBoxModel",
     "state": {
      "_dom_classes": [],
      "_model_module": "@jupyter-widgets/controls",
      "_model_module_version": "1.5.0",
      "_model_name": "HBoxModel",
      "_view_count": null,
      "_view_module": "@jupyter-widgets/controls",
      "_view_module_version": "1.5.0",
      "_view_name": "HBoxView",
      "box_style": "",
      "children": [
       "IPY_MODEL_ade40b43ae9e4110a81b29b152b5b9f7",
       "IPY_MODEL_9da824379c3d46b986c917b3e61894c6",
       "IPY_MODEL_48b9d60caeca485c82dde2d6edbe26dc"
      ],
      "layout": "IPY_MODEL_a7f5b9b81ce443738d78ecde9702c020"
     }
    },
    "5dc8ee076b86461996f3e307ccf30a2b": {
     "model_module": "@jupyter-widgets/base",
     "model_module_version": "1.2.0",
     "model_name": "LayoutModel",
     "state": {
      "_model_module": "@jupyter-widgets/base",
      "_model_module_version": "1.2.0",
      "_model_name": "LayoutModel",
      "_view_count": null,
      "_view_module": "@jupyter-widgets/base",
      "_view_module_version": "1.2.0",
      "_view_name": "LayoutView",
      "align_content": null,
      "align_items": null,
      "align_self": null,
      "border": null,
      "bottom": null,
      "display": null,
      "flex": null,
      "flex_flow": null,
      "grid_area": null,
      "grid_auto_columns": null,
      "grid_auto_flow": null,
      "grid_auto_rows": null,
      "grid_column": null,
      "grid_gap": null,
      "grid_row": null,
      "grid_template_areas": null,
      "grid_template_columns": null,
      "grid_template_rows": null,
      "height": null,
      "justify_content": null,
      "justify_items": null,
      "left": null,
      "margin": null,
      "max_height": null,
      "max_width": null,
      "min_height": null,
      "min_width": null,
      "object_fit": null,
      "object_position": null,
      "order": null,
      "overflow": null,
      "overflow_x": null,
      "overflow_y": null,
      "padding": null,
      "right": null,
      "top": null,
      "visibility": null,
      "width": null
     }
    },
    "5fe8a977b93e470980ccd924ff92b567": {
     "model_module": "@jupyter-widgets/controls",
     "model_module_version": "1.5.0",
     "model_name": "DescriptionStyleModel",
     "state": {
      "_model_module": "@jupyter-widgets/controls",
      "_model_module_version": "1.5.0",
      "_model_name": "DescriptionStyleModel",
      "_view_count": null,
      "_view_module": "@jupyter-widgets/base",
      "_view_module_version": "1.2.0",
      "_view_name": "StyleView",
      "description_width": ""
     }
    },
    "62e789a17980432994b2ad1a63ddd123": {
     "model_module": "@jupyter-widgets/controls",
     "model_module_version": "1.5.0",
     "model_name": "ProgressStyleModel",
     "state": {
      "_model_module": "@jupyter-widgets/controls",
      "_model_module_version": "1.5.0",
      "_model_name": "ProgressStyleModel",
      "_view_count": null,
      "_view_module": "@jupyter-widgets/base",
      "_view_module_version": "1.2.0",
      "_view_name": "StyleView",
      "bar_color": null,
      "description_width": ""
     }
    },
    "676a9e491c1142f5816a8b8d2d2b66ff": {
     "model_module": "@jupyter-widgets/controls",
     "model_module_version": "1.5.0",
     "model_name": "HBoxModel",
     "state": {
      "_dom_classes": [],
      "_model_module": "@jupyter-widgets/controls",
      "_model_module_version": "1.5.0",
      "_model_name": "HBoxModel",
      "_view_count": null,
      "_view_module": "@jupyter-widgets/controls",
      "_view_module_version": "1.5.0",
      "_view_name": "HBoxView",
      "box_style": "",
      "children": [
       "IPY_MODEL_3aa2b5ff3c3543ffa176853860d6388c",
       "IPY_MODEL_30a7f54bebfa476199f2cffa29f81f74",
       "IPY_MODEL_4eb70585d93e41f686f9b72058cea05a"
      ],
      "layout": "IPY_MODEL_0d732b82ffe44c718aa80b67df714714"
     }
    },
    "6bf8cb3731df4c8ab5f641bc21c3c401": {
     "model_module": "@jupyter-widgets/base",
     "model_module_version": "1.2.0",
     "model_name": "LayoutModel",
     "state": {
      "_model_module": "@jupyter-widgets/base",
      "_model_module_version": "1.2.0",
      "_model_name": "LayoutModel",
      "_view_count": null,
      "_view_module": "@jupyter-widgets/base",
      "_view_module_version": "1.2.0",
      "_view_name": "LayoutView",
      "align_content": null,
      "align_items": null,
      "align_self": null,
      "border": null,
      "bottom": null,
      "display": null,
      "flex": null,
      "flex_flow": null,
      "grid_area": null,
      "grid_auto_columns": null,
      "grid_auto_flow": null,
      "grid_auto_rows": null,
      "grid_column": null,
      "grid_gap": null,
      "grid_row": null,
      "grid_template_areas": null,
      "grid_template_columns": null,
      "grid_template_rows": null,
      "height": null,
      "justify_content": null,
      "justify_items": null,
      "left": null,
      "margin": null,
      "max_height": null,
      "max_width": null,
      "min_height": null,
      "min_width": null,
      "object_fit": null,
      "object_position": null,
      "order": null,
      "overflow": null,
      "overflow_x": null,
      "overflow_y": null,
      "padding": null,
      "right": null,
      "top": null,
      "visibility": null,
      "width": null
     }
    },
    "6c4625ddac3841f39263d4c1487a35e2": {
     "model_module": "@jupyter-widgets/controls",
     "model_module_version": "1.5.0",
     "model_name": "HTMLModel",
     "state": {
      "_dom_classes": [],
      "_model_module": "@jupyter-widgets/controls",
      "_model_module_version": "1.5.0",
      "_model_name": "HTMLModel",
      "_view_count": null,
      "_view_module": "@jupyter-widgets/controls",
      "_view_module_version": "1.5.0",
      "_view_name": "HTMLView",
      "description": "",
      "description_tooltip": null,
      "layout": "IPY_MODEL_43c185a82fe14e5480ba88ceb49105d2",
      "placeholder": "​",
      "style": "IPY_MODEL_1f3565172dcc4f34a77ba17c80a4858d",
      "value": "model.safetensors: 100%"
     }
    },
    "70b32c8c52a04fbc968c33ad2324e7e9": {
     "model_module": "@jupyter-widgets/controls",
     "model_module_version": "1.5.0",
     "model_name": "HBoxModel",
     "state": {
      "_dom_classes": [],
      "_model_module": "@jupyter-widgets/controls",
      "_model_module_version": "1.5.0",
      "_model_name": "HBoxModel",
      "_view_count": null,
      "_view_module": "@jupyter-widgets/controls",
      "_view_module_version": "1.5.0",
      "_view_name": "HBoxView",
      "box_style": "",
      "children": [
       "IPY_MODEL_6c4625ddac3841f39263d4c1487a35e2",
       "IPY_MODEL_f9756434071842a5b03e599408931666",
       "IPY_MODEL_c310234d36254596978bfcebdc72fbdf"
      ],
      "layout": "IPY_MODEL_a35774c665864b239f12693112d52129"
     }
    },
    "72193b25e06c4e14aa4ca0cb797e4d8a": {
     "model_module": "@jupyter-widgets/base",
     "model_module_version": "1.2.0",
     "model_name": "LayoutModel",
     "state": {
      "_model_module": "@jupyter-widgets/base",
      "_model_module_version": "1.2.0",
      "_model_name": "LayoutModel",
      "_view_count": null,
      "_view_module": "@jupyter-widgets/base",
      "_view_module_version": "1.2.0",
      "_view_name": "LayoutView",
      "align_content": null,
      "align_items": null,
      "align_self": null,
      "border": null,
      "bottom": null,
      "display": null,
      "flex": null,
      "flex_flow": null,
      "grid_area": null,
      "grid_auto_columns": null,
      "grid_auto_flow": null,
      "grid_auto_rows": null,
      "grid_column": null,
      "grid_gap": null,
      "grid_row": null,
      "grid_template_areas": null,
      "grid_template_columns": null,
      "grid_template_rows": null,
      "height": null,
      "justify_content": null,
      "justify_items": null,
      "left": null,
      "margin": null,
      "max_height": null,
      "max_width": null,
      "min_height": null,
      "min_width": null,
      "object_fit": null,
      "object_position": null,
      "order": null,
      "overflow": null,
      "overflow_x": null,
      "overflow_y": null,
      "padding": null,
      "right": null,
      "top": null,
      "visibility": null,
      "width": null
     }
    },
    "7c19068b4d004bcd8908b70d294d62b4": {
     "model_module": "@jupyter-widgets/base",
     "model_module_version": "1.2.0",
     "model_name": "LayoutModel",
     "state": {
      "_model_module": "@jupyter-widgets/base",
      "_model_module_version": "1.2.0",
      "_model_name": "LayoutModel",
      "_view_count": null,
      "_view_module": "@jupyter-widgets/base",
      "_view_module_version": "1.2.0",
      "_view_name": "LayoutView",
      "align_content": null,
      "align_items": null,
      "align_self": null,
      "border": null,
      "bottom": null,
      "display": null,
      "flex": null,
      "flex_flow": null,
      "grid_area": null,
      "grid_auto_columns": null,
      "grid_auto_flow": null,
      "grid_auto_rows": null,
      "grid_column": null,
      "grid_gap": null,
      "grid_row": null,
      "grid_template_areas": null,
      "grid_template_columns": null,
      "grid_template_rows": null,
      "height": null,
      "justify_content": null,
      "justify_items": null,
      "left": null,
      "margin": null,
      "max_height": null,
      "max_width": null,
      "min_height": null,
      "min_width": null,
      "object_fit": null,
      "object_position": null,
      "order": null,
      "overflow": null,
      "overflow_x": null,
      "overflow_y": null,
      "padding": null,
      "right": null,
      "top": null,
      "visibility": null,
      "width": null
     }
    },
    "7e1f911141b047f28a455d46755ca0eb": {
     "model_module": "@jupyter-widgets/base",
     "model_module_version": "1.2.0",
     "model_name": "LayoutModel",
     "state": {
      "_model_module": "@jupyter-widgets/base",
      "_model_module_version": "1.2.0",
      "_model_name": "LayoutModel",
      "_view_count": null,
      "_view_module": "@jupyter-widgets/base",
      "_view_module_version": "1.2.0",
      "_view_name": "LayoutView",
      "align_content": null,
      "align_items": null,
      "align_self": null,
      "border": null,
      "bottom": null,
      "display": null,
      "flex": null,
      "flex_flow": null,
      "grid_area": null,
      "grid_auto_columns": null,
      "grid_auto_flow": null,
      "grid_auto_rows": null,
      "grid_column": null,
      "grid_gap": null,
      "grid_row": null,
      "grid_template_areas": null,
      "grid_template_columns": null,
      "grid_template_rows": null,
      "height": null,
      "justify_content": null,
      "justify_items": null,
      "left": null,
      "margin": null,
      "max_height": null,
      "max_width": null,
      "min_height": null,
      "min_width": null,
      "object_fit": null,
      "object_position": null,
      "order": null,
      "overflow": null,
      "overflow_x": null,
      "overflow_y": null,
      "padding": null,
      "right": null,
      "top": null,
      "visibility": null,
      "width": null
     }
    },
    "8358c7dcc6464d54bc9ad72b3e1e3cb9": {
     "model_module": "@jupyter-widgets/controls",
     "model_module_version": "1.5.0",
     "model_name": "HTMLModel",
     "state": {
      "_dom_classes": [],
      "_model_module": "@jupyter-widgets/controls",
      "_model_module_version": "1.5.0",
      "_model_name": "HTMLModel",
      "_view_count": null,
      "_view_module": "@jupyter-widgets/controls",
      "_view_module_version": "1.5.0",
      "_view_name": "HTMLView",
      "description": "",
      "description_tooltip": null,
      "layout": "IPY_MODEL_a556a807ce9a4676ae79a26e872d616c",
      "placeholder": "​",
      "style": "IPY_MODEL_49f99dc9aaf64e5da0627602432fc232",
      "value": "model.safetensors: 100%"
     }
    },
    "84aa53fbea174846ad8569b1286734ff": {
     "model_module": "@jupyter-widgets/base",
     "model_module_version": "1.2.0",
     "model_name": "LayoutModel",
     "state": {
      "_model_module": "@jupyter-widgets/base",
      "_model_module_version": "1.2.0",
      "_model_name": "LayoutModel",
      "_view_count": null,
      "_view_module": "@jupyter-widgets/base",
      "_view_module_version": "1.2.0",
      "_view_name": "LayoutView",
      "align_content": null,
      "align_items": null,
      "align_self": null,
      "border": null,
      "bottom": null,
      "display": null,
      "flex": null,
      "flex_flow": null,
      "grid_area": null,
      "grid_auto_columns": null,
      "grid_auto_flow": null,
      "grid_auto_rows": null,
      "grid_column": null,
      "grid_gap": null,
      "grid_row": null,
      "grid_template_areas": null,
      "grid_template_columns": null,
      "grid_template_rows": null,
      "height": null,
      "justify_content": null,
      "justify_items": null,
      "left": null,
      "margin": null,
      "max_height": null,
      "max_width": null,
      "min_height": null,
      "min_width": null,
      "object_fit": null,
      "object_position": null,
      "order": null,
      "overflow": null,
      "overflow_x": null,
      "overflow_y": null,
      "padding": null,
      "right": null,
      "top": null,
      "visibility": null,
      "width": null
     }
    },
    "86a1812ba91e4125a9e282543dc86907": {
     "model_module": "@jupyter-widgets/controls",
     "model_module_version": "1.5.0",
     "model_name": "DescriptionStyleModel",
     "state": {
      "_model_module": "@jupyter-widgets/controls",
      "_model_module_version": "1.5.0",
      "_model_name": "DescriptionStyleModel",
      "_view_count": null,
      "_view_module": "@jupyter-widgets/base",
      "_view_module_version": "1.2.0",
      "_view_name": "StyleView",
      "description_width": ""
     }
    },
    "883b24d139e84f5cbe2f6ca0e370e457": {
     "model_module": "@jupyter-widgets/controls",
     "model_module_version": "1.5.0",
     "model_name": "HTMLModel",
     "state": {
      "_dom_classes": [],
      "_model_module": "@jupyter-widgets/controls",
      "_model_module_version": "1.5.0",
      "_model_name": "HTMLModel",
      "_view_count": null,
      "_view_module": "@jupyter-widgets/controls",
      "_view_module_version": "1.5.0",
      "_view_name": "HTMLView",
      "description": "",
      "description_tooltip": null,
      "layout": "IPY_MODEL_7c19068b4d004bcd8908b70d294d62b4",
      "placeholder": "​",
      "style": "IPY_MODEL_2ab4cda38dc64830a9b5d547e551ea29",
      "value": "model.safetensors: 100%"
     }
    },
    "893ffed14a004ae5b0b3529d6658a9f8": {
     "model_module": "@jupyter-widgets/controls",
     "model_module_version": "1.5.0",
     "model_name": "HTMLModel",
     "state": {
      "_dom_classes": [],
      "_model_module": "@jupyter-widgets/controls",
      "_model_module_version": "1.5.0",
      "_model_name": "HTMLModel",
      "_view_count": null,
      "_view_module": "@jupyter-widgets/controls",
      "_view_module_version": "1.5.0",
      "_view_name": "HTMLView",
      "description": "",
      "description_tooltip": null,
      "layout": "IPY_MODEL_d2dcf1c2e35b4a6aae66a910d17ce5e5",
      "placeholder": "​",
      "style": "IPY_MODEL_86a1812ba91e4125a9e282543dc86907",
      "value": " 47.7M/47.7M [00:00&lt;00:00, 86.7MB/s]"
     }
    },
    "9145aaf17baa42ea99367d1b7167f62c": {
     "model_module": "@jupyter-widgets/base",
     "model_module_version": "1.2.0",
     "model_name": "LayoutModel",
     "state": {
      "_model_module": "@jupyter-widgets/base",
      "_model_module_version": "1.2.0",
      "_model_name": "LayoutModel",
      "_view_count": null,
      "_view_module": "@jupyter-widgets/base",
      "_view_module_version": "1.2.0",
      "_view_name": "LayoutView",
      "align_content": null,
      "align_items": null,
      "align_self": null,
      "border": null,
      "bottom": null,
      "display": null,
      "flex": null,
      "flex_flow": null,
      "grid_area": null,
      "grid_auto_columns": null,
      "grid_auto_flow": null,
      "grid_auto_rows": null,
      "grid_column": null,
      "grid_gap": null,
      "grid_row": null,
      "grid_template_areas": null,
      "grid_template_columns": null,
      "grid_template_rows": null,
      "height": null,
      "justify_content": null,
      "justify_items": null,
      "left": null,
      "margin": null,
      "max_height": null,
      "max_width": null,
      "min_height": null,
      "min_width": null,
      "object_fit": null,
      "object_position": null,
      "order": null,
      "overflow": null,
      "overflow_x": null,
      "overflow_y": null,
      "padding": null,
      "right": null,
      "top": null,
      "visibility": null,
      "width": null
     }
    },
    "9b80976c3b8945a384c1c822a4ca8737": {
     "model_module": "@jupyter-widgets/base",
     "model_module_version": "1.2.0",
     "model_name": "LayoutModel",
     "state": {
      "_model_module": "@jupyter-widgets/base",
      "_model_module_version": "1.2.0",
      "_model_name": "LayoutModel",
      "_view_count": null,
      "_view_module": "@jupyter-widgets/base",
      "_view_module_version": "1.2.0",
      "_view_name": "LayoutView",
      "align_content": null,
      "align_items": null,
      "align_self": null,
      "border": null,
      "bottom": null,
      "display": null,
      "flex": null,
      "flex_flow": null,
      "grid_area": null,
      "grid_auto_columns": null,
      "grid_auto_flow": null,
      "grid_auto_rows": null,
      "grid_column": null,
      "grid_gap": null,
      "grid_row": null,
      "grid_template_areas": null,
      "grid_template_columns": null,
      "grid_template_rows": null,
      "height": null,
      "justify_content": null,
      "justify_items": null,
      "left": null,
      "margin": null,
      "max_height": null,
      "max_width": null,
      "min_height": null,
      "min_width": null,
      "object_fit": null,
      "object_position": null,
      "order": null,
      "overflow": null,
      "overflow_x": null,
      "overflow_y": null,
      "padding": null,
      "right": null,
      "top": null,
      "visibility": null,
      "width": null
     }
    },
    "9c76e4be55c2438a81b263c29cb018db": {
     "model_module": "@jupyter-widgets/controls",
     "model_module_version": "1.5.0",
     "model_name": "HTMLModel",
     "state": {
      "_dom_classes": [],
      "_model_module": "@jupyter-widgets/controls",
      "_model_module_version": "1.5.0",
      "_model_name": "HTMLModel",
      "_view_count": null,
      "_view_module": "@jupyter-widgets/controls",
      "_view_module_version": "1.5.0",
      "_view_name": "HTMLView",
      "description": "",
      "description_tooltip": null,
      "layout": "IPY_MODEL_9145aaf17baa42ea99367d1b7167f62c",
      "placeholder": "​",
      "style": "IPY_MODEL_0d0510ae9d82419084ea45f9fb7311b0",
      "value": " 36.6M/36.6M [00:00&lt;00:00, 113MB/s]"
     }
    },
    "9da824379c3d46b986c917b3e61894c6": {
     "model_module": "@jupyter-widgets/controls",
     "model_module_version": "1.5.0",
     "model_name": "FloatProgressModel",
     "state": {
      "_dom_classes": [],
      "_model_module": "@jupyter-widgets/controls",
      "_model_module_version": "1.5.0",
      "_model_name": "FloatProgressModel",
      "_view_count": null,
      "_view_module": "@jupyter-widgets/controls",
      "_view_module_version": "1.5.0",
      "_view_name": "ProgressView",
      "bar_style": "success",
      "description": "",
      "description_tooltip": null,
      "layout": "IPY_MODEL_181f1c459bbb423f9b857c7b776b8b73",
      "max": 123917994,
      "min": 0,
      "orientation": "horizontal",
      "style": "IPY_MODEL_1a0623f272b74b78a175fb9efbbe3dc5",
      "value": 123917994
     }
    },
    "a0100333e3f147cc904d7409c0ae16b6": {
     "model_module": "@jupyter-widgets/base",
     "model_module_version": "1.2.0",
     "model_name": "LayoutModel",
     "state": {
      "_model_module": "@jupyter-widgets/base",
      "_model_module_version": "1.2.0",
      "_model_name": "LayoutModel",
      "_view_count": null,
      "_view_module": "@jupyter-widgets/base",
      "_view_module_version": "1.2.0",
      "_view_name": "LayoutView",
      "align_content": null,
      "align_items": null,
      "align_self": null,
      "border": null,
      "bottom": null,
      "display": null,
      "flex": null,
      "flex_flow": null,
      "grid_area": null,
      "grid_auto_columns": null,
      "grid_auto_flow": null,
      "grid_auto_rows": null,
      "grid_column": null,
      "grid_gap": null,
      "grid_row": null,
      "grid_template_areas": null,
      "grid_template_columns": null,
      "grid_template_rows": null,
      "height": null,
      "justify_content": null,
      "justify_items": null,
      "left": null,
      "margin": null,
      "max_height": null,
      "max_width": null,
      "min_height": null,
      "min_width": null,
      "object_fit": null,
      "object_position": null,
      "order": null,
      "overflow": null,
      "overflow_x": null,
      "overflow_y": null,
      "padding": null,
      "right": null,
      "top": null,
      "visibility": null,
      "width": null
     }
    },
    "a35774c665864b239f12693112d52129": {
     "model_module": "@jupyter-widgets/base",
     "model_module_version": "1.2.0",
     "model_name": "LayoutModel",
     "state": {
      "_model_module": "@jupyter-widgets/base",
      "_model_module_version": "1.2.0",
      "_model_name": "LayoutModel",
      "_view_count": null,
      "_view_module": "@jupyter-widgets/base",
      "_view_module_version": "1.2.0",
      "_view_name": "LayoutView",
      "align_content": null,
      "align_items": null,
      "align_self": null,
      "border": null,
      "bottom": null,
      "display": null,
      "flex": null,
      "flex_flow": null,
      "grid_area": null,
      "grid_auto_columns": null,
      "grid_auto_flow": null,
      "grid_auto_rows": null,
      "grid_column": null,
      "grid_gap": null,
      "grid_row": null,
      "grid_template_areas": null,
      "grid_template_columns": null,
      "grid_template_rows": null,
      "height": null,
      "justify_content": null,
      "justify_items": null,
      "left": null,
      "margin": null,
      "max_height": null,
      "max_width": null,
      "min_height": null,
      "min_width": null,
      "object_fit": null,
      "object_position": null,
      "order": null,
      "overflow": null,
      "overflow_x": null,
      "overflow_y": null,
      "padding": null,
      "right": null,
      "top": null,
      "visibility": null,
      "width": null
     }
    },
    "a43d5934af244e60a77146dcab9e0a39": {
     "model_module": "@jupyter-widgets/base",
     "model_module_version": "1.2.0",
     "model_name": "LayoutModel",
     "state": {
      "_model_module": "@jupyter-widgets/base",
      "_model_module_version": "1.2.0",
      "_model_name": "LayoutModel",
      "_view_count": null,
      "_view_module": "@jupyter-widgets/base",
      "_view_module_version": "1.2.0",
      "_view_name": "LayoutView",
      "align_content": null,
      "align_items": null,
      "align_self": null,
      "border": null,
      "bottom": null,
      "display": null,
      "flex": null,
      "flex_flow": null,
      "grid_area": null,
      "grid_auto_columns": null,
      "grid_auto_flow": null,
      "grid_auto_rows": null,
      "grid_column": null,
      "grid_gap": null,
      "grid_row": null,
      "grid_template_areas": null,
      "grid_template_columns": null,
      "grid_template_rows": null,
      "height": null,
      "justify_content": null,
      "justify_items": null,
      "left": null,
      "margin": null,
      "max_height": null,
      "max_width": null,
      "min_height": null,
      "min_width": null,
      "object_fit": null,
      "object_position": null,
      "order": null,
      "overflow": null,
      "overflow_x": null,
      "overflow_y": null,
      "padding": null,
      "right": null,
      "top": null,
      "visibility": null,
      "width": null
     }
    },
    "a556a807ce9a4676ae79a26e872d616c": {
     "model_module": "@jupyter-widgets/base",
     "model_module_version": "1.2.0",
     "model_name": "LayoutModel",
     "state": {
      "_model_module": "@jupyter-widgets/base",
      "_model_module_version": "1.2.0",
      "_model_name": "LayoutModel",
      "_view_count": null,
      "_view_module": "@jupyter-widgets/base",
      "_view_module_version": "1.2.0",
      "_view_name": "LayoutView",
      "align_content": null,
      "align_items": null,
      "align_self": null,
      "border": null,
      "bottom": null,
      "display": null,
      "flex": null,
      "flex_flow": null,
      "grid_area": null,
      "grid_auto_columns": null,
      "grid_auto_flow": null,
      "grid_auto_rows": null,
      "grid_column": null,
      "grid_gap": null,
      "grid_row": null,
      "grid_template_areas": null,
      "grid_template_columns": null,
      "grid_template_rows": null,
      "height": null,
      "justify_content": null,
      "justify_items": null,
      "left": null,
      "margin": null,
      "max_height": null,
      "max_width": null,
      "min_height": null,
      "min_width": null,
      "object_fit": null,
      "object_position": null,
      "order": null,
      "overflow": null,
      "overflow_x": null,
      "overflow_y": null,
      "padding": null,
      "right": null,
      "top": null,
      "visibility": null,
      "width": null
     }
    },
    "a7f5b9b81ce443738d78ecde9702c020": {
     "model_module": "@jupyter-widgets/base",
     "model_module_version": "1.2.0",
     "model_name": "LayoutModel",
     "state": {
      "_model_module": "@jupyter-widgets/base",
      "_model_module_version": "1.2.0",
      "_model_name": "LayoutModel",
      "_view_count": null,
      "_view_module": "@jupyter-widgets/base",
      "_view_module_version": "1.2.0",
      "_view_name": "LayoutView",
      "align_content": null,
      "align_items": null,
      "align_self": null,
      "border": null,
      "bottom": null,
      "display": null,
      "flex": null,
      "flex_flow": null,
      "grid_area": null,
      "grid_auto_columns": null,
      "grid_auto_flow": null,
      "grid_auto_rows": null,
      "grid_column": null,
      "grid_gap": null,
      "grid_row": null,
      "grid_template_areas": null,
      "grid_template_columns": null,
      "grid_template_rows": null,
      "height": null,
      "justify_content": null,
      "justify_items": null,
      "left": null,
      "margin": null,
      "max_height": null,
      "max_width": null,
      "min_height": null,
      "min_width": null,
      "object_fit": null,
      "object_position": null,
      "order": null,
      "overflow": null,
      "overflow_x": null,
      "overflow_y": null,
      "padding": null,
      "right": null,
      "top": null,
      "visibility": null,
      "width": null
     }
    },
    "ade40b43ae9e4110a81b29b152b5b9f7": {
     "model_module": "@jupyter-widgets/controls",
     "model_module_version": "1.5.0",
     "model_name": "HTMLModel",
     "state": {
      "_dom_classes": [],
      "_model_module": "@jupyter-widgets/controls",
      "_model_module_version": "1.5.0",
      "_model_name": "HTMLModel",
      "_view_count": null,
      "_view_module": "@jupyter-widgets/controls",
      "_view_module_version": "1.5.0",
      "_view_name": "HTMLView",
      "description": "",
      "description_tooltip": null,
      "layout": "IPY_MODEL_4f1f4c9b05b34153aa6cfe38051a859e",
      "placeholder": "​",
      "style": "IPY_MODEL_4b1b882b3a5742d0b57608ac7549a9af",
      "value": "model.safetensors: 100%"
     }
    },
    "b8df530ce45a4139a4c4067227ba2697": {
     "model_module": "@jupyter-widgets/base",
     "model_module_version": "1.2.0",
     "model_name": "LayoutModel",
     "state": {
      "_model_module": "@jupyter-widgets/base",
      "_model_module_version": "1.2.0",
      "_model_name": "LayoutModel",
      "_view_count": null,
      "_view_module": "@jupyter-widgets/base",
      "_view_module_version": "1.2.0",
      "_view_name": "LayoutView",
      "align_content": null,
      "align_items": null,
      "align_self": null,
      "border": null,
      "bottom": null,
      "display": null,
      "flex": null,
      "flex_flow": null,
      "grid_area": null,
      "grid_auto_columns": null,
      "grid_auto_flow": null,
      "grid_auto_rows": null,
      "grid_column": null,
      "grid_gap": null,
      "grid_row": null,
      "grid_template_areas": null,
      "grid_template_columns": null,
      "grid_template_rows": null,
      "height": null,
      "justify_content": null,
      "justify_items": null,
      "left": null,
      "margin": null,
      "max_height": null,
      "max_width": null,
      "min_height": null,
      "min_width": null,
      "object_fit": null,
      "object_position": null,
      "order": null,
      "overflow": null,
      "overflow_x": null,
      "overflow_y": null,
      "padding": null,
      "right": null,
      "top": null,
      "visibility": null,
      "width": null
     }
    },
    "bf02021c7aae427e850377878e13ef3b": {
     "model_module": "@jupyter-widgets/controls",
     "model_module_version": "1.5.0",
     "model_name": "DescriptionStyleModel",
     "state": {
      "_model_module": "@jupyter-widgets/controls",
      "_model_module_version": "1.5.0",
      "_model_name": "DescriptionStyleModel",
      "_view_count": null,
      "_view_module": "@jupyter-widgets/base",
      "_view_module_version": "1.2.0",
      "_view_name": "StyleView",
      "description_width": ""
     }
    },
    "c0b9ececf91445bf94b245d8a26cd81f": {
     "model_module": "@jupyter-widgets/base",
     "model_module_version": "1.2.0",
     "model_name": "LayoutModel",
     "state": {
      "_model_module": "@jupyter-widgets/base",
      "_model_module_version": "1.2.0",
      "_model_name": "LayoutModel",
      "_view_count": null,
      "_view_module": "@jupyter-widgets/base",
      "_view_module_version": "1.2.0",
      "_view_name": "LayoutView",
      "align_content": null,
      "align_items": null,
      "align_self": null,
      "border": null,
      "bottom": null,
      "display": null,
      "flex": null,
      "flex_flow": null,
      "grid_area": null,
      "grid_auto_columns": null,
      "grid_auto_flow": null,
      "grid_auto_rows": null,
      "grid_column": null,
      "grid_gap": null,
      "grid_row": null,
      "grid_template_areas": null,
      "grid_template_columns": null,
      "grid_template_rows": null,
      "height": null,
      "justify_content": null,
      "justify_items": null,
      "left": null,
      "margin": null,
      "max_height": null,
      "max_width": null,
      "min_height": null,
      "min_width": null,
      "object_fit": null,
      "object_position": null,
      "order": null,
      "overflow": null,
      "overflow_x": null,
      "overflow_y": null,
      "padding": null,
      "right": null,
      "top": null,
      "visibility": null,
      "width": null
     }
    },
    "c310234d36254596978bfcebdc72fbdf": {
     "model_module": "@jupyter-widgets/controls",
     "model_module_version": "1.5.0",
     "model_name": "HTMLModel",
     "state": {
      "_dom_classes": [],
      "_model_module": "@jupyter-widgets/controls",
      "_model_module_version": "1.5.0",
      "_model_name": "HTMLModel",
      "_view_count": null,
      "_view_module": "@jupyter-widgets/controls",
      "_view_module_version": "1.5.0",
      "_view_name": "HTMLView",
      "description": "",
      "description_tooltip": null,
      "layout": "IPY_MODEL_e3307514cdb44cecabef1b862f034857",
      "placeholder": "​",
      "style": "IPY_MODEL_5fe8a977b93e470980ccd924ff92b567",
      "value": " 110M/110M [00:00&lt;00:00, 223MB/s]"
     }
    },
    "ced619dd540e475c84fed5e96ff3d5cd": {
     "model_module": "@jupyter-widgets/controls",
     "model_module_version": "1.5.0",
     "model_name": "FloatProgressModel",
     "state": {
      "_dom_classes": [],
      "_model_module": "@jupyter-widgets/controls",
      "_model_module_version": "1.5.0",
      "_model_name": "FloatProgressModel",
      "_view_count": null,
      "_view_module": "@jupyter-widgets/controls",
      "_view_module_version": "1.5.0",
      "_view_name": "ProgressView",
      "bar_style": "success",
      "description": "",
      "description_tooltip": null,
      "layout": "IPY_MODEL_c0b9ececf91445bf94b245d8a26cd81f",
      "max": 36565360,
      "min": 0,
      "orientation": "horizontal",
      "style": "IPY_MODEL_e3e2fa2d041a4be49c079329766b88cb",
      "value": 36565360
     }
    },
    "d1f9ed976f15431e8ed095a6907e3d05": {
     "model_module": "@jupyter-widgets/controls",
     "model_module_version": "1.5.0",
     "model_name": "DescriptionStyleModel",
     "state": {
      "_model_module": "@jupyter-widgets/controls",
      "_model_module_version": "1.5.0",
      "_model_name": "DescriptionStyleModel",
      "_view_count": null,
      "_view_module": "@jupyter-widgets/base",
      "_view_module_version": "1.2.0",
      "_view_name": "StyleView",
      "description_width": ""
     }
    },
    "d2dcf1c2e35b4a6aae66a910d17ce5e5": {
     "model_module": "@jupyter-widgets/base",
     "model_module_version": "1.2.0",
     "model_name": "LayoutModel",
     "state": {
      "_model_module": "@jupyter-widgets/base",
      "_model_module_version": "1.2.0",
      "_model_name": "LayoutModel",
      "_view_count": null,
      "_view_module": "@jupyter-widgets/base",
      "_view_module_version": "1.2.0",
      "_view_name": "LayoutView",
      "align_content": null,
      "align_items": null,
      "align_self": null,
      "border": null,
      "bottom": null,
      "display": null,
      "flex": null,
      "flex_flow": null,
      "grid_area": null,
      "grid_auto_columns": null,
      "grid_auto_flow": null,
      "grid_auto_rows": null,
      "grid_column": null,
      "grid_gap": null,
      "grid_row": null,
      "grid_template_areas": null,
      "grid_template_columns": null,
      "grid_template_rows": null,
      "height": null,
      "justify_content": null,
      "justify_items": null,
      "left": null,
      "margin": null,
      "max_height": null,
      "max_width": null,
      "min_height": null,
      "min_width": null,
      "object_fit": null,
      "object_position": null,
      "order": null,
      "overflow": null,
      "overflow_x": null,
      "overflow_y": null,
      "padding": null,
      "right": null,
      "top": null,
      "visibility": null,
      "width": null
     }
    },
    "d9a6c118786a4094be6e5e7b041633bf": {
     "model_module": "@jupyter-widgets/controls",
     "model_module_version": "1.5.0",
     "model_name": "FloatProgressModel",
     "state": {
      "_dom_classes": [],
      "_model_module": "@jupyter-widgets/controls",
      "_model_module_version": "1.5.0",
      "_model_name": "FloatProgressModel",
      "_view_count": null,
      "_view_module": "@jupyter-widgets/controls",
      "_view_module_version": "1.5.0",
      "_view_name": "ProgressView",
      "bar_style": "success",
      "description": "",
      "description_tooltip": null,
      "layout": "IPY_MODEL_b8df530ce45a4139a4c4067227ba2697",
      "max": 36565360,
      "min": 0,
      "orientation": "horizontal",
      "style": "IPY_MODEL_59ca09edaaa14fc89fe051bfca1a5171",
      "value": 36565360
     }
    },
    "de8cc20a0f0c4f7eb1c078b32fe8b2ce": {
     "model_module": "@jupyter-widgets/controls",
     "model_module_version": "1.5.0",
     "model_name": "HBoxModel",
     "state": {
      "_dom_classes": [],
      "_model_module": "@jupyter-widgets/controls",
      "_model_module_version": "1.5.0",
      "_model_name": "HBoxModel",
      "_view_count": null,
      "_view_module": "@jupyter-widgets/controls",
      "_view_module_version": "1.5.0",
      "_view_name": "HBoxView",
      "box_style": "",
      "children": [
       "IPY_MODEL_8358c7dcc6464d54bc9ad72b3e1e3cb9",
       "IPY_MODEL_ced619dd540e475c84fed5e96ff3d5cd",
       "IPY_MODEL_48223f1141ac43268c2c8fe78de566b7"
      ],
      "layout": "IPY_MODEL_6bf8cb3731df4c8ab5f641bc21c3c401"
     }
    },
    "e15ec4fa88d34872a64829f3a7b7d644": {
     "model_module": "@jupyter-widgets/base",
     "model_module_version": "1.2.0",
     "model_name": "LayoutModel",
     "state": {
      "_model_module": "@jupyter-widgets/base",
      "_model_module_version": "1.2.0",
      "_model_name": "LayoutModel",
      "_view_count": null,
      "_view_module": "@jupyter-widgets/base",
      "_view_module_version": "1.2.0",
      "_view_name": "LayoutView",
      "align_content": null,
      "align_items": null,
      "align_self": null,
      "border": null,
      "bottom": null,
      "display": null,
      "flex": null,
      "flex_flow": null,
      "grid_area": null,
      "grid_auto_columns": null,
      "grid_auto_flow": null,
      "grid_auto_rows": null,
      "grid_column": null,
      "grid_gap": null,
      "grid_row": null,
      "grid_template_areas": null,
      "grid_template_columns": null,
      "grid_template_rows": null,
      "height": null,
      "justify_content": null,
      "justify_items": null,
      "left": null,
      "margin": null,
      "max_height": null,
      "max_width": null,
      "min_height": null,
      "min_width": null,
      "object_fit": null,
      "object_position": null,
      "order": null,
      "overflow": null,
      "overflow_x": null,
      "overflow_y": null,
      "padding": null,
      "right": null,
      "top": null,
      "visibility": null,
      "width": null
     }
    },
    "e2157381e3e94dbc8d5c2ca24b898eae": {
     "model_module": "@jupyter-widgets/controls",
     "model_module_version": "1.5.0",
     "model_name": "HBoxModel",
     "state": {
      "_dom_classes": [],
      "_model_module": "@jupyter-widgets/controls",
      "_model_module_version": "1.5.0",
      "_model_name": "HBoxModel",
      "_view_count": null,
      "_view_module": "@jupyter-widgets/controls",
      "_view_module_version": "1.5.0",
      "_view_name": "HBoxView",
      "box_style": "",
      "children": [
       "IPY_MODEL_4f4dcf5697d44a0fbd151cc4068b8759",
       "IPY_MODEL_d9a6c118786a4094be6e5e7b041633bf",
       "IPY_MODEL_9c76e4be55c2438a81b263c29cb018db"
      ],
      "layout": "IPY_MODEL_e15ec4fa88d34872a64829f3a7b7d644"
     }
    },
    "e3307514cdb44cecabef1b862f034857": {
     "model_module": "@jupyter-widgets/base",
     "model_module_version": "1.2.0",
     "model_name": "LayoutModel",
     "state": {
      "_model_module": "@jupyter-widgets/base",
      "_model_module_version": "1.2.0",
      "_model_name": "LayoutModel",
      "_view_count": null,
      "_view_module": "@jupyter-widgets/base",
      "_view_module_version": "1.2.0",
      "_view_name": "LayoutView",
      "align_content": null,
      "align_items": null,
      "align_self": null,
      "border": null,
      "bottom": null,
      "display": null,
      "flex": null,
      "flex_flow": null,
      "grid_area": null,
      "grid_auto_columns": null,
      "grid_auto_flow": null,
      "grid_auto_rows": null,
      "grid_column": null,
      "grid_gap": null,
      "grid_row": null,
      "grid_template_areas": null,
      "grid_template_columns": null,
      "grid_template_rows": null,
      "height": null,
      "justify_content": null,
      "justify_items": null,
      "left": null,
      "margin": null,
      "max_height": null,
      "max_width": null,
      "min_height": null,
      "min_width": null,
      "object_fit": null,
      "object_position": null,
      "order": null,
      "overflow": null,
      "overflow_x": null,
      "overflow_y": null,
      "padding": null,
      "right": null,
      "top": null,
      "visibility": null,
      "width": null
     }
    },
    "e3e2fa2d041a4be49c079329766b88cb": {
     "model_module": "@jupyter-widgets/controls",
     "model_module_version": "1.5.0",
     "model_name": "ProgressStyleModel",
     "state": {
      "_model_module": "@jupyter-widgets/controls",
      "_model_module_version": "1.5.0",
      "_model_name": "ProgressStyleModel",
      "_view_count": null,
      "_view_module": "@jupyter-widgets/base",
      "_view_module_version": "1.2.0",
      "_view_name": "StyleView",
      "bar_color": null,
      "description_width": ""
     }
    },
    "f0293a56eaf149f986ca49fcfc6c1de7": {
     "model_module": "@jupyter-widgets/controls",
     "model_module_version": "1.5.0",
     "model_name": "DescriptionStyleModel",
     "state": {
      "_model_module": "@jupyter-widgets/controls",
      "_model_module_version": "1.5.0",
      "_model_name": "DescriptionStyleModel",
      "_view_count": null,
      "_view_module": "@jupyter-widgets/base",
      "_view_module_version": "1.2.0",
      "_view_name": "StyleView",
      "description_width": ""
     }
    },
    "f495eee191d844d6ac3c54ebe0da8a07": {
     "model_module": "@jupyter-widgets/controls",
     "model_module_version": "1.5.0",
     "model_name": "ProgressStyleModel",
     "state": {
      "_model_module": "@jupyter-widgets/controls",
      "_model_module_version": "1.5.0",
      "_model_name": "ProgressStyleModel",
      "_view_count": null,
      "_view_module": "@jupyter-widgets/base",
      "_view_module_version": "1.2.0",
      "_view_name": "StyleView",
      "bar_color": null,
      "description_width": ""
     }
    },
    "f9756434071842a5b03e599408931666": {
     "model_module": "@jupyter-widgets/controls",
     "model_module_version": "1.5.0",
     "model_name": "FloatProgressModel",
     "state": {
      "_dom_classes": [],
      "_model_module": "@jupyter-widgets/controls",
      "_model_module_version": "1.5.0",
      "_model_name": "FloatProgressModel",
      "_view_count": null,
      "_view_module": "@jupyter-widgets/controls",
      "_view_module_version": "1.5.0",
      "_view_name": "ProgressView",
      "bar_style": "success",
      "description": "",
      "description_tooltip": null,
      "layout": "IPY_MODEL_72193b25e06c4e14aa4ca0cb797e4d8a",
      "max": 109813430,
      "min": 0,
      "orientation": "horizontal",
      "style": "IPY_MODEL_62e789a17980432994b2ad1a63ddd123",
      "value": 109813430
     }
    }
   }
  }
 },
 "nbformat": 4,
 "nbformat_minor": 4
}
